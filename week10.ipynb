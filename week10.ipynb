{
 "cells": [
  {
   "cell_type": "markdown",
   "metadata": {},
   "source": [
    "### Week 10 Activities"
   ]
  },
  {
   "cell_type": "markdown",
   "metadata": {},
   "source": [
    "**1. Read data samples from `week-10/datasets/Clustering-Datasets-master/02. Synthetic/3MC.csv`. There are 400 two-dimensional (i.e., the dimension being x and y) samples in the csv.**"
   ]
  },
  {
   "cell_type": "code",
   "execution_count": 3,
   "metadata": {},
   "outputs": [
    {
     "data": {
      "text/html": [
       "<div>\n",
       "<style scoped>\n",
       "    .dataframe tbody tr th:only-of-type {\n",
       "        vertical-align: middle;\n",
       "    }\n",
       "\n",
       "    .dataframe tbody tr th {\n",
       "        vertical-align: top;\n",
       "    }\n",
       "\n",
       "    .dataframe thead th {\n",
       "        text-align: right;\n",
       "    }\n",
       "</style>\n",
       "<table border=\"1\" class=\"dataframe\">\n",
       "  <thead>\n",
       "    <tr style=\"text-align: right;\">\n",
       "      <th></th>\n",
       "      <th>x</th>\n",
       "      <th>y</th>\n",
       "      <th>class</th>\n",
       "    </tr>\n",
       "  </thead>\n",
       "  <tbody>\n",
       "    <tr>\n",
       "      <th>0</th>\n",
       "      <td>-3.053</td>\n",
       "      <td>0.787</td>\n",
       "      <td>1</td>\n",
       "    </tr>\n",
       "    <tr>\n",
       "      <th>1</th>\n",
       "      <td>-2.535</td>\n",
       "      <td>1.088</td>\n",
       "      <td>1</td>\n",
       "    </tr>\n",
       "    <tr>\n",
       "      <th>2</th>\n",
       "      <td>-2.667</td>\n",
       "      <td>0.611</td>\n",
       "      <td>1</td>\n",
       "    </tr>\n",
       "    <tr>\n",
       "      <th>3</th>\n",
       "      <td>-2.598</td>\n",
       "      <td>1.323</td>\n",
       "      <td>1</td>\n",
       "    </tr>\n",
       "    <tr>\n",
       "      <th>4</th>\n",
       "      <td>2.173</td>\n",
       "      <td>0.864</td>\n",
       "      <td>1</td>\n",
       "    </tr>\n",
       "  </tbody>\n",
       "</table>\n",
       "</div>"
      ],
      "text/plain": [
       "       x      y  class\n",
       "0 -3.053  0.787      1\n",
       "1 -2.535  1.088      1\n",
       "2 -2.667  0.611      1\n",
       "3 -2.598  1.323      1\n",
       "4  2.173  0.864      1"
      ]
     },
     "execution_count": 3,
     "metadata": {},
     "output_type": "execute_result"
    }
   ],
   "source": [
    "import pandas as pd\n",
    "df = pd.read_csv('datasets/3MC.csv')\n",
    "df.head()"
   ]
  },
  {
   "cell_type": "markdown",
   "metadata": {},
   "source": [
    "**2. Split the datset into training and test (80%/20% split)**\n"
   ]
  },
  {
   "cell_type": "code",
   "execution_count": 4,
   "metadata": {},
   "outputs": [
    {
     "data": {
      "text/plain": [
       "(       x      y\n",
       " 0 -3.053  0.787\n",
       " 1 -2.535  1.088\n",
       " 2 -2.667  0.611\n",
       " 3 -2.598  1.323\n",
       " 4  2.173  0.864,\n",
       " 0    1\n",
       " 1    1\n",
       " 2    1\n",
       " 3    1\n",
       " 4    1\n",
       " Name: class, dtype: int64)"
      ]
     },
     "execution_count": 4,
     "metadata": {},
     "output_type": "execute_result"
    }
   ],
   "source": [
    "X = df.drop(columns=['class'])\n",
    "y = df['class']\n",
    "X.head(), y.head()"
   ]
  },
  {
   "cell_type": "code",
   "execution_count": 6,
   "metadata": {},
   "outputs": [
    {
     "name": "stdout",
     "output_type": "stream",
     "text": [
      "(320, 2) (320,)\n",
      "(80, 2) (80,)\n"
     ]
    }
   ],
   "source": [
    "from sklearn.model_selection import train_test_split\n",
    "\n",
    "X_train, X_test, y_train, y_test = train_test_split(X, y, test_size=0.2, random_state=0)\n",
    "print(X_train.shape, y_train.shape)\n",
    "print(X_test.shape, y_test.shape)"
   ]
  },
  {
   "cell_type": "code",
   "execution_count": 84,
   "metadata": {},
   "outputs": [
    {
     "data": {
      "image/png": "[encoded data removed]",
      "text/plain": [
       "<Figure size 640x480 with 1 Axes>"
      ]
     },
     "metadata": {},
     "output_type": "display_data"
    }
   ],
   "source": [
    "import matplotlib.pyplot as plt\n",
    "\n",
    "plt.scatter(X_train['x'], X_train['y'])\n",
    "plt.show()"
   ]
  },
  {
   "cell_type": "code",
   "execution_count": 61,
   "metadata": {},
   "outputs": [
    {
     "data": {
      "text/html": [
       "<div>\n",
       "<style scoped>\n",
       "    .dataframe tbody tr th:only-of-type {\n",
       "        vertical-align: middle;\n",
       "    }\n",
       "\n",
       "    .dataframe tbody tr th {\n",
       "        vertical-align: top;\n",
       "    }\n",
       "\n",
       "    .dataframe thead th {\n",
       "        text-align: right;\n",
       "    }\n",
       "</style>\n",
       "<table border=\"1\" class=\"dataframe\">\n",
       "  <thead>\n",
       "    <tr style=\"text-align: right;\">\n",
       "      <th></th>\n",
       "      <th>x</th>\n",
       "      <th>y</th>\n",
       "    </tr>\n",
       "  </thead>\n",
       "  <tbody>\n",
       "    <tr>\n",
       "      <th>336</th>\n",
       "      <td>-4.074</td>\n",
       "      <td>10.088</td>\n",
       "    </tr>\n",
       "    <tr>\n",
       "      <th>64</th>\n",
       "      <td>-0.767</td>\n",
       "      <td>1.219</td>\n",
       "    </tr>\n",
       "    <tr>\n",
       "      <th>55</th>\n",
       "      <td>-1.297</td>\n",
       "      <td>0.868</td>\n",
       "    </tr>\n",
       "    <tr>\n",
       "      <th>106</th>\n",
       "      <td>1.578</td>\n",
       "      <td>0.824</td>\n",
       "    </tr>\n",
       "    <tr>\n",
       "      <th>300</th>\n",
       "      <td>-3.660</td>\n",
       "      <td>9.377</td>\n",
       "    </tr>\n",
       "    <tr>\n",
       "      <th>...</th>\n",
       "      <td>...</td>\n",
       "      <td>...</td>\n",
       "    </tr>\n",
       "    <tr>\n",
       "      <th>323</th>\n",
       "      <td>-2.893</td>\n",
       "      <td>8.966</td>\n",
       "    </tr>\n",
       "    <tr>\n",
       "      <th>192</th>\n",
       "      <td>1.158</td>\n",
       "      <td>5.225</td>\n",
       "    </tr>\n",
       "    <tr>\n",
       "      <th>117</th>\n",
       "      <td>3.975</td>\n",
       "      <td>1.353</td>\n",
       "    </tr>\n",
       "    <tr>\n",
       "      <th>47</th>\n",
       "      <td>-3.480</td>\n",
       "      <td>1.211</td>\n",
       "    </tr>\n",
       "    <tr>\n",
       "      <th>172</th>\n",
       "      <td>3.177</td>\n",
       "      <td>5.489</td>\n",
       "    </tr>\n",
       "  </tbody>\n",
       "</table>\n",
       "<p>320 rows × 2 columns</p>\n",
       "</div>"
      ],
      "text/plain": [
       "         x       y\n",
       "336 -4.074  10.088\n",
       "64  -0.767   1.219\n",
       "55  -1.297   0.868\n",
       "106  1.578   0.824\n",
       "300 -3.660   9.377\n",
       "..     ...     ...\n",
       "323 -2.893   8.966\n",
       "192  1.158   5.225\n",
       "117  3.975   1.353\n",
       "47  -3.480   1.211\n",
       "172  3.177   5.489\n",
       "\n",
       "[320 rows x 2 columns]"
      ]
     },
     "execution_count": 61,
     "metadata": {},
     "output_type": "execute_result"
    }
   ],
   "source": [
    "X_train"
   ]
  },
  {
   "cell_type": "markdown",
   "metadata": {},
   "source": [
    "**3. Use the training set to find 3 clusters of the dataset. **PLEASE DO NOT USE scikit-learn** based clustering libraries. Write your own k-means method implementation.**\n",
    "- 1. Randomly select 3 centroids from the dataset\n",
    "- 2. For each data point, calculate the Euclidean distance to each of the centroids, and assign the point to the nearest centroid’s cluster.\n",
    "- 3. For each cluster, recalculate the centroid by finding the mean of all points assigned to that cluster.\n",
    "- 4. Repeat steps 2 and 3 until the centroids no longer change significantly (i.e., convergence) or until a maximum number of iterations is reached.\n",
    "- https://towardsdatascience.com/k-means-without-libraries-python-feb3572e2eef"
   ]
  },
  {
   "cell_type": "code",
   "execution_count": 92,
   "metadata": {},
   "outputs": [
    {
     "name": "stdout",
     "output_type": "stream",
     "text": [
      "[array([0.10276364, 1.4474    ]), array([1.70038017, 7.2998843 ]), array([-2.67062921, 10.49434831])]\n",
      "{0: [array([-0.767,  1.219]), array([-1.297,  0.868]), array([1.578, 0.824]), array([-1.516,  1.203]), array([0.52 , 1.155]), array([0.293, 4.847]), array([0.554, 3.051]), array([0.106, 1.458]), array([-0.394,  0.854]), array([1.493, 3.438]), array([3.876, 1.023]), array([2.061, 0.894]), array([-4.58 ,  1.124]), array([1.87 , 0.805]), array([4.367, 0.964]), array([0.687, 4.007]), array([2.693, 1.038]), array([3.486, 1.483]), array([-1.52 ,  1.517]), array([2.357, 0.693]), array([2.767, 1.281]), array([-3.831,  1.061]), array([1.343, 3.587]), array([-3.825,  0.975]), array([2.012, 0.927]), array([1.373, 0.827]), array([0.332, 4.14 ]), array([3.213, 0.846]), array([3.715, 1.502]), array([2.31 , 1.506]), array([-1.009,  0.669]), array([3.695, 1.299]), array([3.468, 1.542]), array([-0.088,  0.893]), array([-0.857,  0.981]), array([-0.494,  0.743]), array([-2.33 ,  0.901]), array([-4.393,  1.371]), array([-2.667,  0.611]), array([3.889, 0.644]), array([0.284, 4.603]), array([-0.581,  1.541]), array([0.597, 1.031]), array([-2.996,  0.668]), array([3.106, 0.746]), array([-2.643,  0.616]), array([3.566, 1.288]), array([0.605, 1.402]), array([3.689, 0.96 ]), array([0.382, 3.245]), array([-0.363,  0.971]), array([0.319, 1.149]), array([0.844, 3.742]), array([0.767, 0.768]), array([-1.131,  1.172]), array([0.404, 1.233]), array([-3.453,  1.371]), array([0.128, 1.446]), array([-0.163,  1.078]), array([-2.352,  1.554]), array([-0.77 ,  1.401]), array([-2.598,  1.323]), array([1.923, 3.626]), array([-3.621,  0.854]), array([0.228, 3.285]), array([-1.173,  0.894]), array([-3.46 ,  0.868]), array([-4.418,  0.845]), array([-1.021,  1.156]), array([-1.776,  1.122]), array([-0.949,  0.628]), array([-0.952,  1.485]), array([2.133, 3.011]), array([-0.956,  1.342]), array([-1.969,  0.901]), array([0.898, 1.26 ]), array([-3.053,  0.787]), array([-1.027,  1.042]), array([-1.707,  1.024]), array([3.86 , 0.743]), array([3.407, 1.408]), array([-0.642,  0.825]), array([2.051, 1.406]), array([3.679, 1.513]), array([-2.588,  0.67 ]), array([-2.932,  0.79 ]), array([-3.205,  1.021]), array([1.113, 3.059]), array([-2.198,  1.493]), array([2.72 , 0.655]), array([-0.105,  0.834]), array([4.044, 1.107]), array([-3.509,  0.876]), array([2.298, 3.02 ]), array([0.926, 1.275]), array([0.161, 0.716]), array([1.695, 3.234]), array([2.032, 0.653]), array([2.501, 3.168]), array([3.003, 1.04 ]), array([0.759, 3.91 ]), array([1.96 , 0.668]), array([-3.557,  1.064]), array([-4.164,  1.255]), array([-2.588,  0.978]), array([-2.11 ,  1.324]), array([1.451, 0.751]), array([-0.484,  0.985]), array([3.975, 1.353]), array([-3.48 ,  1.211])], 1: [array([2.015, 6.743]), array([2.688, 4.617]), array([ 1.006, 10.661]), array([1.389, 5.12 ]), array([2.943, 5.737]), array([2.676, 9.423]), array([3.159, 5.441]), array([2.935, 5.248]), array([1.033, 6.619]), array([ 2.958, 10.706]), array([3.138, 3.289]), array([1.786, 7.423]), array([0.372, 9.437]), array([1.243, 5.416]), array([2.212, 7.378]), array([1.961, 7.116]), array([2.999, 4.535]), array([0.627, 8.294]), array([1.93 , 5.792]), array([2.405, 5.605]), array([1.343, 5.651]), array([1.804, 9.068]), array([ 2.772, 10.307]), array([0.484, 6.979]), array([1.747, 8.187]), array([2.107, 9.556]), array([3.058, 5.795]), array([0.575, 7.954]), array([0.973, 6.264]), array([1.41 , 8.452]), array([1.905, 9.392]), array([1.078, 7.116]), array([1.291, 9.276]), array([ 1.107, 10.245]), array([ 1.875, 10.264]), array([2.268, 4.942]), array([0.707, 8.583]), array([0.581, 8.696]), array([2.216, 4.835]), array([1.008, 4.495]), array([2.468, 6.952]), array([ 3.091, 10.019]), array([ 0.769, 10.032]), array([1.441, 7.651]), array([1.601, 9.08 ]), array([1.159, 5.389]), array([2.397, 6.431]), array([1.899, 9.309]), array([1.141, 8.064]), array([1.476, 6.637]), array([0.454, 5.4  ]), array([ 2.286, 10.883]), array([0.43 , 5.775]), array([1.255, 9.513]), array([1.56 , 9.042]), array([3.003, 8.206]), array([3.114, 4.254]), array([1.4  , 8.526]), array([3.154, 7.732]), array([0.76 , 5.068]), array([2.683, 4.207]), array([1.971, 6.905]), array([ 1.712, 10.293]), array([0.494, 7.172]), array([2.601, 4.711]), array([1.054, 5.603]), array([1.001, 8.21 ]), array([1.063, 7.043]), array([1.724, 9.077]), array([1.253, 5.413]), array([1.803, 4.395]), array([0.571, 9.919]), array([2.958, 9.131]), array([ 1.269, 10.759]), array([0.673, 9.237]), array([2.567, 5.168]), array([2.259, 3.498]), array([3.167, 4.364]), array([ 1.106, 10.27 ]), array([0.544, 7.859]), array([3.135, 3.071]), array([0.324, 9.338]), array([ 0.876, 10.907]), array([ 2.341, 10.513]), array([0.393, 4.949]), array([1.342, 5.436]), array([2.855, 5.279]), array([ 2.256, 10.813]), array([3.024, 7.522]), array([0.378, 6.224]), array([2.571, 7.941]), array([1.88, 7.83]), array([ 1.129, 10.721]), array([2.366, 5.688]), array([0.796, 9.325]), array([1.804, 4.46 ]), array([0.468, 7.002]), array([0.219, 6.065]), array([0.773, 6.442]), array([2.811, 6.222]), array([0.342, 5.024]), array([2.602, 5.893]), array([0.91 , 9.106]), array([1.422, 6.469]), array([1.211, 9.303]), array([0.668, 8.206]), array([1.86 , 8.525]), array([3.173, 3.227]), array([ 2.405, 10.802]), array([1.347, 4.771]), array([2.212, 6.07 ]), array([1.567, 5.681]), array([0.779, 5.556]), array([ 2.673, 10.47 ]), array([0.454, 4.94 ]), array([ 3.169, 10.32 ]), array([1.562, 4.295]), array([ 0.848, 10.885]), array([1.351, 9.427]), array([1.158, 5.225]), array([3.177, 5.489])], 2: [array([-4.074, 10.088]), array([-3.66 ,  9.377]), array([-3.512,  9.268]), array([-3.295, 11.699]), array([-3.768,  9.673]), array([-3.553,  9.303]), array([-3.004, 11.855]), array([-4.144, 10.217]), array([-2.741, 11.898]), array([-1.511, 11.515]), array([-2.282, 11.889]), array([-4.013, 10.763]), array([-1.402, 11.239]), array([-3.103, 11.737]), array([-0.997, 10.505]), array([-1.911,  9.   ]), array([-3.88 ,  9.673]), array([-1.765, 11.629]), array([-1.266, 10.913]), array([-1.044,  9.862]), array([-3.12 ,  9.052]), array([-3.022,  9.03 ]), array([-3.885, 11.01 ]), array([-3.894,  9.605]), array([-3.893,  9.887]), array([-3.981, 10.737]), array([-1.681, 11.672]), array([-1.187, 10.374]), array([-1.177,  9.65 ]), array([-4.06 , 10.531]), array([-1.479, 11.442]), array([-4.054, 10.348]), array([-3.288, 11.737]), array([-3.864,  9.627]), array([-3.111,  9.076]), array([-3.871, 11.104]), array([-3.898, 11.239]), array([-3.161,  8.99 ]), array([-1.174,  9.583]), array([-2.732,  8.928]), array([-3.957, 10.4  ]), array([-1.321,  9.719]), array([-2.807, 11.867]), array([-1.049, 10.165]), array([-3.949,  9.719]), array([-1.238,  9.497]), array([-3.701, 11.239]), array([-4.147, 10.788]), array([-1.45 , 11.515]), array([-1.782, 11.699]), array([-3.906, 10.374]), array([-3.867,  9.79 ]), array([-4.072, 10.763]), array([-2.185, 11.877]), array([-1.278,  9.583]), array([-3.766,  9.719]), array([-1.427,  9.416]), array([-1.728, 11.566]), array([-1.584,  9.358]), array([-1.118, 10.14 ]), array([-2.181, 11.81 ]), array([-1.058, 10.635]), array([-1.052, 10.788]), array([-3.034,  8.945]), array([-1.886, 11.686]), array([-3.83 , 11.195]), array([-1.369, 11.26 ]), array([-1.751, 11.737]), array([-3.921, 11.239]), array([-2.743,  8.906]), array([-3.407, 11.614]), array([-1.526,  9.234]), array([-3.364,  9.128]), array([-1.194, 11.058]), array([-1.518,  9.339]), array([-3.052, 11.834]), array([-3.702,  9.605]), array([-2.372, 11.877]), array([-3.895, 10.217]), array([-1.076, 10.348]), array([-1.676,  9.303]), array([-2.749, 11.885]), array([-1.44 , 11.364]), array([-1.114, 10.737]), array([-3.919,  9.987]), array([-4.05 , 10.986]), array([-3.712, 11.497]), array([-2.413, 11.898]), array([-2.893,  8.966])]}\n"
     ]
    }
   ],
   "source": [
    "import random\n",
    "import numpy as np \n",
    "\n",
    "def df_to_list():\n",
    "    return list(X_train.values)\n",
    "\n",
    "def choose_centroids(data, k):\n",
    "    # choose random centroids\n",
    "    return random.sample(data, k)  \n",
    "\n",
    "def assign_clusters(data,centroids):\n",
    "    k = len(centroids)\n",
    "    clusters = {}\n",
    "\n",
    "    for i in range(k):\n",
    "        clusters[i] = []\n",
    "\n",
    "    for point in data: \n",
    "        euclid_distance = []\n",
    "        for i in range(k):\n",
    "            euclid_distance.append(np.linalg.norm(np.array(point) - np.array(centroids[i])))\n",
    "        clusters[euclid_distance.index(min(euclid_distance))].append(point)\n",
    "\n",
    "    return clusters\n",
    "\n",
    "def recalculate_centroids(clusters, centroids, k ):\n",
    "    for i in range(k):\n",
    "        centroids[i] = np.mean(clusters[i],axis=0)\n",
    "    return centroids\n",
    "\n",
    "for i in range(300):\n",
    "    data = df_to_list()\n",
    "    centroids = choose_centroids(data,3)\n",
    "    clusters = assign_clusters(data, centroids)\n",
    "    solution = recalculate_centroids(clusters, centroids, 3)\n",
    "print(centroids)\n",
    "print(clusters)\n",
    "\n",
    "\n"
   ]
  },
  {
   "cell_type": "code",
   "execution_count": 93,
   "metadata": {},
   "outputs": [
    {
     "data": {
      "image/png": "[encoded data removed]",
      "text/plain": [
       "<Figure size 640x480 with 1 Axes>"
      ]
     },
     "metadata": {},
     "output_type": "display_data"
    }
   ],
   "source": [
    "import matplotlib.pyplot as plt\n",
    "colors = ['r', 'g', 'b']\n",
    "plt.scatter(X_train['x'], X_train['y'])\n",
    "for i, centroid in enumerate(centroids):\n",
    "    plt.scatter(centroid[0], centroid[1], color=colors[i], edgecolor='k', marker='X', s=200, label=f'Centroid {i+1}')\n",
    "plt.show()"
   ]
  },
  {
   "cell_type": "markdown",
   "metadata": {},
   "source": [
    "4. Evaluate clustering performances in task #3 based on **SSE**, **RandIndex**, **Silhouette Coefficient**.\n"
   ]
  },
  {
   "cell_type": "code",
   "execution_count": 94,
   "metadata": {},
   "outputs": [
    {
     "data": {
      "text/plain": [
       "np.float64(1583.8526121133984)"
      ]
     },
     "execution_count": 94,
     "metadata": {},
     "output_type": "execute_result"
    }
   ],
   "source": [
    "def calculate_SSE(clusters, centroids):\n",
    "    sse = 0\n",
    "    for i, cluster in clusters.items():\n",
    "        for point in cluster:\n",
    "            sse += np.linalg.norm(np.array(point) - np.array(centroids[i])) ** 2\n",
    "    return sse\n",
    "\n",
    "calculate_SSE(clusters,centroids)"
   ]
  },
  {
   "cell_type": "code",
   "execution_count": 95,
   "metadata": {},
   "outputs": [
    {
     "name": "stdout",
     "output_type": "stream",
     "text": [
      "Adjusted Rand Index: 0.8062952144063469\n"
     ]
    }
   ],
   "source": [
    "from sklearn.metrics import adjusted_rand_score\n",
    "\n",
    "labels_pred = []\n",
    "for point in X_train.values:\n",
    "    distances = [np.linalg.norm(point - centroid) for centroid in centroids]\n",
    "    cluster_label = distances.index(min(distances))\n",
    "    labels_pred.append(cluster_label)\n",
    "rand_index = adjusted_rand_score(y_train, labels_pred)\n",
    "print(\"Adjusted Rand Index:\", rand_index)"
   ]
  },
  {
   "cell_type": "code",
   "execution_count": 96,
   "metadata": {},
   "outputs": [
    {
     "name": "stdout",
     "output_type": "stream",
     "text": [
      "0.5032194105553939\n"
     ]
    }
   ],
   "source": [
    "from sklearn.metrics import silhouette_score\n",
    "\n",
    "silhouette = silhouette_score(X_train, labels_pred)\n",
    "print(silhouette)"
   ]
  },
  {
   "cell_type": "markdown",
   "metadata": {},
   "source": [
    "5. If you increase number of clusters in task #3 what type of performance changes do you observe? Please use the elbow technique to determine best number of clustering for the dataset.\n"
   ]
  },
  {
   "cell_type": "markdown",
   "metadata": {},
   "source": [
    "6. Just think about implementing hierarchical clustering, producing a dendrogram and apply a cut to obtain the desired number of clusters.\n"
   ]
  },
  {
   "cell_type": "markdown",
   "metadata": {},
   "source": []
  }
 ],
 "metadata": {
  "kernelspec": {
   "display_name": "venv-machine-learning",
   "language": "python",
   "name": "python3"
  },
  "language_info": {
   "codemirror_mode": {
    "name": "ipython",
    "version": 3
   },
   "file_extension": ".py",
   "mimetype": "text/x-python",
   "name": "python",
   "nbconvert_exporter": "python",
   "pygments_lexer": "ipython3",
   "version": "3.9.7"
  }
 },
 "nbformat": 4,
 "nbformat_minor": 2
}
