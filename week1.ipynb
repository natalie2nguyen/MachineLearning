{
 "cells": [
  {
   "cell_type": "markdown",
   "id": "12e88c7b-c807-4ab3-86fe-b217ba6f3330",
   "metadata": {},
   "source": [
    "# "
   ]
  },
  {
   "cell_type": "code",
   "execution_count": 10,
   "id": "f3c198f9-86bf-4c74-a807-1b2dbc9b837e",
   "metadata": {},
   "outputs": [
    {
     "name": "stdout",
     "output_type": "stream",
     "text": [
      "A.csv has 9001 lines\n"
     ]
    }
   ],
   "source": [
    "# PROBLEM 3\n",
    "# How many rows are in dataset: week-01/datasets/A.csv? \n",
    "# How about in week-01/datasets/B.txt and in week-01/datasets/C.csv?\n",
    "\n",
    "with open('datasets/A.csv') as file:\n",
    "    counter = 0\n",
    "    for line in file:\n",
    "        counter +=1\n",
    "    print('A.csv has', counter, \"lines\" )"
   ]
  },
  {
   "cell_type": "code",
   "execution_count": 2,
   "id": "f87d9bf2-d0df-422f-930f-fb86663f2452",
   "metadata": {},
   "outputs": [
    {
     "name": "stdout",
     "output_type": "stream",
     "text": [
      "B.txt has 232043 lines\n"
     ]
    }
   ],
   "source": [
    "with open('datasets/B.txt') as file:\n",
    "    counter = 0\n",
    "    for line in file:\n",
    "        counter +=1\n",
    "    print('B.txt has', counter, \"lines\" )"
   ]
  },
  {
   "cell_type": "code",
   "execution_count": 3,
   "id": "5233c102-7bf1-43a2-a6bc-2723aad5a648",
   "metadata": {
    "collapsed": true,
    "jupyter": {
     "outputs_hidden": true,
     "source_hidden": true
    }
   },
   "outputs": [
    {
     "name": "stdout",
     "output_type": "stream",
     "text": [
      "C.csv has 79 lines\n"
     ]
    }
   ],
   "source": [
    "with open('datasets/C.csv') as file:\n",
    "    counter = 0\n",
    "    for line in file:\n",
    "        counter +=1\n",
    "    print('C.csv has', counter, \"lines\" )"
   ]
  },
  {
   "cell_type": "code",
   "execution_count": 2,
   "id": "049c0f79-a552-4f39-a1e6-ba714d0f4fbb",
   "metadata": {},
   "outputs": [
    {
     "data": {
      "text/html": [
       "<div>\n",
       "<style scoped>\n",
       "    .dataframe tbody tr th:only-of-type {\n",
       "        vertical-align: middle;\n",
       "    }\n",
       "\n",
       "    .dataframe tbody tr th {\n",
       "        vertical-align: top;\n",
       "    }\n",
       "\n",
       "    .dataframe thead th {\n",
       "        text-align: right;\n",
       "    }\n",
       "</style>\n",
       "<table border=\"1\" class=\"dataframe\">\n",
       "  <thead>\n",
       "    <tr style=\"text-align: right;\">\n",
       "      <th></th>\n",
       "      <th>CustomerId</th>\n",
       "      <th>Surname</th>\n",
       "      <th>CreditScore</th>\n",
       "      <th>Geography</th>\n",
       "      <th>Gender</th>\n",
       "      <th>Age</th>\n",
       "      <th>Tenure</th>\n",
       "      <th>Balance</th>\n",
       "      <th>NumOfProducts</th>\n",
       "      <th>HasCrCard</th>\n",
       "      <th>IsActiveMember</th>\n",
       "      <th>EstimatedSalary</th>\n",
       "      <th>Exited</th>\n",
       "    </tr>\n",
       "  </thead>\n",
       "  <tbody>\n",
       "    <tr>\n",
       "      <th>0</th>\n",
       "      <td>15647572</td>\n",
       "      <td>Greece</td>\n",
       "      <td>504</td>\n",
       "      <td>Spain</td>\n",
       "      <td>Male</td>\n",
       "      <td>34</td>\n",
       "      <td>0</td>\n",
       "      <td>54980.81</td>\n",
       "      <td>1</td>\n",
       "      <td>1</td>\n",
       "      <td>1</td>\n",
       "      <td>136909.88</td>\n",
       "      <td>0</td>\n",
       "    </tr>\n",
       "  </tbody>\n",
       "</table>\n",
       "</div>"
      ],
      "text/plain": [
       "   CustomerId Surname  CreditScore Geography Gender  Age  Tenure   Balance  \\\n",
       "0    15647572  Greece          504     Spain   Male   34       0  54980.81   \n",
       "\n",
       "   NumOfProducts  HasCrCard  IsActiveMember  EstimatedSalary  Exited  \n",
       "0              1          1               1        136909.88       0  "
      ]
     },
     "execution_count": 2,
     "metadata": {},
     "output_type": "execute_result"
    }
   ],
   "source": [
    "# PROBLEM 4\n",
    "# Repeat the previous task to find out how many samples (i.e., instances) \n",
    "# are there in each of the dataset?\n",
    "import pandas as pd \n",
    "# header=0 means the first row is the header\n",
    "A = pd.read_csv('datasets/A.csv', sep=',', header=0)\n",
    "A.head(n=1)"
   ]
  },
  {
   "cell_type": "code",
   "execution_count": 3,
   "id": "82deae6b-b994-44bf-8789-259dbb52e307",
   "metadata": {},
   "outputs": [
    {
     "data": {
      "text/plain": [
       "Index(['CustomerId', 'Surname', 'CreditScore', 'Geography', 'Gender', 'Age',\n",
       "       'Tenure', 'Balance', 'NumOfProducts', 'HasCrCard', 'IsActiveMember',\n",
       "       'EstimatedSalary', 'Exited'],\n",
       "      dtype='object')"
      ]
     },
     "execution_count": 3,
     "metadata": {},
     "output_type": "execute_result"
    }
   ],
   "source": [
    "A.columns"
   ]
  },
  {
   "cell_type": "code",
   "execution_count": 4,
   "id": "0be10012-c2b6-4131-a224-d8006a68bb92",
   "metadata": {},
   "outputs": [
    {
     "data": {
      "text/plain": [
       "(9000, 13)"
      ]
     },
     "execution_count": 4,
     "metadata": {},
     "output_type": "execute_result"
    }
   ],
   "source": [
    "# .shape returns a tuple: (number of rows, number of columns )\n",
    "A.shape"
   ]
  },
  {
   "cell_type": "code",
   "execution_count": 11,
   "id": "80a8bf6c-161a-46ee-aad2-8ba56943535f",
   "metadata": {},
   "outputs": [
    {
     "name": "stdout",
     "output_type": "stream",
     "text": [
      "num rows of A is 9000\n"
     ]
    }
   ],
   "source": [
    "print(f'num rows of A is {A.shape[0]}')\n"
   ]
  },
  {
   "cell_type": "code",
   "execution_count": 12,
   "id": "dd54dbb2-ef6d-4f56-9507-d6027ab06d6e",
   "metadata": {},
   "outputs": [
    {
     "data": {
      "text/html": [
       "<div>\n",
       "<style scoped>\n",
       "    .dataframe tbody tr th:only-of-type {\n",
       "        vertical-align: middle;\n",
       "    }\n",
       "\n",
       "    .dataframe tbody tr th {\n",
       "        vertical-align: top;\n",
       "    }\n",
       "\n",
       "    .dataframe thead th {\n",
       "        text-align: right;\n",
       "    }\n",
       "</style>\n",
       "<table border=\"1\" class=\"dataframe\">\n",
       "  <thead>\n",
       "    <tr style=\"text-align: right;\">\n",
       "      <th></th>\n",
       "      <th>0</th>\n",
       "      <th>1</th>\n",
       "      <th>2</th>\n",
       "      <th>3</th>\n",
       "      <th>4</th>\n",
       "      <th>5</th>\n",
       "      <th>6</th>\n",
       "      <th>7</th>\n",
       "      <th>8</th>\n",
       "      <th>9</th>\n",
       "      <th>10</th>\n",
       "      <th>11</th>\n",
       "      <th>12</th>\n",
       "      <th>13</th>\n",
       "    </tr>\n",
       "  </thead>\n",
       "  <tbody>\n",
       "    <tr>\n",
       "      <th>0</th>\n",
       "      <td>AQC00914000</td>\n",
       "      <td>1981</td>\n",
       "      <td>4279</td>\n",
       "      <td>3745</td>\n",
       "      <td>10762</td>\n",
       "      <td>6067</td>\n",
       "      <td>4096</td>\n",
       "      <td>3606</td>\n",
       "      <td>6203</td>\n",
       "      <td>5292</td>\n",
       "      <td>3092</td>\n",
       "      <td>6866</td>\n",
       "      <td>7163</td>\n",
       "      <td>7866</td>\n",
       "    </tr>\n",
       "  </tbody>\n",
       "</table>\n",
       "</div>"
      ],
      "text/plain": [
       "            0     1     2     3      4     5     6     7     8     9     10  \\\n",
       "0  AQC00914000  1981  4279  3745  10762  6067  4096  3606  6203  5292  3092   \n",
       "\n",
       "     11    12    13  \n",
       "0  6866  7163  7866  "
      ]
     },
     "execution_count": 12,
     "metadata": {},
     "output_type": "execute_result"
    }
   ],
   "source": [
    "B = pd.read_csv('datasets/B.txt', header=None, sep='\\s+')\n",
    "B.head(n=1)"
   ]
  },
  {
   "cell_type": "code",
   "execution_count": 13,
   "id": "c4822b8c-e762-4d55-bc43-9b0f5902fd3a",
   "metadata": {},
   "outputs": [
    {
     "data": {
      "text/plain": [
       "(232043, 14)"
      ]
     },
     "execution_count": 13,
     "metadata": {},
     "output_type": "execute_result"
    }
   ],
   "source": [
    "B.shape"
   ]
  },
  {
   "cell_type": "code",
   "execution_count": 14,
   "id": "9028dbb6-313d-4cc2-b265-927a24ab62f5",
   "metadata": {},
   "outputs": [
    {
     "name": "stdout",
     "output_type": "stream",
     "text": [
      "num rows of B is 232043\n"
     ]
    }
   ],
   "source": [
    "print(f'num rows of B is {B.shape[0]}')"
   ]
  },
  {
   "cell_type": "code",
   "execution_count": 17,
   "id": "d0241955-c718-4a6f-aed7-d96a3790f9e9",
   "metadata": {},
   "outputs": [
    {
     "data": {
      "text/html": [
       "<div>\n",
       "<style scoped>\n",
       "    .dataframe tbody tr th:only-of-type {\n",
       "        vertical-align: middle;\n",
       "    }\n",
       "\n",
       "    .dataframe tbody tr th {\n",
       "        vertical-align: top;\n",
       "    }\n",
       "\n",
       "    .dataframe thead th {\n",
       "        text-align: right;\n",
       "    }\n",
       "</style>\n",
       "<table border=\"1\" class=\"dataframe\">\n",
       "  <thead>\n",
       "    <tr style=\"text-align: right;\">\n",
       "      <th></th>\n",
       "      <th>name</th>\n",
       "      <th>mfr</th>\n",
       "      <th>type</th>\n",
       "      <th>calories</th>\n",
       "      <th>protein</th>\n",
       "      <th>fat</th>\n",
       "      <th>sodium</th>\n",
       "      <th>fiber</th>\n",
       "      <th>carbo</th>\n",
       "      <th>sugars</th>\n",
       "      <th>potass</th>\n",
       "      <th>vitamins</th>\n",
       "      <th>shelf</th>\n",
       "      <th>weight</th>\n",
       "      <th>cups</th>\n",
       "      <th>rating</th>\n",
       "    </tr>\n",
       "  </thead>\n",
       "  <tbody>\n",
       "    <tr>\n",
       "      <th>0</th>\n",
       "      <td>100% Bran</td>\n",
       "      <td>N</td>\n",
       "      <td>C</td>\n",
       "      <td>70</td>\n",
       "      <td>4</td>\n",
       "      <td>1</td>\n",
       "      <td>130</td>\n",
       "      <td>10.0</td>\n",
       "      <td>5.0</td>\n",
       "      <td>6</td>\n",
       "      <td>280</td>\n",
       "      <td>25</td>\n",
       "      <td>3</td>\n",
       "      <td>1.0</td>\n",
       "      <td>0.33</td>\n",
       "      <td>68.402973</td>\n",
       "    </tr>\n",
       "    <tr>\n",
       "      <th>1</th>\n",
       "      <td>100% Natural Bran</td>\n",
       "      <td>Q</td>\n",
       "      <td>C</td>\n",
       "      <td>120</td>\n",
       "      <td>3</td>\n",
       "      <td>5</td>\n",
       "      <td>15</td>\n",
       "      <td>2.0</td>\n",
       "      <td>8.0</td>\n",
       "      <td>8</td>\n",
       "      <td>135</td>\n",
       "      <td>0</td>\n",
       "      <td>3</td>\n",
       "      <td>1.0</td>\n",
       "      <td>1.00</td>\n",
       "      <td>33.983679</td>\n",
       "    </tr>\n",
       "    <tr>\n",
       "      <th>2</th>\n",
       "      <td>All-Bran</td>\n",
       "      <td>K</td>\n",
       "      <td>C</td>\n",
       "      <td>70</td>\n",
       "      <td>4</td>\n",
       "      <td>1</td>\n",
       "      <td>260</td>\n",
       "      <td>9.0</td>\n",
       "      <td>7.0</td>\n",
       "      <td>5</td>\n",
       "      <td>320</td>\n",
       "      <td>25</td>\n",
       "      <td>3</td>\n",
       "      <td>1.0</td>\n",
       "      <td>0.33</td>\n",
       "      <td>59.425505</td>\n",
       "    </tr>\n",
       "    <tr>\n",
       "      <th>3</th>\n",
       "      <td>All-Bran with Extra Fiber</td>\n",
       "      <td>K</td>\n",
       "      <td>C</td>\n",
       "      <td>50</td>\n",
       "      <td>4</td>\n",
       "      <td>0</td>\n",
       "      <td>140</td>\n",
       "      <td>14.0</td>\n",
       "      <td>8.0</td>\n",
       "      <td>0</td>\n",
       "      <td>330</td>\n",
       "      <td>25</td>\n",
       "      <td>3</td>\n",
       "      <td>1.0</td>\n",
       "      <td>0.50</td>\n",
       "      <td>93.704912</td>\n",
       "    </tr>\n",
       "    <tr>\n",
       "      <th>4</th>\n",
       "      <td>Almond Delight</td>\n",
       "      <td>R</td>\n",
       "      <td>C</td>\n",
       "      <td>110</td>\n",
       "      <td>2</td>\n",
       "      <td>2</td>\n",
       "      <td>200</td>\n",
       "      <td>1.0</td>\n",
       "      <td>14.0</td>\n",
       "      <td>8</td>\n",
       "      <td>-1</td>\n",
       "      <td>25</td>\n",
       "      <td>3</td>\n",
       "      <td>1.0</td>\n",
       "      <td>0.75</td>\n",
       "      <td>34.384843</td>\n",
       "    </tr>\n",
       "  </tbody>\n",
       "</table>\n",
       "</div>"
      ],
      "text/plain": [
       "                        name mfr type  calories  protein  fat  sodium  fiber  \\\n",
       "0                  100% Bran   N    C        70        4    1     130   10.0   \n",
       "1          100% Natural Bran   Q    C       120        3    5      15    2.0   \n",
       "2                   All-Bran   K    C        70        4    1     260    9.0   \n",
       "3  All-Bran with Extra Fiber   K    C        50        4    0     140   14.0   \n",
       "4             Almond Delight   R    C       110        2    2     200    1.0   \n",
       "\n",
       "   carbo  sugars  potass  vitamins  shelf  weight  cups     rating  \n",
       "0    5.0       6     280        25      3     1.0  0.33  68.402973  \n",
       "1    8.0       8     135         0      3     1.0  1.00  33.983679  \n",
       "2    7.0       5     320        25      3     1.0  0.33  59.425505  \n",
       "3    8.0       0     330        25      3     1.0  0.50  93.704912  \n",
       "4   14.0       8      -1        25      3     1.0  0.75  34.384843  "
      ]
     },
     "execution_count": 17,
     "metadata": {},
     "output_type": "execute_result"
    }
   ],
   "source": [
    "# skiprows=[1] skips the first row\n",
    "C = pd.read_csv('datasets/C.csv',\n",
    "                header=0, #first row is header row\n",
    "                sep=';',\n",
    "                skiprows=[1] #skip the second row\n",
    "               )\n",
    "C.head(n=5)\n"
   ]
  },
  {
   "cell_type": "code",
   "execution_count": 18,
   "id": "5ea0de89-7113-4906-9abe-ce5d427de2a1",
   "metadata": {},
   "outputs": [
    {
     "name": "stdout",
     "output_type": "stream",
     "text": [
      "num rows of C is 77\n"
     ]
    }
   ],
   "source": [
    "print(f'num rows of C is {C.shape[0]}')"
   ]
  },
  {
   "cell_type": "code",
   "execution_count": 21,
   "id": "d827e6b9-d42b-48a8-81e1-b040a6cd5e4f",
   "metadata": {},
   "outputs": [
    {
     "name": "stdout",
     "output_type": "stream",
     "text": [
      "A has 13 columns\n",
      "B has 14 columns\n",
      "C has 16 columns\n"
     ]
    }
   ],
   "source": [
    "# PROBLEM 5\n",
    "# How many columns are there in each of the 3 datasets?\n",
    "\n",
    "print('A has',len(A.columns),'columns')\n",
    "print('B has',len(B.columns),'columns')\n",
    "print('C has',len(C.columns),'columns')\n"
   ]
  },
  {
   "cell_type": "code",
   "execution_count": 22,
   "id": "90938a95-eee1-4fe5-a938-e83adc4cb652",
   "metadata": {},
   "outputs": [
    {
     "name": "stdout",
     "output_type": "stream",
     "text": [
      "mean of the right most column of C.csv is 42.67\n"
     ]
    }
   ],
   "source": [
    "# PROBLEM 6\n",
    "# Compute the mean of the last (i.e., rightmost) column of week-01/datasets/C.csv?\n",
    "# A, B and C are pandas dataframe object\n",
    "# .iloc[] is an indexer used for integer-location-based indexing of data in a DataFrame. \n",
    "# It allows users to select specific rows and columns by providing integer indices\n",
    "\n",
    "print(f'mean of the right most column of C.csv is {C[[\"rating\"]].mean().iloc[0,]:.2f}')"
   ]
  },
  {
   "cell_type": "code",
   "execution_count": 23,
   "id": "ec804f53-8c3f-4a1c-b156-c7675fab4af6",
   "metadata": {},
   "outputs": [
    {
     "name": "stdout",
     "output_type": "stream",
     "text": [
      "112590c112590\n",
      "< USC00286460 1981   279   1511    261    916   1559    910   1351    386    855   1114    396   1192 \n",
      "---\n",
      "> USC00286460 1981   279   1511    261    916   1559    91l   1351    386    855   1114    396   1192 \n"
     ]
    }
   ],
   "source": [
    "# PROBLEM 7\n",
    "# Where (i.e, in which sample) the two datasets: week-01/datasets/B.txt and week-01/datasets/D.txt differ?\n",
    "!diff datasets/B.txt datasets/D.txt\n"
   ]
  },
  {
   "cell_type": "code",
   "execution_count": 24,
   "id": "3e28c0b3-6779-466e-a771-2e7e19e45e96",
   "metadata": {},
   "outputs": [
    {
     "name": "stdout",
     "output_type": "stream",
     "text": [
      "Average credit score of A.csv is 650.12\n"
     ]
    }
   ],
   "source": [
    "# PROBLEM 8\n",
    "# What is the average credit score among the samples found in week-01/datasets/A.csv?\n",
    "print(f'Average credit score of A.csv is {A[[\"CreditScore\"]].mean().iloc[0,]:.2f}')"
   ]
  },
  {
   "cell_type": "code",
   "execution_count": 27,
   "id": "4b43b136-6218-4bab-b37e-c1553e06081c",
   "metadata": {},
   "outputs": [
    {
     "data": {
      "text/plain": [
       "array(['Spain', 'France', 'Germany'], dtype=object)"
      ]
     },
     "execution_count": 27,
     "metadata": {},
     "output_type": "execute_result"
    }
   ],
   "source": [
    "# PROBLEM 9\n",
    "# How many different countries are listed in week-01/datasts/A.csv?\n",
    "# print out all the countries without the duplicates\n",
    "A[\"Geography\"].unique()"
   ]
  },
  {
   "cell_type": "code",
   "execution_count": 29,
   "id": "330ca33c-6b77-45b3-88c8-33d5335bffa5",
   "metadata": {},
   "outputs": [
    {
     "name": "stdout",
     "output_type": "stream",
     "text": [
      "Number of counties in A.csv is 3\n"
     ]
    }
   ],
   "source": [
    "print(f'Number of counties in A.csv is {A[\"Geography\"].nunique()}')"
   ]
  },
  {
   "cell_type": "code",
   "execution_count": null,
   "id": "a29fe81a-7070-4207-8ee3-971e134a101a",
   "metadata": {},
   "outputs": [],
   "source": []
  }
 ],
 "metadata": {
  "kernelspec": {
   "display_name": "Python 3 (ipykernel)",
   "language": "python",
   "name": "python3"
  },
  "language_info": {
   "codemirror_mode": {
    "name": "ipython",
    "version": 3
   },
   "file_extension": ".py",
   "mimetype": "text/x-python",
   "name": "python",
   "nbconvert_exporter": "python",
   "pygments_lexer": "ipython3",
   "version": "3.9.7"
  }
 },
 "nbformat": 4,
 "nbformat_minor": 5
}
