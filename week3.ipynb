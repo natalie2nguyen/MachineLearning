{
 "cells": [
  {
   "cell_type": "markdown",
   "metadata": {},
   "source": [
    "### Question 1\n",
    "- How many samples are there in the dataset?\n",
    "- How many features are there per sample, excluding the class/type label?\n",
    "- Print the number of unique classes (i.e., fruit types), list the class names, and their frequency distribution."
   ]
  },
  {
   "cell_type": "code",
   "execution_count": 17,
   "metadata": {},
   "outputs": [
    {
     "data": {
      "text/plain": [
       "(898, 35)"
      ]
     },
     "execution_count": 17,
     "metadata": {},
     "output_type": "execute_result"
    }
   ],
   "source": [
    "import pandas as pd\n",
    "\n",
    "# There are 898 samples/rows\n",
    "# There are 35 features/columns\n",
    "df = pd.read_excel('datasets/Date_Fruit_Datasets.xlsx',sheet_name=\"Date_Fruit_Datasets\")\n",
    "df.shape"
   ]
  },
  {
   "cell_type": "code",
   "execution_count": 18,
   "metadata": {},
   "outputs": [
    {
     "data": {
      "text/plain": [
       "7"
      ]
     },
     "execution_count": 18,
     "metadata": {},
     "output_type": "execute_result"
    }
   ],
   "source": [
    "# The nunique() method returns the number of unique values for each column.\n",
    "# There are 7 unique values in the \"Class\" column\n",
    "df['Class'].nunique()\n"
   ]
  },
  {
   "cell_type": "code",
   "execution_count": 19,
   "metadata": {},
   "outputs": [
    {
     "data": {
      "text/plain": [
       "array(['BERHI', 'DEGLET', 'DOKOL', 'IRAQI', 'ROTANA', 'SAFAVI', 'SOGAY'],\n",
       "      dtype=object)"
      ]
     },
     "execution_count": 19,
     "metadata": {},
     "output_type": "execute_result"
    }
   ],
   "source": [
    "# list of unique values in 'Class' column\n",
    "df['Class'].unique()"
   ]
  },
  {
   "cell_type": "code",
   "execution_count": 20,
   "metadata": {},
   "outputs": [
    {
     "data": {
      "text/plain": [
       "Class\n",
       "DOKOL     204\n",
       "SAFAVI    199\n",
       "ROTANA    166\n",
       "DEGLET     98\n",
       "SOGAY      94\n",
       "IRAQI      72\n",
       "BERHI      65\n",
       "Name: count, dtype: int64"
      ]
     },
     "execution_count": 20,
     "metadata": {},
     "output_type": "execute_result"
    }
   ],
   "source": [
    "# Class distribution\n",
    "df['Class'].value_counts()"
   ]
  },
  {
   "cell_type": "markdown",
   "metadata": {},
   "source": [
    "### Question 2\n",
    "- List mean, stdev, min, max of each of the features in the dataset\n",
    "\n",
    "- The **describe()** method returns description of the data in the DataFrame.\n",
    "    - If the DataFrame contains numerical data, the description contains these information for each column:\n",
    "        - count - The number of not-empty values.\n",
    "        - mean - The average (mean) value.\n",
    "        - std - The standard deviation.\n",
    "        - min - the minimum value.\n",
    "        - 25% - The 25% percentile*.\n",
    "        - 50% - The 50% percentile*.\n",
    "        - 75% - The 75% percentile*.\n",
    "        - max - the maximum value."
   ]
  },
  {
   "cell_type": "code",
   "execution_count": 21,
   "metadata": {},
   "outputs": [
    {
     "data": {
      "text/html": [
       "<div>\n",
       "<style scoped>\n",
       "    .dataframe tbody tr th:only-of-type {\n",
       "        vertical-align: middle;\n",
       "    }\n",
       "\n",
       "    .dataframe tbody tr th {\n",
       "        vertical-align: top;\n",
       "    }\n",
       "\n",
       "    .dataframe thead th {\n",
       "        text-align: right;\n",
       "    }\n",
       "</style>\n",
       "<table border=\"1\" class=\"dataframe\">\n",
       "  <thead>\n",
       "    <tr style=\"text-align: right;\">\n",
       "      <th></th>\n",
       "      <th>AREA</th>\n",
       "      <th>PERIMETER</th>\n",
       "      <th>MAJOR_AXIS</th>\n",
       "      <th>MINOR_AXIS</th>\n",
       "      <th>ECCENTRICITY</th>\n",
       "      <th>EQDIASQ</th>\n",
       "      <th>SOLIDITY</th>\n",
       "      <th>CONVEX_AREA</th>\n",
       "      <th>EXTENT</th>\n",
       "      <th>ASPECT_RATIO</th>\n",
       "      <th>...</th>\n",
       "      <th>SkewRB</th>\n",
       "      <th>KurtosisRR</th>\n",
       "      <th>KurtosisRG</th>\n",
       "      <th>KurtosisRB</th>\n",
       "      <th>EntropyRR</th>\n",
       "      <th>EntropyRG</th>\n",
       "      <th>EntropyRB</th>\n",
       "      <th>ALLdaub4RR</th>\n",
       "      <th>ALLdaub4RG</th>\n",
       "      <th>ALLdaub4RB</th>\n",
       "    </tr>\n",
       "  </thead>\n",
       "  <tbody>\n",
       "    <tr>\n",
       "      <th>count</th>\n",
       "      <td>898.000000</td>\n",
       "      <td>898.000000</td>\n",
       "      <td>898.000000</td>\n",
       "      <td>898.000000</td>\n",
       "      <td>898.000000</td>\n",
       "      <td>898.000000</td>\n",
       "      <td>898.000000</td>\n",
       "      <td>898.000000</td>\n",
       "      <td>898.000000</td>\n",
       "      <td>898.000000</td>\n",
       "      <td>...</td>\n",
       "      <td>898.000000</td>\n",
       "      <td>898.000000</td>\n",
       "      <td>898.000000</td>\n",
       "      <td>898.000000</td>\n",
       "      <td>8.980000e+02</td>\n",
       "      <td>8.980000e+02</td>\n",
       "      <td>8.980000e+02</td>\n",
       "      <td>898.000000</td>\n",
       "      <td>898.000000</td>\n",
       "      <td>898.000000</td>\n",
       "    </tr>\n",
       "    <tr>\n",
       "      <th>mean</th>\n",
       "      <td>298295.207127</td>\n",
       "      <td>2057.660953</td>\n",
       "      <td>750.811994</td>\n",
       "      <td>495.872785</td>\n",
       "      <td>0.737468</td>\n",
       "      <td>604.577938</td>\n",
       "      <td>0.981840</td>\n",
       "      <td>303845.592428</td>\n",
       "      <td>0.736267</td>\n",
       "      <td>2.131102</td>\n",
       "      <td>...</td>\n",
       "      <td>0.250518</td>\n",
       "      <td>4.247845</td>\n",
       "      <td>5.110894</td>\n",
       "      <td>3.780928</td>\n",
       "      <td>-3.185021e+10</td>\n",
       "      <td>-2.901860e+10</td>\n",
       "      <td>-2.771876e+10</td>\n",
       "      <td>50.082888</td>\n",
       "      <td>48.805681</td>\n",
       "      <td>48.098393</td>\n",
       "    </tr>\n",
       "    <tr>\n",
       "      <th>std</th>\n",
       "      <td>107245.205337</td>\n",
       "      <td>410.012459</td>\n",
       "      <td>144.059326</td>\n",
       "      <td>114.268917</td>\n",
       "      <td>0.088727</td>\n",
       "      <td>119.593888</td>\n",
       "      <td>0.018157</td>\n",
       "      <td>108815.656947</td>\n",
       "      <td>0.053745</td>\n",
       "      <td>17.820778</td>\n",
       "      <td>...</td>\n",
       "      <td>0.632918</td>\n",
       "      <td>2.892357</td>\n",
       "      <td>3.745463</td>\n",
       "      <td>2.049831</td>\n",
       "      <td>2.037241e+10</td>\n",
       "      <td>1.712952e+10</td>\n",
       "      <td>1.484137e+10</td>\n",
       "      <td>16.063125</td>\n",
       "      <td>14.125911</td>\n",
       "      <td>10.813862</td>\n",
       "    </tr>\n",
       "    <tr>\n",
       "      <th>min</th>\n",
       "      <td>1987.000000</td>\n",
       "      <td>911.828000</td>\n",
       "      <td>336.722700</td>\n",
       "      <td>2.283200</td>\n",
       "      <td>0.344800</td>\n",
       "      <td>50.298400</td>\n",
       "      <td>0.836600</td>\n",
       "      <td>2257.000000</td>\n",
       "      <td>0.512300</td>\n",
       "      <td>1.065300</td>\n",
       "      <td>...</td>\n",
       "      <td>-1.029100</td>\n",
       "      <td>1.708200</td>\n",
       "      <td>1.607600</td>\n",
       "      <td>1.767200</td>\n",
       "      <td>-1.091224e+11</td>\n",
       "      <td>-9.261697e+10</td>\n",
       "      <td>-8.747177e+10</td>\n",
       "      <td>15.191100</td>\n",
       "      <td>20.524700</td>\n",
       "      <td>22.130000</td>\n",
       "    </tr>\n",
       "    <tr>\n",
       "      <th>25%</th>\n",
       "      <td>206948.000000</td>\n",
       "      <td>1726.091500</td>\n",
       "      <td>641.068650</td>\n",
       "      <td>404.684375</td>\n",
       "      <td>0.685625</td>\n",
       "      <td>513.317075</td>\n",
       "      <td>0.978825</td>\n",
       "      <td>210022.750000</td>\n",
       "      <td>0.705875</td>\n",
       "      <td>1.373725</td>\n",
       "      <td>...</td>\n",
       "      <td>-0.196950</td>\n",
       "      <td>2.536625</td>\n",
       "      <td>2.508850</td>\n",
       "      <td>2.577275</td>\n",
       "      <td>-4.429444e+10</td>\n",
       "      <td>-3.894638e+10</td>\n",
       "      <td>-3.564534e+10</td>\n",
       "      <td>38.224425</td>\n",
       "      <td>38.654525</td>\n",
       "      <td>39.250725</td>\n",
       "    </tr>\n",
       "    <tr>\n",
       "      <th>50%</th>\n",
       "      <td>319833.000000</td>\n",
       "      <td>2196.345450</td>\n",
       "      <td>791.363400</td>\n",
       "      <td>495.054850</td>\n",
       "      <td>0.754700</td>\n",
       "      <td>638.140950</td>\n",
       "      <td>0.987300</td>\n",
       "      <td>327207.000000</td>\n",
       "      <td>0.746950</td>\n",
       "      <td>1.524150</td>\n",
       "      <td>...</td>\n",
       "      <td>0.135550</td>\n",
       "      <td>3.069800</td>\n",
       "      <td>3.127800</td>\n",
       "      <td>3.080700</td>\n",
       "      <td>-2.826156e+10</td>\n",
       "      <td>-2.620990e+10</td>\n",
       "      <td>-2.392928e+10</td>\n",
       "      <td>53.841300</td>\n",
       "      <td>50.337800</td>\n",
       "      <td>49.614100</td>\n",
       "    </tr>\n",
       "    <tr>\n",
       "      <th>75%</th>\n",
       "      <td>382573.000000</td>\n",
       "      <td>2389.716575</td>\n",
       "      <td>858.633750</td>\n",
       "      <td>589.031700</td>\n",
       "      <td>0.802150</td>\n",
       "      <td>697.930525</td>\n",
       "      <td>0.991800</td>\n",
       "      <td>388804.000000</td>\n",
       "      <td>0.775850</td>\n",
       "      <td>1.674750</td>\n",
       "      <td>...</td>\n",
       "      <td>0.593950</td>\n",
       "      <td>4.449850</td>\n",
       "      <td>7.320400</td>\n",
       "      <td>4.283125</td>\n",
       "      <td>-1.460482e+10</td>\n",
       "      <td>-1.433105e+10</td>\n",
       "      <td>-1.660367e+10</td>\n",
       "      <td>63.063350</td>\n",
       "      <td>59.573600</td>\n",
       "      <td>56.666675</td>\n",
       "    </tr>\n",
       "    <tr>\n",
       "      <th>max</th>\n",
       "      <td>546063.000000</td>\n",
       "      <td>2811.997100</td>\n",
       "      <td>1222.723000</td>\n",
       "      <td>766.453600</td>\n",
       "      <td>1.000000</td>\n",
       "      <td>833.827900</td>\n",
       "      <td>0.997400</td>\n",
       "      <td>552598.000000</td>\n",
       "      <td>0.856200</td>\n",
       "      <td>535.525700</td>\n",
       "      <td>...</td>\n",
       "      <td>3.092300</td>\n",
       "      <td>26.171100</td>\n",
       "      <td>26.736700</td>\n",
       "      <td>32.249500</td>\n",
       "      <td>-1.627316e+08</td>\n",
       "      <td>-5.627727e+08</td>\n",
       "      <td>-4.370435e+08</td>\n",
       "      <td>79.828900</td>\n",
       "      <td>83.064900</td>\n",
       "      <td>74.104600</td>\n",
       "    </tr>\n",
       "  </tbody>\n",
       "</table>\n",
       "<p>8 rows × 34 columns</p>\n",
       "</div>"
      ],
      "text/plain": [
       "                AREA    PERIMETER   MAJOR_AXIS  MINOR_AXIS  ECCENTRICITY  \\\n",
       "count     898.000000   898.000000   898.000000  898.000000    898.000000   \n",
       "mean   298295.207127  2057.660953   750.811994  495.872785      0.737468   \n",
       "std    107245.205337   410.012459   144.059326  114.268917      0.088727   \n",
       "min      1987.000000   911.828000   336.722700    2.283200      0.344800   \n",
       "25%    206948.000000  1726.091500   641.068650  404.684375      0.685625   \n",
       "50%    319833.000000  2196.345450   791.363400  495.054850      0.754700   \n",
       "75%    382573.000000  2389.716575   858.633750  589.031700      0.802150   \n",
       "max    546063.000000  2811.997100  1222.723000  766.453600      1.000000   \n",
       "\n",
       "          EQDIASQ    SOLIDITY    CONVEX_AREA      EXTENT  ASPECT_RATIO  ...  \\\n",
       "count  898.000000  898.000000     898.000000  898.000000    898.000000  ...   \n",
       "mean   604.577938    0.981840  303845.592428    0.736267      2.131102  ...   \n",
       "std    119.593888    0.018157  108815.656947    0.053745     17.820778  ...   \n",
       "min     50.298400    0.836600    2257.000000    0.512300      1.065300  ...   \n",
       "25%    513.317075    0.978825  210022.750000    0.705875      1.373725  ...   \n",
       "50%    638.140950    0.987300  327207.000000    0.746950      1.524150  ...   \n",
       "75%    697.930525    0.991800  388804.000000    0.775850      1.674750  ...   \n",
       "max    833.827900    0.997400  552598.000000    0.856200    535.525700  ...   \n",
       "\n",
       "           SkewRB  KurtosisRR  KurtosisRG  KurtosisRB     EntropyRR  \\\n",
       "count  898.000000  898.000000  898.000000  898.000000  8.980000e+02   \n",
       "mean     0.250518    4.247845    5.110894    3.780928 -3.185021e+10   \n",
       "std      0.632918    2.892357    3.745463    2.049831  2.037241e+10   \n",
       "min     -1.029100    1.708200    1.607600    1.767200 -1.091224e+11   \n",
       "25%     -0.196950    2.536625    2.508850    2.577275 -4.429444e+10   \n",
       "50%      0.135550    3.069800    3.127800    3.080700 -2.826156e+10   \n",
       "75%      0.593950    4.449850    7.320400    4.283125 -1.460482e+10   \n",
       "max      3.092300   26.171100   26.736700   32.249500 -1.627316e+08   \n",
       "\n",
       "          EntropyRG     EntropyRB  ALLdaub4RR  ALLdaub4RG  ALLdaub4RB  \n",
       "count  8.980000e+02  8.980000e+02  898.000000  898.000000  898.000000  \n",
       "mean  -2.901860e+10 -2.771876e+10   50.082888   48.805681   48.098393  \n",
       "std    1.712952e+10  1.484137e+10   16.063125   14.125911   10.813862  \n",
       "min   -9.261697e+10 -8.747177e+10   15.191100   20.524700   22.130000  \n",
       "25%   -3.894638e+10 -3.564534e+10   38.224425   38.654525   39.250725  \n",
       "50%   -2.620990e+10 -2.392928e+10   53.841300   50.337800   49.614100  \n",
       "75%   -1.433105e+10 -1.660367e+10   63.063350   59.573600   56.666675  \n",
       "max   -5.627727e+08 -4.370435e+08   79.828900   83.064900   74.104600  \n",
       "\n",
       "[8 rows x 34 columns]"
      ]
     },
     "execution_count": 21,
     "metadata": {},
     "output_type": "execute_result"
    }
   ],
   "source": [
    "\n",
    "df.describe()"
   ]
  },
  {
   "cell_type": "markdown",
   "metadata": {},
   "source": [
    "### Question 3\n",
    "- Shuffle the data samples."
   ]
  },
  {
   "cell_type": "code",
   "execution_count": 22,
   "metadata": {},
   "outputs": [
    {
     "data": {
      "text/html": [
       "<div>\n",
       "<style scoped>\n",
       "    .dataframe tbody tr th:only-of-type {\n",
       "        vertical-align: middle;\n",
       "    }\n",
       "\n",
       "    .dataframe tbody tr th {\n",
       "        vertical-align: top;\n",
       "    }\n",
       "\n",
       "    .dataframe thead th {\n",
       "        text-align: right;\n",
       "    }\n",
       "</style>\n",
       "<table border=\"1\" class=\"dataframe\">\n",
       "  <thead>\n",
       "    <tr style=\"text-align: right;\">\n",
       "      <th></th>\n",
       "      <th>AREA</th>\n",
       "      <th>PERIMETER</th>\n",
       "      <th>MAJOR_AXIS</th>\n",
       "      <th>MINOR_AXIS</th>\n",
       "      <th>ECCENTRICITY</th>\n",
       "      <th>EQDIASQ</th>\n",
       "      <th>SOLIDITY</th>\n",
       "      <th>CONVEX_AREA</th>\n",
       "      <th>EXTENT</th>\n",
       "      <th>ASPECT_RATIO</th>\n",
       "      <th>...</th>\n",
       "      <th>KurtosisRR</th>\n",
       "      <th>KurtosisRG</th>\n",
       "      <th>KurtosisRB</th>\n",
       "      <th>EntropyRR</th>\n",
       "      <th>EntropyRG</th>\n",
       "      <th>EntropyRB</th>\n",
       "      <th>ALLdaub4RR</th>\n",
       "      <th>ALLdaub4RG</th>\n",
       "      <th>ALLdaub4RB</th>\n",
       "      <th>Class</th>\n",
       "    </tr>\n",
       "  </thead>\n",
       "  <tbody>\n",
       "    <tr>\n",
       "      <th>876</th>\n",
       "      <td>324044</td>\n",
       "      <td>2162.4221</td>\n",
       "      <td>818.4114</td>\n",
       "      <td>508.6661</td>\n",
       "      <td>0.7834</td>\n",
       "      <td>642.3283</td>\n",
       "      <td>0.9901</td>\n",
       "      <td>327280</td>\n",
       "      <td>0.7482</td>\n",
       "      <td>1.6089</td>\n",
       "      <td>...</td>\n",
       "      <td>2.3778</td>\n",
       "      <td>2.4297</td>\n",
       "      <td>2.4962</td>\n",
       "      <td>-41818968064</td>\n",
       "      <td>-33614336000</td>\n",
       "      <td>-33326764032</td>\n",
       "      <td>53.8764</td>\n",
       "      <td>48.4926</td>\n",
       "      <td>49.3346</td>\n",
       "      <td>SOGAY</td>\n",
       "    </tr>\n",
       "    <tr>\n",
       "      <th>455</th>\n",
       "      <td>379870</td>\n",
       "      <td>2419.2930</td>\n",
       "      <td>828.3665</td>\n",
       "      <td>595.3880</td>\n",
       "      <td>0.6953</td>\n",
       "      <td>695.4606</td>\n",
       "      <td>0.9750</td>\n",
       "      <td>389600</td>\n",
       "      <td>0.7901</td>\n",
       "      <td>1.3913</td>\n",
       "      <td>...</td>\n",
       "      <td>2.5717</td>\n",
       "      <td>2.8729</td>\n",
       "      <td>3.2546</td>\n",
       "      <td>-46985891840</td>\n",
       "      <td>-41227915264</td>\n",
       "      <td>-49049518080</td>\n",
       "      <td>55.2026</td>\n",
       "      <td>51.9236</td>\n",
       "      <td>56.4213</td>\n",
       "      <td>ROTANA</td>\n",
       "    </tr>\n",
       "    <tr>\n",
       "      <th>484</th>\n",
       "      <td>394103</td>\n",
       "      <td>2499.8979</td>\n",
       "      <td>820.2778</td>\n",
       "      <td>617.9729</td>\n",
       "      <td>0.6576</td>\n",
       "      <td>708.3696</td>\n",
       "      <td>0.9759</td>\n",
       "      <td>403856</td>\n",
       "      <td>0.7083</td>\n",
       "      <td>1.3274</td>\n",
       "      <td>...</td>\n",
       "      <td>2.6686</td>\n",
       "      <td>2.5969</td>\n",
       "      <td>2.5826</td>\n",
       "      <td>-71837769728</td>\n",
       "      <td>-64554450944</td>\n",
       "      <td>-68040183808</td>\n",
       "      <td>65.0422</td>\n",
       "      <td>62.3051</td>\n",
       "      <td>63.7737</td>\n",
       "      <td>ROTANA</td>\n",
       "    </tr>\n",
       "    <tr>\n",
       "      <th>745</th>\n",
       "      <td>351580</td>\n",
       "      <td>2424.6331</td>\n",
       "      <td>914.5834</td>\n",
       "      <td>494.2882</td>\n",
       "      <td>0.8414</td>\n",
       "      <td>669.0632</td>\n",
       "      <td>0.9741</td>\n",
       "      <td>360946</td>\n",
       "      <td>0.7510</td>\n",
       "      <td>1.8503</td>\n",
       "      <td>...</td>\n",
       "      <td>3.5714</td>\n",
       "      <td>6.0995</td>\n",
       "      <td>3.0743</td>\n",
       "      <td>-30345447424</td>\n",
       "      <td>-24345434112</td>\n",
       "      <td>-25393334272</td>\n",
       "      <td>45.8912</td>\n",
       "      <td>42.0216</td>\n",
       "      <td>42.6223</td>\n",
       "      <td>SAFAVI</td>\n",
       "    </tr>\n",
       "    <tr>\n",
       "      <th>397</th>\n",
       "      <td>384507</td>\n",
       "      <td>2233.9780</td>\n",
       "      <td>755.8359</td>\n",
       "      <td>649.9842</td>\n",
       "      <td>0.5104</td>\n",
       "      <td>699.6924</td>\n",
       "      <td>0.9964</td>\n",
       "      <td>385881</td>\n",
       "      <td>0.7520</td>\n",
       "      <td>1.1629</td>\n",
       "      <td>...</td>\n",
       "      <td>6.2879</td>\n",
       "      <td>6.2378</td>\n",
       "      <td>8.0298</td>\n",
       "      <td>-21725638656</td>\n",
       "      <td>-25549766656</td>\n",
       "      <td>-20514621440</td>\n",
       "      <td>36.8009</td>\n",
       "      <td>40.0605</td>\n",
       "      <td>35.2734</td>\n",
       "      <td>IRAQI</td>\n",
       "    </tr>\n",
       "  </tbody>\n",
       "</table>\n",
       "<p>5 rows × 35 columns</p>\n",
       "</div>"
      ],
      "text/plain": [
       "       AREA  PERIMETER  MAJOR_AXIS  MINOR_AXIS  ECCENTRICITY   EQDIASQ  \\\n",
       "876  324044  2162.4221    818.4114    508.6661        0.7834  642.3283   \n",
       "455  379870  2419.2930    828.3665    595.3880        0.6953  695.4606   \n",
       "484  394103  2499.8979    820.2778    617.9729        0.6576  708.3696   \n",
       "745  351580  2424.6331    914.5834    494.2882        0.8414  669.0632   \n",
       "397  384507  2233.9780    755.8359    649.9842        0.5104  699.6924   \n",
       "\n",
       "     SOLIDITY  CONVEX_AREA  EXTENT  ASPECT_RATIO  ...  KurtosisRR  KurtosisRG  \\\n",
       "876    0.9901       327280  0.7482        1.6089  ...      2.3778      2.4297   \n",
       "455    0.9750       389600  0.7901        1.3913  ...      2.5717      2.8729   \n",
       "484    0.9759       403856  0.7083        1.3274  ...      2.6686      2.5969   \n",
       "745    0.9741       360946  0.7510        1.8503  ...      3.5714      6.0995   \n",
       "397    0.9964       385881  0.7520        1.1629  ...      6.2879      6.2378   \n",
       "\n",
       "     KurtosisRB    EntropyRR    EntropyRG    EntropyRB  ALLdaub4RR  \\\n",
       "876      2.4962 -41818968064 -33614336000 -33326764032     53.8764   \n",
       "455      3.2546 -46985891840 -41227915264 -49049518080     55.2026   \n",
       "484      2.5826 -71837769728 -64554450944 -68040183808     65.0422   \n",
       "745      3.0743 -30345447424 -24345434112 -25393334272     45.8912   \n",
       "397      8.0298 -21725638656 -25549766656 -20514621440     36.8009   \n",
       "\n",
       "     ALLdaub4RG  ALLdaub4RB   Class  \n",
       "876     48.4926     49.3346   SOGAY  \n",
       "455     51.9236     56.4213  ROTANA  \n",
       "484     62.3051     63.7737  ROTANA  \n",
       "745     42.0216     42.6223  SAFAVI  \n",
       "397     40.0605     35.2734   IRAQI  \n",
       "\n",
       "[5 rows x 35 columns]"
      ]
     },
     "execution_count": 22,
     "metadata": {},
     "output_type": "execute_result"
    }
   ],
   "source": [
    "data_shuffled = df.sample(frac=1)\n",
    "data_shuffled.head()"
   ]
  },
  {
   "cell_type": "markdown",
   "metadata": {},
   "source": [
    "### Question 4\n",
    "- Split the dataset into training (80%) and test (20%)\n",
    "    - Splitting your dataset into training and testing sets allows you to evaluate your model's performance accurately"
   ]
  },
  {
   "cell_type": "code",
   "execution_count": 23,
   "metadata": {},
   "outputs": [
    {
     "data": {
      "text/plain": [
       "(898, 35)"
      ]
     },
     "execution_count": 23,
     "metadata": {},
     "output_type": "execute_result"
    }
   ],
   "source": [
    "data_shuffled.shape"
   ]
  },
  {
   "cell_type": "code",
   "execution_count": 24,
   "metadata": {},
   "outputs": [
    {
     "data": {
      "text/plain": [
       "(718, 35)"
      ]
     },
     "execution_count": 24,
     "metadata": {},
     "output_type": "execute_result"
    }
   ],
   "source": [
    "# get the number of rows\n",
    "nrow = len(df)\n",
    "# split the data at 80\n",
    "split = int(nrow * 0.80)\n",
    "# training set is the data shuffled from 0 to 80\n",
    "# .iloc[] is an indexer used for integer-location-based indexing of data in a DataFrame. \n",
    "training_set = data_shuffled.iloc[:split]\n",
    "training_set.shape"
   ]
  },
  {
   "cell_type": "code",
   "execution_count": 25,
   "metadata": {},
   "outputs": [
    {
     "data": {
      "text/plain": [
       "(180, 35)"
      ]
     },
     "execution_count": 25,
     "metadata": {},
     "output_type": "execute_result"
    }
   ],
   "source": [
    "# training set is the data shuffled from 80 to 100\n",
    "test_set = data_shuffled.iloc[split:]\n",
    "test_set.shape"
   ]
  },
  {
   "cell_type": "markdown",
   "metadata": {},
   "source": [
    "### Question 5\n",
    "- Scale all independent features.\n",
    "    - Scaling data into new values makes it easier to compare, especially when the data is in different units of measure."
   ]
  },
  {
   "cell_type": "code",
   "execution_count": 34,
   "metadata": {},
   "outputs": [
    {
     "data": {
      "text/plain": [
       "array([[ 1.15563972,  0.78394219,  0.60450726, ...,  0.53834033,\n",
       "         0.43559289, -0.02390791],\n",
       "       [ 0.37169955,  0.06706714, -0.18747301, ..., -0.00354973,\n",
       "         0.28411298, -0.02469438],\n",
       "       [ 2.13226458,  1.4391311 ,  1.31912143, ...,  0.95889749,\n",
       "         0.74233511,  0.3552428 ],\n",
       "       ...,\n",
       "       [-0.41017878, -0.31949739, -0.02304289, ..., -0.37064418,\n",
       "        -0.56715228, -0.6589192 ],\n",
       "       [-0.55362172, -0.36944589, -0.23728094, ...,  0.071247  ,\n",
       "        -0.21883206, -0.22875922],\n",
       "       [ 0.42446789,  0.56520261,  0.50723897, ..., -0.1705156 ,\n",
       "        -0.71603977, -0.77948909]])"
      ]
     },
     "execution_count": 34,
     "metadata": {},
     "output_type": "execute_result"
    }
   ],
   "source": [
    "from sklearn.preprocessing import StandardScaler\n",
    "\n",
    "# since class is of \"string\" exclude this column and only get the numeric columns\n",
    "df_numeric = df.drop(columns=['Class'])\n",
    "# initialize the scaler\n",
    "scaler = StandardScaler()\n",
    "# fit the scaler to the data\n",
    "scaler.fit(df_numeric)\n",
    "# transform the numerical data\n",
    "scaled_df = scaler.transform(df_numeric)\n",
    "scaled_df\n"
   ]
  },
  {
   "cell_type": "markdown",
   "metadata": {},
   "source": [
    "### Question 6\n",
    "- Build a classifier with the training set.\n",
    "- \"**Classification** is a supervised machine learning method where the model tries to predict the correct label of a given input data. \n",
    "- In classification, the model is fully trained using the training data, and then it is evaluated on test data before being used to perform prediction on new unseen data.\"\n",
    "- A **label** is a column used for supervised learning\n",
    "- **Features** are the values/set of columns that a supervised model uses to predict the label. The **label** is the \"answer,\" or the value we want the model to predict\n",
    "- EX: Spam email detection: Given a set of scam and non-scam emails the model is tested on how well it can label the scam emails"
   ]
  },
  {
   "cell_type": "markdown",
   "metadata": {},
   "source": [
    "##### Using Random Forest Model "
   ]
  },
  {
   "cell_type": "code",
   "execution_count": 27,
   "metadata": {},
   "outputs": [
    {
     "name": "stdout",
     "output_type": "stream",
     "text": [
      "Test Accuracy: 0.8472222222222222\n"
     ]
    }
   ],
   "source": [
    "from sklearn.model_selection import train_test_split\n",
    "from sklearn.preprocessing import LabelEncoder\n",
    "from sklearn.ensemble import RandomForestClassifier\n",
    "\n",
    "# the features are all the columns besides class \n",
    "# because this is the information needed in order to predict/classify the class\n",
    "# the label is Class because this is the column the model is trying to predict\n",
    "features = training_set.drop(columns=['Class'])\n",
    "label = training_set['Class']\n",
    "le = LabelEncoder()\n",
    "le.fit(label)\n",
    "label = le.transform(label)\n",
    "# the model being used is the Random Forest Classifier\n",
    "features_train, features_test, labels_train, labels_test = train_test_split(features, label, test_size=0.20, random_state=42)\n",
    "\n",
    "# initialize the Random Forest Classifier\n",
    "clf = RandomForestClassifier()\n",
    "\n",
    "# train the classifier using the training data\n",
    "clf.fit(features_train, labels_train)\n",
    "\n",
    "# compute accuracy using test data\n",
    "acc_test = clf.score(features_test, labels_test)\n",
    "\n",
    "print (\"Test Accuracy:\", acc_test)\n"
   ]
  },
  {
   "cell_type": "markdown",
   "metadata": {},
   "source": [
    "##### Using Logistic Regression Model"
   ]
  },
  {
   "cell_type": "code",
   "execution_count": 28,
   "metadata": {},
   "outputs": [
    {
     "name": "stdout",
     "output_type": "stream",
     "text": [
      "Logistic Regression model accuracy (in %): 50.0\n"
     ]
    },
    {
     "name": "stderr",
     "output_type": "stream",
     "text": [
      "/Users/natalienguyen/venv-week1/lib/python3.9/site-packages/sklearn/linear_model/_logistic.py:469: ConvergenceWarning: lbfgs failed to converge (status=1):\n",
      "STOP: TOTAL NO. of ITERATIONS REACHED LIMIT.\n",
      "\n",
      "Increase the number of iterations (max_iter) or scale the data as shown in:\n",
      "    https://scikit-learn.org/stable/modules/preprocessing.html\n",
      "Please also refer to the documentation for alternative solver options:\n",
      "    https://scikit-learn.org/stable/modules/linear_model.html#logistic-regression\n",
      "  n_iter_i = _check_optimize_result(\n"
     ]
    }
   ],
   "source": [
    "from sklearn.linear_model import LogisticRegression\n",
    "from sklearn.metrics import accuracy_score\n",
    "\n",
    "# LogisticRegression\n",
    "clf = LogisticRegression(random_state=0)\n",
    "clf.fit(features_train, labels_train)\n",
    "# Prediction\n",
    "y_pred = clf.predict(features_test)\n",
    "\n",
    "acc = accuracy_score(labels_test, y_pred)\n",
    "print(\"Logistic Regression model accuracy (in %):\", acc*100)"
   ]
  },
  {
   "cell_type": "markdown",
   "metadata": {},
   "source": [
    "##### Using Decision Tree Model"
   ]
  },
  {
   "cell_type": "code",
   "execution_count": 29,
   "metadata": {},
   "outputs": [
    {
     "name": "stdout",
     "output_type": "stream",
     "text": [
      "Accuracy: 0.8194444444444444\n"
     ]
    }
   ],
   "source": [
    "from sklearn.tree import DecisionTreeClassifier # Import Decision Tree Classifier\n",
    "from sklearn import metrics #Import scikit-learn metrics module for accuracy calculation\n",
    "\n",
    "# Create Decision Tree classifer object\n",
    "clf = DecisionTreeClassifier()\n",
    "\n",
    "clf.fit(features_train, labels_train)\n",
    "# Prediction\n",
    "y_pred = clf.predict(features_test)\n",
    "\n",
    "print(\"Accuracy:\",metrics.accuracy_score(labels_test, y_pred))\n",
    "\n",
    "\n"
   ]
  },
  {
   "cell_type": "markdown",
   "metadata": {},
   "source": [
    "##### Using Gradient Boosting Model"
   ]
  },
  {
   "cell_type": "code",
   "execution_count": 30,
   "metadata": {},
   "outputs": [
    {
     "name": "stdout",
     "output_type": "stream",
     "text": [
      "Accuracy: 0.8611111111111112\n"
     ]
    }
   ],
   "source": [
    "from sklearn.ensemble import GradientBoostingClassifier\n",
    "# Create Decision Tree classifer object\n",
    "clf = GradientBoostingClassifier()\n",
    "\n",
    "clf.fit(features_train, labels_train)\n",
    "# Prediction\n",
    "y_pred = clf.predict(features_test)\n",
    "\n",
    "print(\"Accuracy:\",metrics.accuracy_score(labels_test, y_pred))\n"
   ]
  },
  {
   "cell_type": "markdown",
   "metadata": {},
   "source": [
    "### Question 8\n",
    "- Evaluate the model performance based on the test set.\n",
    "- So far, Random Forest and Gradient Boosting have the best results"
   ]
  },
  {
   "cell_type": "code",
   "execution_count": 32,
   "metadata": {},
   "outputs": [
    {
     "name": "stdout",
     "output_type": "stream",
     "text": [
      "Precision: 0.8624278499278499\n",
      "Recall: 0.8611111111111112\n"
     ]
    }
   ],
   "source": [
    "from sklearn.metrics import recall_score, precision_score\n",
    "\n",
    "# precision: proportion of positive samples out all of all predicted positives/ false negatives \n",
    "precision = precision_score(labels_test, y_pred, average=\"weighted\")\n",
    "# recall: true positive rate/ false positives\n",
    "recall = recall_score(labels_test, y_pred, average=\"weighted\")\n",
    "\n",
    "print (\"Precision:\", precision) \n",
    "print (\"Recall:\", recall) \n",
    "\n",
    "# There are slightly more false negatives than positives\n"
   ]
  },
  {
   "cell_type": "markdown",
   "metadata": {},
   "source": [
    "## Process of Building an Effection Classification Model\n",
    "### Step 1: Define the Problem\n",
    "- Understand what you want to accomplish with your classification model.\n",
    "- For ex, if the data set consists of spam emails and non-spam emails, the goal might be scam email classification\n",
    "\n",
    "### Step 2: Gather and Preprocess the Data\n",
    "- Shuffle the data\n",
    "- Split it into a training and testing set\n",
    "\n",
    "### Step 3: Feature Selection and Engineering\n",
    "- Features are going to be the columns that a supervised model uses to predict the label (Emails: Spam and non-spam emails)\n",
    "- A label is the column that the supervised model is trying to predict (Class: spam or non-spam)\n",
    "\n",
    "### Step 4: Choose a model (Supervised learning)\n",
    "- There are many models to choose from:\n",
    "    - Random Forest \n",
    "    - Support Vector Machines\n",
    "    - Neural Networks\n",
    "    - Gradient Boosting \n",
    "    - Logistic Regression\n",
    "    - Decision Trees\n",
    "    - etc.\n",
    "\n",
    "### Step 5: Evaluate the Model\n",
    "- Calculate the precision and recall of the set\n"
   ]
  }
 ],
 "metadata": {
  "kernelspec": {
   "display_name": "venv-week1",
   "language": "python",
   "name": "python3"
  },
  "language_info": {
   "codemirror_mode": {
    "name": "ipython",
    "version": 3
   },
   "file_extension": ".py",
   "mimetype": "text/x-python",
   "name": "python",
   "nbconvert_exporter": "python",
   "pygments_lexer": "ipython3",
   "version": "3.9.7"
  }
 },
 "nbformat": 4,
 "nbformat_minor": 2
}
