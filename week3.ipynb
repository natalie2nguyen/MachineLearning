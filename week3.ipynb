{
 "cells": [
  {
   "cell_type": "markdown",
   "metadata": {},
   "source": [
    "### Question 1\n",
    "- How many samples are there in the dataset?\n",
    "- How many features are there per sample, excluding the class/type label?\n",
    "- Print the number of unique classes (i.e., fruit types), list the class names, and their frequency distribution."
   ]
  },
  {
   "cell_type": "code",
   "execution_count": 87,
   "metadata": {},
   "outputs": [
    {
     "data": {
      "text/plain": [
       "(898, 35)"
      ]
     },
     "execution_count": 87,
     "metadata": {},
     "output_type": "execute_result"
    }
   ],
   "source": [
    "import pandas as pd\n",
    "\n",
    "# There are 898 samples/rows\n",
    "# There are 35 features/columns\n",
    "df = pd.read_excel('datasets/Date_Fruit_Datasets.xlsx',sheet_name=\"Date_Fruit_Datasets\")\n",
    "df.shape"
   ]
  },
  {
   "cell_type": "code",
   "execution_count": 88,
   "metadata": {},
   "outputs": [
    {
     "data": {
      "text/plain": [
       "7"
      ]
     },
     "execution_count": 88,
     "metadata": {},
     "output_type": "execute_result"
    }
   ],
   "source": [
    "# The nunique() method returns the number of unique values for each column.\n",
    "# There are 7 unique values in the \"Class\" column\n",
    "df['Class'].nunique()\n"
   ]
  },
  {
   "cell_type": "code",
   "execution_count": 89,
   "metadata": {},
   "outputs": [
    {
     "data": {
      "text/plain": [
       "array(['BERHI', 'DEGLET', 'DOKOL', 'IRAQI', 'ROTANA', 'SAFAVI', 'SOGAY'],\n",
       "      dtype=object)"
      ]
     },
     "execution_count": 89,
     "metadata": {},
     "output_type": "execute_result"
    }
   ],
   "source": [
    "# list of unique values in 'Class' column\n",
    "df['Class'].unique()"
   ]
  },
  {
   "cell_type": "code",
   "execution_count": 90,
   "metadata": {},
   "outputs": [
    {
     "data": {
      "text/plain": [
       "Class\n",
       "DOKOL     204\n",
       "SAFAVI    199\n",
       "ROTANA    166\n",
       "DEGLET     98\n",
       "SOGAY      94\n",
       "IRAQI      72\n",
       "BERHI      65\n",
       "Name: count, dtype: int64"
      ]
     },
     "execution_count": 90,
     "metadata": {},
     "output_type": "execute_result"
    }
   ],
   "source": [
    "# Class distribution\n",
    "df['Class'].value_counts()"
   ]
  },
  {
   "cell_type": "markdown",
   "metadata": {},
   "source": [
    "### Question 2\n",
    "- List mean, stdev, min, max of each of the features in the dataset\n",
    "\n",
    "- The **describe()** method returns description of the data in the DataFrame.\n",
    "    - If the DataFrame contains numerical data, the description contains these information for each column:\n",
    "        - count - The number of not-empty values.\n",
    "        - mean - The average (mean) value.\n",
    "        - std - The standard deviation.\n",
    "        - min - the minimum value.\n",
    "        - 25% - The 25% percentile*.\n",
    "        - 50% - The 50% percentile*.\n",
    "        - 75% - The 75% percentile*.\n",
    "        - max - the maximum value."
   ]
  },
  {
   "cell_type": "code",
   "execution_count": 91,
   "metadata": {},
   "outputs": [
    {
     "data": {
      "text/html": [
       "<div>\n",
       "<style scoped>\n",
       "    .dataframe tbody tr th:only-of-type {\n",
       "        vertical-align: middle;\n",
       "    }\n",
       "\n",
       "    .dataframe tbody tr th {\n",
       "        vertical-align: top;\n",
       "    }\n",
       "\n",
       "    .dataframe thead th {\n",
       "        text-align: right;\n",
       "    }\n",
       "</style>\n",
       "<table border=\"1\" class=\"dataframe\">\n",
       "  <thead>\n",
       "    <tr style=\"text-align: right;\">\n",
       "      <th></th>\n",
       "      <th>AREA</th>\n",
       "      <th>PERIMETER</th>\n",
       "      <th>MAJOR_AXIS</th>\n",
       "      <th>MINOR_AXIS</th>\n",
       "      <th>ECCENTRICITY</th>\n",
       "      <th>EQDIASQ</th>\n",
       "      <th>SOLIDITY</th>\n",
       "      <th>CONVEX_AREA</th>\n",
       "      <th>EXTENT</th>\n",
       "      <th>ASPECT_RATIO</th>\n",
       "      <th>...</th>\n",
       "      <th>SkewRB</th>\n",
       "      <th>KurtosisRR</th>\n",
       "      <th>KurtosisRG</th>\n",
       "      <th>KurtosisRB</th>\n",
       "      <th>EntropyRR</th>\n",
       "      <th>EntropyRG</th>\n",
       "      <th>EntropyRB</th>\n",
       "      <th>ALLdaub4RR</th>\n",
       "      <th>ALLdaub4RG</th>\n",
       "      <th>ALLdaub4RB</th>\n",
       "    </tr>\n",
       "  </thead>\n",
       "  <tbody>\n",
       "    <tr>\n",
       "      <th>count</th>\n",
       "      <td>898.000000</td>\n",
       "      <td>898.000000</td>\n",
       "      <td>898.000000</td>\n",
       "      <td>898.000000</td>\n",
       "      <td>898.000000</td>\n",
       "      <td>898.000000</td>\n",
       "      <td>898.000000</td>\n",
       "      <td>898.000000</td>\n",
       "      <td>898.000000</td>\n",
       "      <td>898.000000</td>\n",
       "      <td>...</td>\n",
       "      <td>898.000000</td>\n",
       "      <td>898.000000</td>\n",
       "      <td>898.000000</td>\n",
       "      <td>898.000000</td>\n",
       "      <td>8.980000e+02</td>\n",
       "      <td>8.980000e+02</td>\n",
       "      <td>8.980000e+02</td>\n",
       "      <td>898.000000</td>\n",
       "      <td>898.000000</td>\n",
       "      <td>898.000000</td>\n",
       "    </tr>\n",
       "    <tr>\n",
       "      <th>mean</th>\n",
       "      <td>298295.207127</td>\n",
       "      <td>2057.660953</td>\n",
       "      <td>750.811994</td>\n",
       "      <td>495.872785</td>\n",
       "      <td>0.737468</td>\n",
       "      <td>604.577938</td>\n",
       "      <td>0.981840</td>\n",
       "      <td>303845.592428</td>\n",
       "      <td>0.736267</td>\n",
       "      <td>2.131102</td>\n",
       "      <td>...</td>\n",
       "      <td>0.250518</td>\n",
       "      <td>4.247845</td>\n",
       "      <td>5.110894</td>\n",
       "      <td>3.780928</td>\n",
       "      <td>-3.185021e+10</td>\n",
       "      <td>-2.901860e+10</td>\n",
       "      <td>-2.771876e+10</td>\n",
       "      <td>50.082888</td>\n",
       "      <td>48.805681</td>\n",
       "      <td>48.098393</td>\n",
       "    </tr>\n",
       "    <tr>\n",
       "      <th>std</th>\n",
       "      <td>107245.205337</td>\n",
       "      <td>410.012459</td>\n",
       "      <td>144.059326</td>\n",
       "      <td>114.268917</td>\n",
       "      <td>0.088727</td>\n",
       "      <td>119.593888</td>\n",
       "      <td>0.018157</td>\n",
       "      <td>108815.656947</td>\n",
       "      <td>0.053745</td>\n",
       "      <td>17.820778</td>\n",
       "      <td>...</td>\n",
       "      <td>0.632918</td>\n",
       "      <td>2.892357</td>\n",
       "      <td>3.745463</td>\n",
       "      <td>2.049831</td>\n",
       "      <td>2.037241e+10</td>\n",
       "      <td>1.712952e+10</td>\n",
       "      <td>1.484137e+10</td>\n",
       "      <td>16.063125</td>\n",
       "      <td>14.125911</td>\n",
       "      <td>10.813862</td>\n",
       "    </tr>\n",
       "    <tr>\n",
       "      <th>min</th>\n",
       "      <td>1987.000000</td>\n",
       "      <td>911.828000</td>\n",
       "      <td>336.722700</td>\n",
       "      <td>2.283200</td>\n",
       "      <td>0.344800</td>\n",
       "      <td>50.298400</td>\n",
       "      <td>0.836600</td>\n",
       "      <td>2257.000000</td>\n",
       "      <td>0.512300</td>\n",
       "      <td>1.065300</td>\n",
       "      <td>...</td>\n",
       "      <td>-1.029100</td>\n",
       "      <td>1.708200</td>\n",
       "      <td>1.607600</td>\n",
       "      <td>1.767200</td>\n",
       "      <td>-1.091224e+11</td>\n",
       "      <td>-9.261697e+10</td>\n",
       "      <td>-8.747177e+10</td>\n",
       "      <td>15.191100</td>\n",
       "      <td>20.524700</td>\n",
       "      <td>22.130000</td>\n",
       "    </tr>\n",
       "    <tr>\n",
       "      <th>25%</th>\n",
       "      <td>206948.000000</td>\n",
       "      <td>1726.091500</td>\n",
       "      <td>641.068650</td>\n",
       "      <td>404.684375</td>\n",
       "      <td>0.685625</td>\n",
       "      <td>513.317075</td>\n",
       "      <td>0.978825</td>\n",
       "      <td>210022.750000</td>\n",
       "      <td>0.705875</td>\n",
       "      <td>1.373725</td>\n",
       "      <td>...</td>\n",
       "      <td>-0.196950</td>\n",
       "      <td>2.536625</td>\n",
       "      <td>2.508850</td>\n",
       "      <td>2.577275</td>\n",
       "      <td>-4.429444e+10</td>\n",
       "      <td>-3.894638e+10</td>\n",
       "      <td>-3.564534e+10</td>\n",
       "      <td>38.224425</td>\n",
       "      <td>38.654525</td>\n",
       "      <td>39.250725</td>\n",
       "    </tr>\n",
       "    <tr>\n",
       "      <th>50%</th>\n",
       "      <td>319833.000000</td>\n",
       "      <td>2196.345450</td>\n",
       "      <td>791.363400</td>\n",
       "      <td>495.054850</td>\n",
       "      <td>0.754700</td>\n",
       "      <td>638.140950</td>\n",
       "      <td>0.987300</td>\n",
       "      <td>327207.000000</td>\n",
       "      <td>0.746950</td>\n",
       "      <td>1.524150</td>\n",
       "      <td>...</td>\n",
       "      <td>0.135550</td>\n",
       "      <td>3.069800</td>\n",
       "      <td>3.127800</td>\n",
       "      <td>3.080700</td>\n",
       "      <td>-2.826156e+10</td>\n",
       "      <td>-2.620990e+10</td>\n",
       "      <td>-2.392928e+10</td>\n",
       "      <td>53.841300</td>\n",
       "      <td>50.337800</td>\n",
       "      <td>49.614100</td>\n",
       "    </tr>\n",
       "    <tr>\n",
       "      <th>75%</th>\n",
       "      <td>382573.000000</td>\n",
       "      <td>2389.716575</td>\n",
       "      <td>858.633750</td>\n",
       "      <td>589.031700</td>\n",
       "      <td>0.802150</td>\n",
       "      <td>697.930525</td>\n",
       "      <td>0.991800</td>\n",
       "      <td>388804.000000</td>\n",
       "      <td>0.775850</td>\n",
       "      <td>1.674750</td>\n",
       "      <td>...</td>\n",
       "      <td>0.593950</td>\n",
       "      <td>4.449850</td>\n",
       "      <td>7.320400</td>\n",
       "      <td>4.283125</td>\n",
       "      <td>-1.460482e+10</td>\n",
       "      <td>-1.433105e+10</td>\n",
       "      <td>-1.660367e+10</td>\n",
       "      <td>63.063350</td>\n",
       "      <td>59.573600</td>\n",
       "      <td>56.666675</td>\n",
       "    </tr>\n",
       "    <tr>\n",
       "      <th>max</th>\n",
       "      <td>546063.000000</td>\n",
       "      <td>2811.997100</td>\n",
       "      <td>1222.723000</td>\n",
       "      <td>766.453600</td>\n",
       "      <td>1.000000</td>\n",
       "      <td>833.827900</td>\n",
       "      <td>0.997400</td>\n",
       "      <td>552598.000000</td>\n",
       "      <td>0.856200</td>\n",
       "      <td>535.525700</td>\n",
       "      <td>...</td>\n",
       "      <td>3.092300</td>\n",
       "      <td>26.171100</td>\n",
       "      <td>26.736700</td>\n",
       "      <td>32.249500</td>\n",
       "      <td>-1.627316e+08</td>\n",
       "      <td>-5.627727e+08</td>\n",
       "      <td>-4.370435e+08</td>\n",
       "      <td>79.828900</td>\n",
       "      <td>83.064900</td>\n",
       "      <td>74.104600</td>\n",
       "    </tr>\n",
       "  </tbody>\n",
       "</table>\n",
       "<p>8 rows × 34 columns</p>\n",
       "</div>"
      ],
      "text/plain": [
       "                AREA    PERIMETER   MAJOR_AXIS  MINOR_AXIS  ECCENTRICITY  \\\n",
       "count     898.000000   898.000000   898.000000  898.000000    898.000000   \n",
       "mean   298295.207127  2057.660953   750.811994  495.872785      0.737468   \n",
       "std    107245.205337   410.012459   144.059326  114.268917      0.088727   \n",
       "min      1987.000000   911.828000   336.722700    2.283200      0.344800   \n",
       "25%    206948.000000  1726.091500   641.068650  404.684375      0.685625   \n",
       "50%    319833.000000  2196.345450   791.363400  495.054850      0.754700   \n",
       "75%    382573.000000  2389.716575   858.633750  589.031700      0.802150   \n",
       "max    546063.000000  2811.997100  1222.723000  766.453600      1.000000   \n",
       "\n",
       "          EQDIASQ    SOLIDITY    CONVEX_AREA      EXTENT  ASPECT_RATIO  ...  \\\n",
       "count  898.000000  898.000000     898.000000  898.000000    898.000000  ...   \n",
       "mean   604.577938    0.981840  303845.592428    0.736267      2.131102  ...   \n",
       "std    119.593888    0.018157  108815.656947    0.053745     17.820778  ...   \n",
       "min     50.298400    0.836600    2257.000000    0.512300      1.065300  ...   \n",
       "25%    513.317075    0.978825  210022.750000    0.705875      1.373725  ...   \n",
       "50%    638.140950    0.987300  327207.000000    0.746950      1.524150  ...   \n",
       "75%    697.930525    0.991800  388804.000000    0.775850      1.674750  ...   \n",
       "max    833.827900    0.997400  552598.000000    0.856200    535.525700  ...   \n",
       "\n",
       "           SkewRB  KurtosisRR  KurtosisRG  KurtosisRB     EntropyRR  \\\n",
       "count  898.000000  898.000000  898.000000  898.000000  8.980000e+02   \n",
       "mean     0.250518    4.247845    5.110894    3.780928 -3.185021e+10   \n",
       "std      0.632918    2.892357    3.745463    2.049831  2.037241e+10   \n",
       "min     -1.029100    1.708200    1.607600    1.767200 -1.091224e+11   \n",
       "25%     -0.196950    2.536625    2.508850    2.577275 -4.429444e+10   \n",
       "50%      0.135550    3.069800    3.127800    3.080700 -2.826156e+10   \n",
       "75%      0.593950    4.449850    7.320400    4.283125 -1.460482e+10   \n",
       "max      3.092300   26.171100   26.736700   32.249500 -1.627316e+08   \n",
       "\n",
       "          EntropyRG     EntropyRB  ALLdaub4RR  ALLdaub4RG  ALLdaub4RB  \n",
       "count  8.980000e+02  8.980000e+02  898.000000  898.000000  898.000000  \n",
       "mean  -2.901860e+10 -2.771876e+10   50.082888   48.805681   48.098393  \n",
       "std    1.712952e+10  1.484137e+10   16.063125   14.125911   10.813862  \n",
       "min   -9.261697e+10 -8.747177e+10   15.191100   20.524700   22.130000  \n",
       "25%   -3.894638e+10 -3.564534e+10   38.224425   38.654525   39.250725  \n",
       "50%   -2.620990e+10 -2.392928e+10   53.841300   50.337800   49.614100  \n",
       "75%   -1.433105e+10 -1.660367e+10   63.063350   59.573600   56.666675  \n",
       "max   -5.627727e+08 -4.370435e+08   79.828900   83.064900   74.104600  \n",
       "\n",
       "[8 rows x 34 columns]"
      ]
     },
     "execution_count": 91,
     "metadata": {},
     "output_type": "execute_result"
    }
   ],
   "source": [
    "\n",
    "df.describe()"
   ]
  },
  {
   "cell_type": "markdown",
   "metadata": {},
   "source": [
    "### Question 3\n",
    "- Shuffle the data samples."
   ]
  },
  {
   "cell_type": "code",
   "execution_count": 92,
   "metadata": {},
   "outputs": [
    {
     "data": {
      "text/html": [
       "<div>\n",
       "<style scoped>\n",
       "    .dataframe tbody tr th:only-of-type {\n",
       "        vertical-align: middle;\n",
       "    }\n",
       "\n",
       "    .dataframe tbody tr th {\n",
       "        vertical-align: top;\n",
       "    }\n",
       "\n",
       "    .dataframe thead th {\n",
       "        text-align: right;\n",
       "    }\n",
       "</style>\n",
       "<table border=\"1\" class=\"dataframe\">\n",
       "  <thead>\n",
       "    <tr style=\"text-align: right;\">\n",
       "      <th></th>\n",
       "      <th>AREA</th>\n",
       "      <th>PERIMETER</th>\n",
       "      <th>MAJOR_AXIS</th>\n",
       "      <th>MINOR_AXIS</th>\n",
       "      <th>ECCENTRICITY</th>\n",
       "      <th>EQDIASQ</th>\n",
       "      <th>SOLIDITY</th>\n",
       "      <th>CONVEX_AREA</th>\n",
       "      <th>EXTENT</th>\n",
       "      <th>ASPECT_RATIO</th>\n",
       "      <th>...</th>\n",
       "      <th>KurtosisRR</th>\n",
       "      <th>KurtosisRG</th>\n",
       "      <th>KurtosisRB</th>\n",
       "      <th>EntropyRR</th>\n",
       "      <th>EntropyRG</th>\n",
       "      <th>EntropyRB</th>\n",
       "      <th>ALLdaub4RR</th>\n",
       "      <th>ALLdaub4RG</th>\n",
       "      <th>ALLdaub4RB</th>\n",
       "      <th>Class</th>\n",
       "    </tr>\n",
       "  </thead>\n",
       "  <tbody>\n",
       "    <tr>\n",
       "      <th>778</th>\n",
       "      <td>275775</td>\n",
       "      <td>2000.7679</td>\n",
       "      <td>723.7550</td>\n",
       "      <td>488.6776</td>\n",
       "      <td>0.7376</td>\n",
       "      <td>592.5602</td>\n",
       "      <td>0.9792</td>\n",
       "      <td>281629</td>\n",
       "      <td>0.7508</td>\n",
       "      <td>1.4810</td>\n",
       "      <td>...</td>\n",
       "      <td>10.2174</td>\n",
       "      <td>18.4374</td>\n",
       "      <td>11.6739</td>\n",
       "      <td>-3876588032</td>\n",
       "      <td>-6089985536</td>\n",
       "      <td>-6685989376</td>\n",
       "      <td>20.3311</td>\n",
       "      <td>24.5301</td>\n",
       "      <td>26.3956</td>\n",
       "      <td>SAFAVI</td>\n",
       "    </tr>\n",
       "    <tr>\n",
       "      <th>270</th>\n",
       "      <td>102142</td>\n",
       "      <td>1223.5020</td>\n",
       "      <td>441.7251</td>\n",
       "      <td>296.5040</td>\n",
       "      <td>0.7412</td>\n",
       "      <td>360.6262</td>\n",
       "      <td>0.9863</td>\n",
       "      <td>103559</td>\n",
       "      <td>0.7847</td>\n",
       "      <td>1.4898</td>\n",
       "      <td>...</td>\n",
       "      <td>3.7325</td>\n",
       "      <td>3.9749</td>\n",
       "      <td>3.0696</td>\n",
       "      <td>-20307597312</td>\n",
       "      <td>-20240594944</td>\n",
       "      <td>-18247018496</td>\n",
       "      <td>68.7153</td>\n",
       "      <td>69.4312</td>\n",
       "      <td>65.9034</td>\n",
       "      <td>DOKOL</td>\n",
       "    </tr>\n",
       "    <tr>\n",
       "      <th>413</th>\n",
       "      <td>443176</td>\n",
       "      <td>2396.9109</td>\n",
       "      <td>812.2444</td>\n",
       "      <td>696.6966</td>\n",
       "      <td>0.5141</td>\n",
       "      <td>751.1785</td>\n",
       "      <td>0.9955</td>\n",
       "      <td>445166</td>\n",
       "      <td>0.7761</td>\n",
       "      <td>1.1659</td>\n",
       "      <td>...</td>\n",
       "      <td>5.3236</td>\n",
       "      <td>5.6613</td>\n",
       "      <td>3.9537</td>\n",
       "      <td>-25886412800</td>\n",
       "      <td>-30810806272</td>\n",
       "      <td>-38125469696</td>\n",
       "      <td>38.3672</td>\n",
       "      <td>41.8822</td>\n",
       "      <td>45.3251</td>\n",
       "      <td>IRAQI</td>\n",
       "    </tr>\n",
       "    <tr>\n",
       "      <th>568</th>\n",
       "      <td>306838</td>\n",
       "      <td>2083.2939</td>\n",
       "      <td>735.8170</td>\n",
       "      <td>538.9604</td>\n",
       "      <td>0.6808</td>\n",
       "      <td>625.0426</td>\n",
       "      <td>0.9843</td>\n",
       "      <td>311721</td>\n",
       "      <td>0.7458</td>\n",
       "      <td>1.3653</td>\n",
       "      <td>...</td>\n",
       "      <td>2.7502</td>\n",
       "      <td>2.8511</td>\n",
       "      <td>3.2766</td>\n",
       "      <td>-58464866304</td>\n",
       "      <td>-55601831936</td>\n",
       "      <td>-46576140288</td>\n",
       "      <td>67.1279</td>\n",
       "      <td>65.8963</td>\n",
       "      <td>60.6705</td>\n",
       "      <td>ROTANA</td>\n",
       "    </tr>\n",
       "    <tr>\n",
       "      <th>128</th>\n",
       "      <td>212851</td>\n",
       "      <td>1826.4060</td>\n",
       "      <td>675.8557</td>\n",
       "      <td>453.7003</td>\n",
       "      <td>0.7412</td>\n",
       "      <td>520.5865</td>\n",
       "      <td>0.8987</td>\n",
       "      <td>236831</td>\n",
       "      <td>0.6544</td>\n",
       "      <td>1.4897</td>\n",
       "      <td>...</td>\n",
       "      <td>1.8429</td>\n",
       "      <td>1.9293</td>\n",
       "      <td>2.3172</td>\n",
       "      <td>-35414614016</td>\n",
       "      <td>-35642032128</td>\n",
       "      <td>-27724906496</td>\n",
       "      <td>61.3593</td>\n",
       "      <td>61.4745</td>\n",
       "      <td>55.6209</td>\n",
       "      <td>DEGLET</td>\n",
       "    </tr>\n",
       "  </tbody>\n",
       "</table>\n",
       "<p>5 rows × 35 columns</p>\n",
       "</div>"
      ],
      "text/plain": [
       "       AREA  PERIMETER  MAJOR_AXIS  MINOR_AXIS  ECCENTRICITY   EQDIASQ  \\\n",
       "778  275775  2000.7679    723.7550    488.6776        0.7376  592.5602   \n",
       "270  102142  1223.5020    441.7251    296.5040        0.7412  360.6262   \n",
       "413  443176  2396.9109    812.2444    696.6966        0.5141  751.1785   \n",
       "568  306838  2083.2939    735.8170    538.9604        0.6808  625.0426   \n",
       "128  212851  1826.4060    675.8557    453.7003        0.7412  520.5865   \n",
       "\n",
       "     SOLIDITY  CONVEX_AREA  EXTENT  ASPECT_RATIO  ...  KurtosisRR  KurtosisRG  \\\n",
       "778    0.9792       281629  0.7508        1.4810  ...     10.2174     18.4374   \n",
       "270    0.9863       103559  0.7847        1.4898  ...      3.7325      3.9749   \n",
       "413    0.9955       445166  0.7761        1.1659  ...      5.3236      5.6613   \n",
       "568    0.9843       311721  0.7458        1.3653  ...      2.7502      2.8511   \n",
       "128    0.8987       236831  0.6544        1.4897  ...      1.8429      1.9293   \n",
       "\n",
       "     KurtosisRB    EntropyRR    EntropyRG    EntropyRB  ALLdaub4RR  \\\n",
       "778     11.6739  -3876588032  -6089985536  -6685989376     20.3311   \n",
       "270      3.0696 -20307597312 -20240594944 -18247018496     68.7153   \n",
       "413      3.9537 -25886412800 -30810806272 -38125469696     38.3672   \n",
       "568      3.2766 -58464866304 -55601831936 -46576140288     67.1279   \n",
       "128      2.3172 -35414614016 -35642032128 -27724906496     61.3593   \n",
       "\n",
       "     ALLdaub4RG  ALLdaub4RB   Class  \n",
       "778     24.5301     26.3956  SAFAVI  \n",
       "270     69.4312     65.9034   DOKOL  \n",
       "413     41.8822     45.3251   IRAQI  \n",
       "568     65.8963     60.6705  ROTANA  \n",
       "128     61.4745     55.6209  DEGLET  \n",
       "\n",
       "[5 rows x 35 columns]"
      ]
     },
     "execution_count": 92,
     "metadata": {},
     "output_type": "execute_result"
    }
   ],
   "source": [
    "data_shuffled = df.sample(frac=1)\n",
    "data_shuffled.head()"
   ]
  },
  {
   "cell_type": "markdown",
   "metadata": {},
   "source": [
    "### Question 4\n",
    "- Split the dataset into training (80%) and test (20%)\n",
    "    - Splitting your dataset into training and testing sets allows you to evaluate your model's performance accurately"
   ]
  },
  {
   "cell_type": "code",
   "execution_count": 93,
   "metadata": {},
   "outputs": [
    {
     "data": {
      "text/plain": [
       "(898, 35)"
      ]
     },
     "execution_count": 93,
     "metadata": {},
     "output_type": "execute_result"
    }
   ],
   "source": [
    "data_shuffled.shape"
   ]
  },
  {
   "cell_type": "code",
   "execution_count": 94,
   "metadata": {},
   "outputs": [
    {
     "data": {
      "text/plain": [
       "(718, 35)"
      ]
     },
     "execution_count": 94,
     "metadata": {},
     "output_type": "execute_result"
    }
   ],
   "source": [
    "# get the number of rows\n",
    "nrow = len(df)\n",
    "# split the data at 80\n",
    "split = int(nrow * 0.80)\n",
    "# training set is the data shuffled from 0 to 80\n",
    "# .iloc[] is an indexer used for integer-location-based indexing of data in a DataFrame. \n",
    "training_set = data_shuffled.iloc[:split]\n",
    "training_set.shape"
   ]
  },
  {
   "cell_type": "code",
   "execution_count": 95,
   "metadata": {},
   "outputs": [
    {
     "data": {
      "text/plain": [
       "(180, 35)"
      ]
     },
     "execution_count": 95,
     "metadata": {},
     "output_type": "execute_result"
    }
   ],
   "source": [
    "# training set is the data shuffled from 80 to 100\n",
    "test_set = data_shuffled.iloc[split:]\n",
    "test_set.shape"
   ]
  },
  {
   "cell_type": "markdown",
   "metadata": {},
   "source": [
    "### Question 5\n",
    "- Scale all independent features.\n",
    "    - **Scaling** data into new values makes it easier to compare, especially when the data is in different units of measure."
   ]
  },
  {
   "cell_type": "code",
   "execution_count": 96,
   "metadata": {},
   "outputs": [
    {
     "data": {
      "text/plain": [
       "array([[-0.18370359, -0.11107604, -0.1662866 , ..., -1.85145615,\n",
       "        -1.71704847, -2.01307594],\n",
       "       [-1.80161042, -2.01241832, -2.12508268, ...,  1.14089136,\n",
       "         1.43848203,  1.6297658 ],\n",
       "       [ 1.37613366,  0.85796614,  0.44830317, ..., -0.73600361,\n",
       "        -0.49758879, -0.2676694 ],\n",
       "       ...,\n",
       "       [ 0.97590827,  1.24397781,  1.16335115, ..., -1.4999817 ,\n",
       "        -1.42054831, -1.22870106],\n",
       "       [ 0.43513997,  0.55096184,  0.80964536, ..., -1.54782542,\n",
       "        -1.40928285, -1.31656381],\n",
       "       [ 0.50130686,  0.83329163,  1.2666396 , ..., -1.41815385,\n",
       "        -1.30503342, -1.0247883 ]])"
      ]
     },
     "execution_count": 96,
     "metadata": {},
     "output_type": "execute_result"
    }
   ],
   "source": [
    "from sklearn.preprocessing import StandardScaler\n",
    "# features = x\n",
    "# label =  y\n",
    "# the features are all the columns besides class \n",
    "# because this is the information needed in order to predict/classify the class\n",
    "train_set_x = training_set.drop(columns=['Class'])\n",
    "test_set_x = test_set.drop(columns=['Class'])\n",
    "# initialize the scaler\n",
    "scaler = StandardScaler()\n",
    "# fit the scaler to the sets\n",
    "scaler.fit(train_set_x)\n",
    "# transform the numerical data\n",
    "scaled_training_x = scaler.transform(train_set_x)\n",
    "scaled_testing_x = scaler.transform(test_set_x)\n",
    "\n",
    "scaled_training_x\n"
   ]
  },
  {
   "cell_type": "markdown",
   "metadata": {},
   "source": [
    "### Question 6\n",
    "- Build a classifier with the training set.\n",
    "- \"**Classification** is a supervised machine learning method where the model tries to predict the correct label of a given input data. \n",
    "- In classification, the model is fully trained using the training data, and then it is evaluated on test data before being used to perform prediction on new unseen data.\"\n",
    "- A **label** is a column used for supervised learning\n",
    "- **Features** are the values/set of columns that a supervised model uses to predict the label. The **label** is the \"answer,\" or the value we want the model to predict\n",
    "- EX: Spam email detection: Given a set of scam and non-scam emails the model is tested on how well it can label the scam emails"
   ]
  },
  {
   "cell_type": "markdown",
   "metadata": {},
   "source": [
    "##### Using Logistic Regression Model"
   ]
  },
  {
   "cell_type": "code",
   "execution_count": 97,
   "metadata": {},
   "outputs": [
    {
     "name": "stdout",
     "output_type": "stream",
     "text": [
      "Accuracy: 0.9166666666666666\n"
     ]
    }
   ],
   "source": [
    "\n",
    "from sklearn.linear_model import LogisticRegression\n",
    "from sklearn.preprocessing import LabelEncoder\n",
    "from sklearn.metrics import accuracy_score\n",
    "\n",
    "\n",
    "# the label is Class because this is the column the model is trying to predict\n",
    "# encode,fit, and transform the label\n",
    "train_set_y = training_set['Class']\n",
    "test_set_y = test_set['Class']\n",
    "# LabelEncoder() is used for encoding categorical labels into numerical values.\n",
    "le = LabelEncoder()\n",
    "# The fit method is used to train a machine learning model on a dataset. \n",
    "# It takes in a dataset and a set of labels, and then fits the model to the data.\n",
    "le.fit(train_set_y)\n",
    "\n",
    "encoded_training_y = le.transform(train_set_y)\n",
    "encoded_testing_y = le.transform(test_set_y)\n",
    "\n",
    "model = LogisticRegression()\n",
    "model.fit(X=scaled_training_x, y=encoded_training_y )\n",
    "pred = model.predict(scaled_testing_x)\n",
    "\n",
    "accuracy = accuracy_score(encoded_testing_y, pred)\n",
    "print(\"Accuracy:\", accuracy)\n"
   ]
  },
  {
   "cell_type": "markdown",
   "metadata": {},
   "source": [
    "##### Using Decision Tree Model"
   ]
  },
  {
   "cell_type": "code",
   "execution_count": 98,
   "metadata": {},
   "outputs": [
    {
     "name": "stdout",
     "output_type": "stream",
     "text": [
      "Accuracy: 0.8111111111111111\n"
     ]
    }
   ],
   "source": [
    "from sklearn.tree import DecisionTreeClassifier # Import Decision Tree Classifier\n",
    "\n",
    "model = DecisionTreeClassifier()\n",
    "model.fit(X=scaled_training_x, y=encoded_training_y )\n",
    "pred = model.predict(scaled_testing_x)\n",
    "\n",
    "accuracy = accuracy_score(encoded_testing_y, pred)\n",
    "print(\"Accuracy:\", accuracy)"
   ]
  },
  {
   "cell_type": "markdown",
   "metadata": {},
   "source": [
    "##### Using Gradient Boosting Model"
   ]
  },
  {
   "cell_type": "code",
   "execution_count": 99,
   "metadata": {},
   "outputs": [
    {
     "name": "stdout",
     "output_type": "stream",
     "text": [
      "Accuracy: 0.8666666666666667\n"
     ]
    }
   ],
   "source": [
    "from sklearn.ensemble import GradientBoostingClassifier\n",
    "\n",
    "model = GradientBoostingClassifier()\n",
    "model.fit(X=scaled_training_x, y=encoded_training_y )\n",
    "pred = model.predict(scaled_testing_x)\n",
    "\n",
    "accuracy = accuracy_score(encoded_testing_y, pred)\n",
    "print(\"Accuracy:\", accuracy)\n"
   ]
  },
  {
   "cell_type": "markdown",
   "metadata": {},
   "source": [
    "#### Using Random Forest Classifier"
   ]
  },
  {
   "cell_type": "code",
   "execution_count": 100,
   "metadata": {},
   "outputs": [
    {
     "name": "stdout",
     "output_type": "stream",
     "text": [
      "Accuracy: 0.8833333333333333\n"
     ]
    }
   ],
   "source": [
    "from sklearn.ensemble import RandomForestClassifier\n",
    "\n",
    "model = RandomForestClassifier()\n",
    "model.fit(X=scaled_training_x, y=encoded_training_y )\n",
    "pred = model.predict(scaled_testing_x)\n",
    "\n",
    "accuracy = accuracy_score(encoded_testing_y, pred)\n",
    "print(\"Accuracy:\", accuracy)"
   ]
  },
  {
   "cell_type": "markdown",
   "metadata": {},
   "source": [
    "### Question 8\n",
    "- Predict class label of just one sample picked from the test set.\n"
   ]
  },
  {
   "cell_type": "code",
   "execution_count": 116,
   "metadata": {},
   "outputs": [
    {
     "data": {
      "text/plain": [
       "(34, 1)"
      ]
     },
     "execution_count": 116,
     "metadata": {},
     "output_type": "execute_result"
    }
   ],
   "source": [
    "sample_x = test_set_x.iloc[1]\n",
    "sample_x = sample_x.values.reshape(-1,1)\n",
    "scaler.fit(sample_x)\n",
    "scaled_sample = scaler.transform(sample_x)\n",
    "scaled_sample.shape\n"
   ]
  },
  {
   "cell_type": "code",
   "execution_count": 137,
   "metadata": {},
   "outputs": [
    {
     "data": {
      "text/plain": [
       "array([[ 0.30628063],\n",
       "       [ 0.30623178],\n",
       "       [ 0.30623159],\n",
       "       [ 0.30623154],\n",
       "       [ 0.30623147],\n",
       "       [ 0.30623156],\n",
       "       [ 0.30623147],\n",
       "       [ 0.30628119],\n",
       "       [ 0.30623147],\n",
       "       [ 0.30623147],\n",
       "       [ 0.30623147],\n",
       "       [ 0.30623147],\n",
       "       [ 0.30623147],\n",
       "       [ 0.30623147],\n",
       "       [ 0.30623147],\n",
       "       [ 0.30623147],\n",
       "       [ 0.30623148],\n",
       "       [ 0.30623148],\n",
       "       [ 0.30623148],\n",
       "       [ 0.30623147],\n",
       "       [ 0.30623147],\n",
       "       [ 0.30623147],\n",
       "       [ 0.30623147],\n",
       "       [ 0.30623147],\n",
       "       [ 0.30623147],\n",
       "       [ 0.30623147],\n",
       "       [ 0.30623147],\n",
       "       [ 0.30623147],\n",
       "       [-3.50542009],\n",
       "       [-2.33148642],\n",
       "       [-3.65636855],\n",
       "       [ 0.30623147],\n",
       "       [ 0.30623147],\n",
       "       [ 0.30623147]])"
      ]
     },
     "execution_count": 137,
     "metadata": {},
     "output_type": "execute_result"
    }
   ],
   "source": [
    "scaled_sample"
   ]
  },
  {
   "cell_type": "markdown",
   "metadata": {},
   "source": [
    "### Question 9\n",
    "- Evaluate the model performance based on the test set.\n",
    "- So far, Random Forest and Gradient Boosting have the best results"
   ]
  },
  {
   "cell_type": "code",
   "execution_count": 139,
   "metadata": {},
   "outputs": [],
   "source": [
    "from sklearn.metrics import recall_score, precision_score\n",
    "\n",
    "# # precision: proportion of positive samples out all of all predicted positives/ false negatives \n",
    "# precision = precision_score(labels_test, pred, average=\"weighted\")\n",
    "# # recall: true positive rate/ false positives\n",
    "# recall = recall_score(labels_test, pred, average=\"weighted\")\n",
    "\n",
    "# print (\"Precision:\", precision) \n",
    "# print (\"Recall:\", recall) \n",
    "\n",
    "# # There are slightly more false negatives than positives\n"
   ]
  },
  {
   "cell_type": "markdown",
   "metadata": {},
   "source": [
    "## Process of Building an Effection Classification Model\n",
    "### Step 1: Define the Problem\n",
    "- Understand what you want to accomplish with your classification model.\n",
    "- For ex, if the data set consists of spam emails and non-spam emails, the goal might be scam email classification\n",
    "\n",
    "### Step 2: Gather and Preprocess the Data\n",
    "- Shuffle the data\n",
    "- Split it into a training and testing set\n",
    "\n",
    "### Step 3: Feature Selection and Engineering\n",
    "- Features are going to be the columns that a supervised model uses to predict the label (Emails: Spam and non-spam emails)\n",
    "- A label is the column that the supervised model is trying to predict (Class: spam or non-spam)\n",
    "\n",
    "### Step 4: Choose a model (Supervised learning)\n",
    "- There are many models to choose from:\n",
    "    - Random Forest \n",
    "    - Support Vector Machines\n",
    "    - Neural Networks\n",
    "    - Gradient Boosting \n",
    "    - Logistic Regression\n",
    "    - Decision Trees\n",
    "    - etc.\n",
    "\n",
    "### Step 5: Evaluate the Model\n",
    "- Calculate the precision and recall of the set\n"
   ]
  }
 ],
 "metadata": {
  "kernelspec": {
   "display_name": "venv-week1",
   "language": "python",
   "name": "python3"
  },
  "language_info": {
   "codemirror_mode": {
    "name": "ipython",
    "version": 3
   },
   "file_extension": ".py",
   "mimetype": "text/x-python",
   "name": "python",
   "nbconvert_exporter": "python",
   "pygments_lexer": "ipython3",
   "version": "3.9.7"
  }
 },
 "nbformat": 4,
 "nbformat_minor": 2
}
