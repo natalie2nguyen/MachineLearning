{
 "cells": [
  {
   "cell_type": "markdown",
   "metadata": {},
   "source": [
    "### 1. \n",
    "- Draw a linear regression line through the dataset dataset/w5-simple-regression-trainset.xlsx. \n",
    "- Please note: the excel file contains data only in Sheet1. Using Scikit-learn library allowed.\n"
   ]
  },
  {
   "cell_type": "code",
   "execution_count": 403,
   "metadata": {},
   "outputs": [
    {
     "data": {
      "text/html": [
       "<div>\n",
       "<style scoped>\n",
       "    .dataframe tbody tr th:only-of-type {\n",
       "        vertical-align: middle;\n",
       "    }\n",
       "\n",
       "    .dataframe tbody tr th {\n",
       "        vertical-align: top;\n",
       "    }\n",
       "\n",
       "    .dataframe thead th {\n",
       "        text-align: right;\n",
       "    }\n",
       "</style>\n",
       "<table border=\"1\" class=\"dataframe\">\n",
       "  <thead>\n",
       "    <tr style=\"text-align: right;\">\n",
       "      <th></th>\n",
       "      <th>x</th>\n",
       "      <th>y</th>\n",
       "    </tr>\n",
       "  </thead>\n",
       "  <tbody>\n",
       "    <tr>\n",
       "      <th>0</th>\n",
       "      <td>1</td>\n",
       "      <td>76</td>\n",
       "    </tr>\n",
       "    <tr>\n",
       "      <th>1</th>\n",
       "      <td>2</td>\n",
       "      <td>78</td>\n",
       "    </tr>\n",
       "    <tr>\n",
       "      <th>2</th>\n",
       "      <td>2</td>\n",
       "      <td>85</td>\n",
       "    </tr>\n",
       "    <tr>\n",
       "      <th>3</th>\n",
       "      <td>4</td>\n",
       "      <td>88</td>\n",
       "    </tr>\n",
       "    <tr>\n",
       "      <th>4</th>\n",
       "      <td>2</td>\n",
       "      <td>72</td>\n",
       "    </tr>\n",
       "  </tbody>\n",
       "</table>\n",
       "</div>"
      ],
      "text/plain": [
       "   x   y\n",
       "0  1  76\n",
       "1  2  78\n",
       "2  2  85\n",
       "3  4  88\n",
       "4  2  72"
      ]
     },
     "execution_count": 403,
     "metadata": {},
     "output_type": "execute_result"
    }
   ],
   "source": [
    "import pandas as pd\n",
    "\n",
    "df = pd.read_excel('datasets/w5-simple-regression-trainset.xlsx', sheet_name=\"Sheet1\")\n",
    "df.head()"
   ]
  },
  {
   "cell_type": "code",
   "execution_count": 404,
   "metadata": {},
   "outputs": [
    {
     "name": "stdout",
     "output_type": "stream",
     "text": [
      "0     1\n",
      "1     2\n",
      "2     2\n",
      "3     4\n",
      "4     2\n",
      "5     1\n",
      "6     5\n",
      "7     4\n",
      "8     2\n",
      "9     4\n",
      "10    4\n",
      "11    3\n",
      "12    6\n",
      "13    5\n",
      "14    3\n",
      "15    4\n",
      "16    6\n",
      "17    2\n",
      "18    1\n",
      "19    2\n",
      "Name: x, dtype: int64\n",
      "0     76\n",
      "1     78\n",
      "2     85\n",
      "3     88\n",
      "4     72\n",
      "5     69\n",
      "6     94\n",
      "7     94\n",
      "8     88\n",
      "9     92\n",
      "10    90\n",
      "11    75\n",
      "12    96\n",
      "13    90\n",
      "14    82\n",
      "15    85\n",
      "16    99\n",
      "17    83\n",
      "18    62\n",
      "19    76\n",
      "Name: y, dtype: int64\n"
     ]
    }
   ],
   "source": [
    "x = df.iloc[:,0]\n",
    "y = df.iloc[:,-1]\n",
    "print(x)\n",
    "print(y)"
   ]
  },
  {
   "cell_type": "code",
   "execution_count": 405,
   "metadata": {},
   "outputs": [
    {
     "data": {
      "text/plain": [
       "((20,), (20,))"
      ]
     },
     "execution_count": 405,
     "metadata": {},
     "output_type": "execute_result"
    }
   ],
   "source": [
    "x.shape, y.shape"
   ]
  },
  {
   "cell_type": "code",
   "execution_count": 406,
   "metadata": {},
   "outputs": [
    {
     "data": {
      "text/plain": [
       "((20, 1), (20, 1))"
      ]
     },
     "execution_count": 406,
     "metadata": {},
     "output_type": "execute_result"
    }
   ],
   "source": [
    "# reshape so they both are (20,1) \n",
    "\n",
    "import numpy as np\n",
    "# n = 20\n",
    "n = x.shape[0]\n",
    "x = x.values.reshape(n,1)\n",
    "y = y.values.reshape(n,1)\n",
    "x.shape, y.shape\n"
   ]
  },
  {
   "cell_type": "code",
   "execution_count": 407,
   "metadata": {},
   "outputs": [
    {
     "data": {
      "text/html": [
       "<style>#sk-container-id-7 {\n",
       "  /* Definition of color scheme common for light and dark mode */\n",
       "  --sklearn-color-text: black;\n",
       "  --sklearn-color-line: gray;\n",
       "  /* Definition of color scheme for unfitted estimators */\n",
       "  --sklearn-color-unfitted-level-0: #fff5e6;\n",
       "  --sklearn-color-unfitted-level-1: #f6e4d2;\n",
       "  --sklearn-color-unfitted-level-2: #ffe0b3;\n",
       "  --sklearn-color-unfitted-level-3: chocolate;\n",
       "  /* Definition of color scheme for fitted estimators */\n",
       "  --sklearn-color-fitted-level-0: #f0f8ff;\n",
       "  --sklearn-color-fitted-level-1: #d4ebff;\n",
       "  --sklearn-color-fitted-level-2: #b3dbfd;\n",
       "  --sklearn-color-fitted-level-3: cornflowerblue;\n",
       "\n",
       "  /* Specific color for light theme */\n",
       "  --sklearn-color-text-on-default-background: var(--sg-text-color, var(--theme-code-foreground, var(--jp-content-font-color1, black)));\n",
       "  --sklearn-color-background: var(--sg-background-color, var(--theme-background, var(--jp-layout-color0, white)));\n",
       "  --sklearn-color-border-box: var(--sg-text-color, var(--theme-code-foreground, var(--jp-content-font-color1, black)));\n",
       "  --sklearn-color-icon: #696969;\n",
       "\n",
       "  @media (prefers-color-scheme: dark) {\n",
       "    /* Redefinition of color scheme for dark theme */\n",
       "    --sklearn-color-text-on-default-background: var(--sg-text-color, var(--theme-code-foreground, var(--jp-content-font-color1, white)));\n",
       "    --sklearn-color-background: var(--sg-background-color, var(--theme-background, var(--jp-layout-color0, #111)));\n",
       "    --sklearn-color-border-box: var(--sg-text-color, var(--theme-code-foreground, var(--jp-content-font-color1, white)));\n",
       "    --sklearn-color-icon: #878787;\n",
       "  }\n",
       "}\n",
       "\n",
       "#sk-container-id-7 {\n",
       "  color: var(--sklearn-color-text);\n",
       "}\n",
       "\n",
       "#sk-container-id-7 pre {\n",
       "  padding: 0;\n",
       "}\n",
       "\n",
       "#sk-container-id-7 input.sk-hidden--visually {\n",
       "  border: 0;\n",
       "  clip: rect(1px 1px 1px 1px);\n",
       "  clip: rect(1px, 1px, 1px, 1px);\n",
       "  height: 1px;\n",
       "  margin: -1px;\n",
       "  overflow: hidden;\n",
       "  padding: 0;\n",
       "  position: absolute;\n",
       "  width: 1px;\n",
       "}\n",
       "\n",
       "#sk-container-id-7 div.sk-dashed-wrapped {\n",
       "  border: 1px dashed var(--sklearn-color-line);\n",
       "  margin: 0 0.4em 0.5em 0.4em;\n",
       "  box-sizing: border-box;\n",
       "  padding-bottom: 0.4em;\n",
       "  background-color: var(--sklearn-color-background);\n",
       "}\n",
       "\n",
       "#sk-container-id-7 div.sk-container {\n",
       "  /* jupyter's `normalize.less` sets `[hidden] { display: none; }`\n",
       "     but bootstrap.min.css set `[hidden] { display: none !important; }`\n",
       "     so we also need the `!important` here to be able to override the\n",
       "     default hidden behavior on the sphinx rendered scikit-learn.org.\n",
       "     See: https://github.com/scikit-learn/scikit-learn/issues/21755 */\n",
       "  display: inline-block !important;\n",
       "  position: relative;\n",
       "}\n",
       "\n",
       "#sk-container-id-7 div.sk-text-repr-fallback {\n",
       "  display: none;\n",
       "}\n",
       "\n",
       "div.sk-parallel-item,\n",
       "div.sk-serial,\n",
       "div.sk-item {\n",
       "  /* draw centered vertical line to link estimators */\n",
       "  background-image: linear-gradient(var(--sklearn-color-text-on-default-background), var(--sklearn-color-text-on-default-background));\n",
       "  background-size: 2px 100%;\n",
       "  background-repeat: no-repeat;\n",
       "  background-position: center center;\n",
       "}\n",
       "\n",
       "/* Parallel-specific style estimator block */\n",
       "\n",
       "#sk-container-id-7 div.sk-parallel-item::after {\n",
       "  content: \"\";\n",
       "  width: 100%;\n",
       "  border-bottom: 2px solid var(--sklearn-color-text-on-default-background);\n",
       "  flex-grow: 1;\n",
       "}\n",
       "\n",
       "#sk-container-id-7 div.sk-parallel {\n",
       "  display: flex;\n",
       "  align-items: stretch;\n",
       "  justify-content: center;\n",
       "  background-color: var(--sklearn-color-background);\n",
       "  position: relative;\n",
       "}\n",
       "\n",
       "#sk-container-id-7 div.sk-parallel-item {\n",
       "  display: flex;\n",
       "  flex-direction: column;\n",
       "}\n",
       "\n",
       "#sk-container-id-7 div.sk-parallel-item:first-child::after {\n",
       "  align-self: flex-end;\n",
       "  width: 50%;\n",
       "}\n",
       "\n",
       "#sk-container-id-7 div.sk-parallel-item:last-child::after {\n",
       "  align-self: flex-start;\n",
       "  width: 50%;\n",
       "}\n",
       "\n",
       "#sk-container-id-7 div.sk-parallel-item:only-child::after {\n",
       "  width: 0;\n",
       "}\n",
       "\n",
       "/* Serial-specific style estimator block */\n",
       "\n",
       "#sk-container-id-7 div.sk-serial {\n",
       "  display: flex;\n",
       "  flex-direction: column;\n",
       "  align-items: center;\n",
       "  background-color: var(--sklearn-color-background);\n",
       "  padding-right: 1em;\n",
       "  padding-left: 1em;\n",
       "}\n",
       "\n",
       "\n",
       "/* Toggleable style: style used for estimator/Pipeline/ColumnTransformer box that is\n",
       "clickable and can be expanded/collapsed.\n",
       "- Pipeline and ColumnTransformer use this feature and define the default style\n",
       "- Estimators will overwrite some part of the style using the `sk-estimator` class\n",
       "*/\n",
       "\n",
       "/* Pipeline and ColumnTransformer style (default) */\n",
       "\n",
       "#sk-container-id-7 div.sk-toggleable {\n",
       "  /* Default theme specific background. It is overwritten whether we have a\n",
       "  specific estimator or a Pipeline/ColumnTransformer */\n",
       "  background-color: var(--sklearn-color-background);\n",
       "}\n",
       "\n",
       "/* Toggleable label */\n",
       "#sk-container-id-7 label.sk-toggleable__label {\n",
       "  cursor: pointer;\n",
       "  display: block;\n",
       "  width: 100%;\n",
       "  margin-bottom: 0;\n",
       "  padding: 0.5em;\n",
       "  box-sizing: border-box;\n",
       "  text-align: center;\n",
       "}\n",
       "\n",
       "#sk-container-id-7 label.sk-toggleable__label-arrow:before {\n",
       "  /* Arrow on the left of the label */\n",
       "  content: \"▸\";\n",
       "  float: left;\n",
       "  margin-right: 0.25em;\n",
       "  color: var(--sklearn-color-icon);\n",
       "}\n",
       "\n",
       "#sk-container-id-7 label.sk-toggleable__label-arrow:hover:before {\n",
       "  color: var(--sklearn-color-text);\n",
       "}\n",
       "\n",
       "/* Toggleable content - dropdown */\n",
       "\n",
       "#sk-container-id-7 div.sk-toggleable__content {\n",
       "  max-height: 0;\n",
       "  max-width: 0;\n",
       "  overflow: hidden;\n",
       "  text-align: left;\n",
       "  /* unfitted */\n",
       "  background-color: var(--sklearn-color-unfitted-level-0);\n",
       "}\n",
       "\n",
       "#sk-container-id-7 div.sk-toggleable__content.fitted {\n",
       "  /* fitted */\n",
       "  background-color: var(--sklearn-color-fitted-level-0);\n",
       "}\n",
       "\n",
       "#sk-container-id-7 div.sk-toggleable__content pre {\n",
       "  margin: 0.2em;\n",
       "  border-radius: 0.25em;\n",
       "  color: var(--sklearn-color-text);\n",
       "  /* unfitted */\n",
       "  background-color: var(--sklearn-color-unfitted-level-0);\n",
       "}\n",
       "\n",
       "#sk-container-id-7 div.sk-toggleable__content.fitted pre {\n",
       "  /* unfitted */\n",
       "  background-color: var(--sklearn-color-fitted-level-0);\n",
       "}\n",
       "\n",
       "#sk-container-id-7 input.sk-toggleable__control:checked~div.sk-toggleable__content {\n",
       "  /* Expand drop-down */\n",
       "  max-height: 200px;\n",
       "  max-width: 100%;\n",
       "  overflow: auto;\n",
       "}\n",
       "\n",
       "#sk-container-id-7 input.sk-toggleable__control:checked~label.sk-toggleable__label-arrow:before {\n",
       "  content: \"▾\";\n",
       "}\n",
       "\n",
       "/* Pipeline/ColumnTransformer-specific style */\n",
       "\n",
       "#sk-container-id-7 div.sk-label input.sk-toggleable__control:checked~label.sk-toggleable__label {\n",
       "  color: var(--sklearn-color-text);\n",
       "  background-color: var(--sklearn-color-unfitted-level-2);\n",
       "}\n",
       "\n",
       "#sk-container-id-7 div.sk-label.fitted input.sk-toggleable__control:checked~label.sk-toggleable__label {\n",
       "  background-color: var(--sklearn-color-fitted-level-2);\n",
       "}\n",
       "\n",
       "/* Estimator-specific style */\n",
       "\n",
       "/* Colorize estimator box */\n",
       "#sk-container-id-7 div.sk-estimator input.sk-toggleable__control:checked~label.sk-toggleable__label {\n",
       "  /* unfitted */\n",
       "  background-color: var(--sklearn-color-unfitted-level-2);\n",
       "}\n",
       "\n",
       "#sk-container-id-7 div.sk-estimator.fitted input.sk-toggleable__control:checked~label.sk-toggleable__label {\n",
       "  /* fitted */\n",
       "  background-color: var(--sklearn-color-fitted-level-2);\n",
       "}\n",
       "\n",
       "#sk-container-id-7 div.sk-label label.sk-toggleable__label,\n",
       "#sk-container-id-7 div.sk-label label {\n",
       "  /* The background is the default theme color */\n",
       "  color: var(--sklearn-color-text-on-default-background);\n",
       "}\n",
       "\n",
       "/* On hover, darken the color of the background */\n",
       "#sk-container-id-7 div.sk-label:hover label.sk-toggleable__label {\n",
       "  color: var(--sklearn-color-text);\n",
       "  background-color: var(--sklearn-color-unfitted-level-2);\n",
       "}\n",
       "\n",
       "/* Label box, darken color on hover, fitted */\n",
       "#sk-container-id-7 div.sk-label.fitted:hover label.sk-toggleable__label.fitted {\n",
       "  color: var(--sklearn-color-text);\n",
       "  background-color: var(--sklearn-color-fitted-level-2);\n",
       "}\n",
       "\n",
       "/* Estimator label */\n",
       "\n",
       "#sk-container-id-7 div.sk-label label {\n",
       "  font-family: monospace;\n",
       "  font-weight: bold;\n",
       "  display: inline-block;\n",
       "  line-height: 1.2em;\n",
       "}\n",
       "\n",
       "#sk-container-id-7 div.sk-label-container {\n",
       "  text-align: center;\n",
       "}\n",
       "\n",
       "/* Estimator-specific */\n",
       "#sk-container-id-7 div.sk-estimator {\n",
       "  font-family: monospace;\n",
       "  border: 1px dotted var(--sklearn-color-border-box);\n",
       "  border-radius: 0.25em;\n",
       "  box-sizing: border-box;\n",
       "  margin-bottom: 0.5em;\n",
       "  /* unfitted */\n",
       "  background-color: var(--sklearn-color-unfitted-level-0);\n",
       "}\n",
       "\n",
       "#sk-container-id-7 div.sk-estimator.fitted {\n",
       "  /* fitted */\n",
       "  background-color: var(--sklearn-color-fitted-level-0);\n",
       "}\n",
       "\n",
       "/* on hover */\n",
       "#sk-container-id-7 div.sk-estimator:hover {\n",
       "  /* unfitted */\n",
       "  background-color: var(--sklearn-color-unfitted-level-2);\n",
       "}\n",
       "\n",
       "#sk-container-id-7 div.sk-estimator.fitted:hover {\n",
       "  /* fitted */\n",
       "  background-color: var(--sklearn-color-fitted-level-2);\n",
       "}\n",
       "\n",
       "/* Specification for estimator info (e.g. \"i\" and \"?\") */\n",
       "\n",
       "/* Common style for \"i\" and \"?\" */\n",
       "\n",
       ".sk-estimator-doc-link,\n",
       "a:link.sk-estimator-doc-link,\n",
       "a:visited.sk-estimator-doc-link {\n",
       "  float: right;\n",
       "  font-size: smaller;\n",
       "  line-height: 1em;\n",
       "  font-family: monospace;\n",
       "  background-color: var(--sklearn-color-background);\n",
       "  border-radius: 1em;\n",
       "  height: 1em;\n",
       "  width: 1em;\n",
       "  text-decoration: none !important;\n",
       "  margin-left: 1ex;\n",
       "  /* unfitted */\n",
       "  border: var(--sklearn-color-unfitted-level-1) 1pt solid;\n",
       "  color: var(--sklearn-color-unfitted-level-1);\n",
       "}\n",
       "\n",
       ".sk-estimator-doc-link.fitted,\n",
       "a:link.sk-estimator-doc-link.fitted,\n",
       "a:visited.sk-estimator-doc-link.fitted {\n",
       "  /* fitted */\n",
       "  border: var(--sklearn-color-fitted-level-1) 1pt solid;\n",
       "  color: var(--sklearn-color-fitted-level-1);\n",
       "}\n",
       "\n",
       "/* On hover */\n",
       "div.sk-estimator:hover .sk-estimator-doc-link:hover,\n",
       ".sk-estimator-doc-link:hover,\n",
       "div.sk-label-container:hover .sk-estimator-doc-link:hover,\n",
       ".sk-estimator-doc-link:hover {\n",
       "  /* unfitted */\n",
       "  background-color: var(--sklearn-color-unfitted-level-3);\n",
       "  color: var(--sklearn-color-background);\n",
       "  text-decoration: none;\n",
       "}\n",
       "\n",
       "div.sk-estimator.fitted:hover .sk-estimator-doc-link.fitted:hover,\n",
       ".sk-estimator-doc-link.fitted:hover,\n",
       "div.sk-label-container:hover .sk-estimator-doc-link.fitted:hover,\n",
       ".sk-estimator-doc-link.fitted:hover {\n",
       "  /* fitted */\n",
       "  background-color: var(--sklearn-color-fitted-level-3);\n",
       "  color: var(--sklearn-color-background);\n",
       "  text-decoration: none;\n",
       "}\n",
       "\n",
       "/* Span, style for the box shown on hovering the info icon */\n",
       ".sk-estimator-doc-link span {\n",
       "  display: none;\n",
       "  z-index: 9999;\n",
       "  position: relative;\n",
       "  font-weight: normal;\n",
       "  right: .2ex;\n",
       "  padding: .5ex;\n",
       "  margin: .5ex;\n",
       "  width: min-content;\n",
       "  min-width: 20ex;\n",
       "  max-width: 50ex;\n",
       "  color: var(--sklearn-color-text);\n",
       "  box-shadow: 2pt 2pt 4pt #999;\n",
       "  /* unfitted */\n",
       "  background: var(--sklearn-color-unfitted-level-0);\n",
       "  border: .5pt solid var(--sklearn-color-unfitted-level-3);\n",
       "}\n",
       "\n",
       ".sk-estimator-doc-link.fitted span {\n",
       "  /* fitted */\n",
       "  background: var(--sklearn-color-fitted-level-0);\n",
       "  border: var(--sklearn-color-fitted-level-3);\n",
       "}\n",
       "\n",
       ".sk-estimator-doc-link:hover span {\n",
       "  display: block;\n",
       "}\n",
       "\n",
       "/* \"?\"-specific style due to the `<a>` HTML tag */\n",
       "\n",
       "#sk-container-id-7 a.estimator_doc_link {\n",
       "  float: right;\n",
       "  font-size: 1rem;\n",
       "  line-height: 1em;\n",
       "  font-family: monospace;\n",
       "  background-color: var(--sklearn-color-background);\n",
       "  border-radius: 1rem;\n",
       "  height: 1rem;\n",
       "  width: 1rem;\n",
       "  text-decoration: none;\n",
       "  /* unfitted */\n",
       "  color: var(--sklearn-color-unfitted-level-1);\n",
       "  border: var(--sklearn-color-unfitted-level-1) 1pt solid;\n",
       "}\n",
       "\n",
       "#sk-container-id-7 a.estimator_doc_link.fitted {\n",
       "  /* fitted */\n",
       "  border: var(--sklearn-color-fitted-level-1) 1pt solid;\n",
       "  color: var(--sklearn-color-fitted-level-1);\n",
       "}\n",
       "\n",
       "/* On hover */\n",
       "#sk-container-id-7 a.estimator_doc_link:hover {\n",
       "  /* unfitted */\n",
       "  background-color: var(--sklearn-color-unfitted-level-3);\n",
       "  color: var(--sklearn-color-background);\n",
       "  text-decoration: none;\n",
       "}\n",
       "\n",
       "#sk-container-id-7 a.estimator_doc_link.fitted:hover {\n",
       "  /* fitted */\n",
       "  background-color: var(--sklearn-color-fitted-level-3);\n",
       "}\n",
       "</style><div id=\"sk-container-id-7\" class=\"sk-top-container\"><div class=\"sk-text-repr-fallback\"><pre>LinearRegression()</pre><b>In a Jupyter environment, please rerun this cell to show the HTML representation or trust the notebook. <br />On GitHub, the HTML representation is unable to render, please try loading this page with nbviewer.org.</b></div><div class=\"sk-container\" hidden><div class=\"sk-item\"><div class=\"sk-estimator fitted sk-toggleable\"><input class=\"sk-toggleable__control sk-hidden--visually\" id=\"sk-estimator-id-7\" type=\"checkbox\" checked><label for=\"sk-estimator-id-7\" class=\"sk-toggleable__label fitted sk-toggleable__label-arrow fitted\">&nbsp;&nbsp;LinearRegression<a class=\"sk-estimator-doc-link fitted\" rel=\"noreferrer\" target=\"_blank\" href=\"https://scikit-learn.org/1.5/modules/generated/sklearn.linear_model.LinearRegression.html\">?<span>Documentation for LinearRegression</span></a><span class=\"sk-estimator-doc-link fitted\">i<span>Fitted</span></span></label><div class=\"sk-toggleable__content fitted\"><pre>LinearRegression()</pre></div> </div></div></div></div>"
      ],
      "text/plain": [
       "LinearRegression()"
      ]
     },
     "execution_count": 407,
     "metadata": {},
     "output_type": "execute_result"
    }
   ],
   "source": [
    "# building Linear regression model using scikit-learn\n",
    "from sklearn.linear_model import LinearRegression\n",
    "reg_model_scikit = LinearRegression()\n",
    "reg_model_scikit.fit(x,y)"
   ]
  },
  {
   "cell_type": "code",
   "execution_count": 408,
   "metadata": {},
   "outputs": [
    {
     "name": "stdout",
     "output_type": "stream",
     "text": [
      "The regression model is y = [[5.25025747]]x + [67.16168898]\n"
     ]
    }
   ],
   "source": [
    "beta_1 = reg_model_scikit.coef_\n",
    "beta_0 = reg_model_scikit.intercept_\n",
    "print(f'The regression model is y = {beta_1}x + {beta_0}')"
   ]
  },
  {
   "cell_type": "code",
   "execution_count": 409,
   "metadata": {},
   "outputs": [],
   "source": [
    "# have the model predict x\n",
    "x_seq = np.linspace(0,8,100).reshape(-1,1) # for regression line plotting\n",
    "y_pred = reg_model_scikit.predict(x_seq)"
   ]
  },
  {
   "cell_type": "code",
   "execution_count": 410,
   "metadata": {},
   "outputs": [
    {
     "data": {
      "text/plain": [
       "Text(0, 0.5, 'y')"
      ]
     },
     "execution_count": 410,
     "metadata": {},
     "output_type": "execute_result"
    },
    {
     "data": {
      "image/png": "[encoded data removed]",
      "text/plain": [
       "<Figure size 900x900 with 1 Axes>"
      ]
     },
     "metadata": {},
     "output_type": "display_data"
    }
   ],
   "source": [
    "import matplotlib.pyplot as plt\n",
    "# initialize layout \n",
    "fig, ax = plt.subplots(figsize=(9,9))\n",
    "\n",
    "# add scatterplot\n",
    "ax.scatter(x,y, s=60, alpha=0.7, edgecolors='k')\n",
    "plt.xlim([0,8])\n",
    "\n",
    "# generate x-axis points \n",
    "# plot regression line (red)\n",
    "ax.plot(x_seq, y_pred, color='red', lw=2.5)\n",
    "plt.xlabel('x')\n",
    "plt.ylabel('y')"
   ]
  },
  {
   "cell_type": "markdown",
   "metadata": {},
   "source": [
    "### 2.\n",
    "- Draw polynomial regression lines of degree **2, 3, 4, 5, 6, 7, 8, 9, 10, 20, 50, 100** through the dataset. \n",
    "- Evaluate each of the models (including the model in #1) on the test set **dataset/w5-simple-testset.xlsx** in terms of RMSE and R2-score. Comments? \n",
    "    - the smaller RMSE is the better\n",
    "    - the closer R2 is to 1 the better\n",
    "- Using scikit-learn library allowed."
   ]
  },
  {
   "cell_type": "code",
   "execution_count": 411,
   "metadata": {},
   "outputs": [
    {
     "data": {
      "text/html": [
       "<div>\n",
       "<style scoped>\n",
       "    .dataframe tbody tr th:only-of-type {\n",
       "        vertical-align: middle;\n",
       "    }\n",
       "\n",
       "    .dataframe tbody tr th {\n",
       "        vertical-align: top;\n",
       "    }\n",
       "\n",
       "    .dataframe thead th {\n",
       "        text-align: right;\n",
       "    }\n",
       "</style>\n",
       "<table border=\"1\" class=\"dataframe\">\n",
       "  <thead>\n",
       "    <tr style=\"text-align: right;\">\n",
       "      <th></th>\n",
       "      <th>x</th>\n",
       "      <th>y</th>\n",
       "    </tr>\n",
       "  </thead>\n",
       "  <tbody>\n",
       "    <tr>\n",
       "      <th>0</th>\n",
       "      <td>1.5</td>\n",
       "      <td>69.00</td>\n",
       "    </tr>\n",
       "    <tr>\n",
       "      <th>1</th>\n",
       "      <td>2.5</td>\n",
       "      <td>80.33</td>\n",
       "    </tr>\n",
       "    <tr>\n",
       "      <th>2</th>\n",
       "      <td>3.5</td>\n",
       "      <td>78.50</td>\n",
       "    </tr>\n",
       "    <tr>\n",
       "      <th>3</th>\n",
       "      <td>4.5</td>\n",
       "      <td>89.80</td>\n",
       "    </tr>\n",
       "    <tr>\n",
       "      <th>4</th>\n",
       "      <td>5.5</td>\n",
       "      <td>92.00</td>\n",
       "    </tr>\n",
       "  </tbody>\n",
       "</table>\n",
       "</div>"
      ],
      "text/plain": [
       "     x      y\n",
       "0  1.5  69.00\n",
       "1  2.5  80.33\n",
       "2  3.5  78.50\n",
       "3  4.5  89.80\n",
       "4  5.5  92.00"
      ]
     },
     "execution_count": 411,
     "metadata": {},
     "output_type": "execute_result"
    }
   ],
   "source": [
    "from sklearn.preprocessing import PolynomialFeatures\n",
    "from sklearn.linear_model import LinearRegression\n",
    "from sklearn.preprocessing import StandardScaler\n",
    "\n",
    "testset_df = pd.read_excel('datasets/w5-simple-regression-testset.xlsx', sheet_name=\"Sheet1\")\n",
    "testset_df.head()"
   ]
  },
  {
   "cell_type": "code",
   "execution_count": 412,
   "metadata": {},
   "outputs": [
    {
     "name": "stdout",
     "output_type": "stream",
     "text": [
      "(20,)\n",
      "(20,)\n"
     ]
    }
   ],
   "source": [
    "testset_x = df.iloc[:,0]\n",
    "testset_y = df.iloc[:,-1]\n",
    "print(testset_x.shape)\n",
    "print(testset_y.shape)"
   ]
  },
  {
   "cell_type": "code",
   "execution_count": 413,
   "metadata": {},
   "outputs": [
    {
     "data": {
      "text/plain": [
       "((20, 1), (20, 1))"
      ]
     },
     "execution_count": 413,
     "metadata": {},
     "output_type": "execute_result"
    }
   ],
   "source": [
    "# reshape so they both are (20,1) \n",
    "\n",
    "import numpy as np\n",
    "# n = 20\n",
    "testset_n = x.shape[0]\n",
    "testset_x = x.reshape(n,1)\n",
    "testset_y = y.reshape(n,1)\n",
    "testset_x.shape, testset_y.shape\n"
   ]
  },
  {
   "cell_type": "code",
   "execution_count": 414,
   "metadata": {},
   "outputs": [
    {
     "data": {
      "image/png": "[encoded data removed]",
      "text/plain": [
       "<Figure size 1000x600 with 1 Axes>"
      ]
     },
     "metadata": {},
     "output_type": "display_data"
    },
    {
     "name": "stdout",
     "output_type": "stream",
     "text": [
      "Evaluation result with degree 2\n",
      "RMSE = 4.892821741877832 \n",
      "R2_score = 0.7398141006652275\n"
     ]
    },
    {
     "data": {
      "image/png": "[encoded data removed]",
      "text/plain": [
       "<Figure size 1000x600 with 1 Axes>"
      ]
     },
     "metadata": {},
     "output_type": "display_data"
    },
    {
     "name": "stdout",
     "output_type": "stream",
     "text": [
      "Evaluation result with degree 3\n",
      "RMSE = 4.806411107143323 \n",
      "R2_score = 0.7489230765039593\n"
     ]
    },
    {
     "data": {
      "image/png": "[encoded data removed]",
      "text/plain": [
       "<Figure size 1000x600 with 1 Axes>"
      ]
     },
     "metadata": {},
     "output_type": "display_data"
    },
    {
     "name": "stdout",
     "output_type": "stream",
     "text": [
      "Evaluation result with degree 4\n",
      "RMSE = 4.7126493071374975 \n",
      "R2_score = 0.7586233725457718\n"
     ]
    },
    {
     "data": {
      "image/png": "[encoded data removed]",
      "text/plain": [
       "<Figure size 1000x600 with 1 Axes>"
      ]
     },
     "metadata": {},
     "output_type": "display_data"
    },
    {
     "name": "stdout",
     "output_type": "stream",
     "text": [
      "Evaluation result with degree 5\n",
      "RMSE = 4.2727820757284904 \n",
      "R2_score = 0.801579538455965\n"
     ]
    },
    {
     "data": {
      "image/png": "[encoded data removed]",
      "text/plain": [
       "<Figure size 1000x600 with 1 Axes>"
      ]
     },
     "metadata": {},
     "output_type": "display_data"
    },
    {
     "name": "stdout",
     "output_type": "stream",
     "text": [
      "Evaluation result with degree 6\n",
      "RMSE = 4.2727820757284904 \n",
      "R2_score = 0.801579538455965\n"
     ]
    },
    {
     "data": {
      "image/png": "[encoded data removed]",
      "text/plain": [
       "<Figure size 1000x600 with 1 Axes>"
      ]
     },
     "metadata": {},
     "output_type": "display_data"
    },
    {
     "name": "stdout",
     "output_type": "stream",
     "text": [
      "Evaluation result with degree 7\n",
      "RMSE = 4.2727820757284904 \n",
      "R2_score = 0.801579538455965\n"
     ]
    },
    {
     "data": {
      "image/png": "[encoded data removed]",
      "text/plain": [
       "<Figure size 1000x600 with 1 Axes>"
      ]
     },
     "metadata": {},
     "output_type": "display_data"
    },
    {
     "name": "stdout",
     "output_type": "stream",
     "text": [
      "Evaluation result with degree 8\n",
      "RMSE = 4.2727820757284904 \n",
      "R2_score = 0.801579538455965\n"
     ]
    },
    {
     "data": {
      "image/png": "[encoded data removed]",
      "text/plain": [
       "<Figure size 1000x600 with 1 Axes>"
      ]
     },
     "metadata": {},
     "output_type": "display_data"
    },
    {
     "name": "stdout",
     "output_type": "stream",
     "text": [
      "Evaluation result with degree 9\n",
      "RMSE = 4.2727820757284904 \n",
      "R2_score = 0.801579538455965\n"
     ]
    },
    {
     "data": {
      "image/png": "[encoded data removed]",
      "text/plain": [
       "<Figure size 1000x600 with 1 Axes>"
      ]
     },
     "metadata": {},
     "output_type": "display_data"
    },
    {
     "name": "stdout",
     "output_type": "stream",
     "text": [
      "Evaluation result with degree 10\n",
      "RMSE = 4.2727820757284904 \n",
      "R2_score = 0.801579538455965\n"
     ]
    },
    {
     "data": {
      "image/png": "[encoded data removed]",
      "text/plain": [
       "<Figure size 1000x600 with 1 Axes>"
      ]
     },
     "metadata": {},
     "output_type": "display_data"
    },
    {
     "name": "stdout",
     "output_type": "stream",
     "text": [
      "Evaluation result with degree 20\n",
      "RMSE = 4.272782075729689 \n",
      "R2_score = 0.8015795384558537\n"
     ]
    },
    {
     "data": {
      "image/png": "[encoded data removed]",
      "text/plain": [
       "<Figure size 1000x600 with 1 Axes>"
      ]
     },
     "metadata": {},
     "output_type": "display_data"
    },
    {
     "name": "stdout",
     "output_type": "stream",
     "text": [
      "Evaluation result with degree 50\n",
      "RMSE = 5.604501892221755 \n",
      "R2_score = 0.6586192646460469\n"
     ]
    },
    {
     "data": {
      "image/png": "[encoded data removed]",
      "text/plain": [
       "<Figure size 1000x600 with 1 Axes>"
      ]
     },
     "metadata": {},
     "output_type": "display_data"
    },
    {
     "name": "stdout",
     "output_type": "stream",
     "text": [
      "Evaluation result with degree 100\n",
      "RMSE = 7.744151017029152 \n",
      "R2_score = 0.3482026412938415\n"
     ]
    }
   ],
   "source": [
    "from sklearn.metrics import mean_squared_error\n",
    "from sklearn.metrics import r2_score\n",
    "\n",
    "degrees = [2, 3, 4, 5, 6, 7, 8, 9, 10, 20, 50, 100]\n",
    "\n",
    "\n",
    "for degree in degrees: \n",
    "    poly = PolynomialFeatures(degree=degree, include_bias=False)\n",
    "\n",
    "    poly_train_x = poly.fit_transform(x)\n",
    "    poly_test_x = poly.transform(testset_x)\n",
    "\n",
    "    poly_reg_model = LinearRegression()\n",
    "    poly_reg_model.fit(poly_train_x, y)\n",
    "\n",
    "    testset_x_seq = np.linspace(0,8,100).reshape(-1,1) # for regression line plotting\n",
    "    testset_x_seq_poly = poly.transform(testset_x_seq)\n",
    "\n",
    "    y_predicted = poly_reg_model.predict(testset_x_seq_poly)\n",
    "    # Make predictions on the test set\n",
    "    predicted = poly_reg_model.predict(poly_test_x)\n",
    "\n",
    "    plt.figure(figsize=(10,6))\n",
    "    plt.title(f\"Your Polynomial Regression of Degree {degree}\")\n",
    "    plt.scatter(x,y)\n",
    "    plt.scatter(testset_x_seq,y_predicted, c='red')\n",
    "    plt.show()\n",
    "\n",
    "    print(f\"Evaluation result with degree {degree}\")\n",
    "    print(f\"RMSE = {np.sqrt(mean_squared_error(testset_y,predicted))} \")\n",
    "    print(f\"R2_score = {r2_score(testset_y,predicted)}\")"
   ]
  },
  {
   "cell_type": "markdown",
   "metadata": {},
   "source": [
    "### 3.\n",
    "- Using scikit-learn library NOT ALLOWED: \n",
    "- Assuming you have gone through regression model lecture slides Week-04-05--Regression-ML-Fall2024.pdf. Build a simple linear regression model with the same dataset/w5-simple-regression-trainset.xlsx dataset in Sheet1 with the following methods: \n",
    "    - i) closed form solution, \n",
    "    - ii) batch gradient descent, \n",
    "    - iii) stochastic gradient descent, \n",
    "    - iv) mini-batch gradient descent. And, compare your results with the evaluation metrics you got in #2.\n",
    "- For methods (ii)-(iv) vary value of learning rate and save all - evaluation metrics.\n",
    "- For methods (iv) vary batch size and save all evaluation metrics."
   ]
  },
  {
   "cell_type": "code",
   "execution_count": 415,
   "metadata": {},
   "outputs": [
    {
     "data": {
      "text/plain": [
       "((20, 2), (6, 2))"
      ]
     },
     "execution_count": 415,
     "metadata": {},
     "output_type": "execute_result"
    }
   ],
   "source": [
    "train_df = pd.read_excel('datasets/w5-simple-regression-trainset.xlsx', sheet_name=\"Sheet1\")\n",
    "test_df = pd.read_excel('datasets/w5-simple-regression-testset.xlsx', sheet_name=\"Sheet1\")\n",
    "train_df.shape, test_df.shape\n"
   ]
  },
  {
   "cell_type": "code",
   "execution_count": 416,
   "metadata": {},
   "outputs": [
    {
     "data": {
      "text/plain": [
       "((20, 1), (20, 1), (6, 1), (6, 1))"
      ]
     },
     "execution_count": 416,
     "metadata": {},
     "output_type": "execute_result"
    }
   ],
   "source": [
    "x_train = train_df.iloc[:,0].values.reshape(-1,1)\n",
    "y_train = train_df.iloc[:,-1].values.reshape(-1,1)\n",
    "x_test = test_df.iloc[:,0].values.reshape(-1,1)\n",
    "y_test = test_df.iloc[:,-1].values.reshape(-1,1)\n",
    "x_train.shape, y_train.shape, x_test.shape, y_test.shape"
   ]
  },
  {
   "cell_type": "code",
   "execution_count": 417,
   "metadata": {},
   "outputs": [
    {
     "name": "stdout",
     "output_type": "stream",
     "text": [
      "[[1 1]\n",
      " [1 2]\n",
      " [1 2]\n",
      " [1 4]\n",
      " [1 2]\n",
      " [1 1]\n",
      " [1 5]\n",
      " [1 4]\n",
      " [1 2]\n",
      " [1 4]\n",
      " [1 4]\n",
      " [1 3]\n",
      " [1 6]\n",
      " [1 5]\n",
      " [1 3]\n",
      " [1 4]\n",
      " [1 6]\n",
      " [1 2]\n",
      " [1 1]\n",
      " [1 2]]\n"
     ]
    }
   ],
   "source": [
    "# add bias term\n",
    "# x0\n",
    "X = np.hstack((np.ones([x_train.shape[0],1],x_train.dtype), x_train))\n",
    "# x_train.shape[0] = 20\n",
    "# [x_train.shape[0],1] = [20,1]\n",
    "# np.ones([x_train.shape[0],1],x_train.dtype) = [[1],[1],[1]......[1]] creates 20 ones that are VERTICAL\n",
    "# np.hstack((np.ones([x_train.shape[0],1],x_train.dtype))) = makes the 20 ones, horizontal \n",
    "# np.hstack((np.ones([x_train.shape[0],1],x_train.dtype), x_train)) = with the addition of x_train, the horizontal ones are \"appended\" with the x_train set\n",
    "\n",
    "print(X)"
   ]
  },
  {
   "cell_type": "markdown",
   "metadata": {},
   "source": [
    "#### Closed Form\n",
    "- **Closed Form**: Closed-form solutions are a simple and elegant way to find the best solution to a linear regression problem. They are generally faster than using an iterative optimization algorithm, like gradient descent\n",
    "- General linear regression model equation: **Y = B0 + B1X1 + e**\n",
    "    - e = random error\n",
    "- Formula: \n",
    "\n",
    "![closed form image](https://miro.medium.com/v2/resize:fit:530/format:webp/1*uGNTGQtYACl-xfwRXB_-ZQ.png)\n",
    "\n",
    "- Using **ml linalg** library we can create a program to find W\n",
    "- **Transpose** flips the matrix, if it is 2x3 then it will become 3x2 "
   ]
  },
  {
   "cell_type": "code",
   "execution_count": 418,
   "metadata": {},
   "outputs": [
    {
     "name": "stdout",
     "output_type": "stream",
     "text": [
      "[[0.24671299]\n",
      " [0.31144629]]\n",
      "[[67.16168898]\n",
      " [ 5.25025747]]\n"
     ]
    }
   ],
   "source": [
    "# [beta_0, beta_1]^T\n",
    "beta = np.random.random_sample(size = (2,1)) \n",
    "print(beta)\n",
    "beta = np.dot(np.dot(np.linalg.inv(np.dot(X.T,X)), X.T), y_train)\n",
    "print(beta)\n"
   ]
  },
  {
   "cell_type": "code",
   "execution_count": 419,
   "metadata": {},
   "outputs": [
    {
     "data": {
      "text/plain": [
       "(2, 1)"
      ]
     },
     "execution_count": 419,
     "metadata": {},
     "output_type": "execute_result"
    }
   ],
   "source": [
    "# x0, x\n",
    "beta.shape"
   ]
  },
  {
   "cell_type": "code",
   "execution_count": 420,
   "metadata": {},
   "outputs": [
    {
     "name": "stdout",
     "output_type": "stream",
     "text": [
      "Our regression model is: y_hat = [5.25025747]x + [67.16168898]\n"
     ]
    }
   ],
   "source": [
    "print(f\"Our regression model is: y_hat = {beta[1]}x + {beta[0]}\")"
   ]
  },
  {
   "cell_type": "code",
   "execution_count": 421,
   "metadata": {},
   "outputs": [
    {
     "name": "stdout",
     "output_type": "stream",
     "text": [
      "[[1.  1.5]\n",
      " [1.  2.5]\n",
      " [1.  3.5]\n",
      " [1.  4.5]\n",
      " [1.  5.5]\n",
      " [1.  6.5]]\n"
     ]
    }
   ],
   "source": [
    "# now predict the test set with the model\n",
    "# B^Tx where x is the sample \n",
    "x_test_with_bias = np.hstack((np.ones([x_test.shape[0],1], x_test.dtype), x_test))\n",
    "print(x_test_with_bias)"
   ]
  },
  {
   "cell_type": "code",
   "execution_count": 422,
   "metadata": {},
   "outputs": [
    {
     "data": {
      "text/plain": [
       "(6, 2)"
      ]
     },
     "execution_count": 422,
     "metadata": {},
     "output_type": "execute_result"
    }
   ],
   "source": [
    "x_test_with_bias.shape"
   ]
  },
  {
   "cell_type": "code",
   "execution_count": 423,
   "metadata": {},
   "outputs": [
    {
     "name": "stdout",
     "output_type": "stream",
     "text": [
      "(6, 1)\n",
      "[[ 75.03707518]\n",
      " [ 80.28733265]\n",
      " [ 85.53759011]\n",
      " [ 90.78784758]\n",
      " [ 96.03810505]\n",
      " [101.28836251]]\n"
     ]
    }
   ],
   "source": [
    "# np.dot returns the dot product of two arrays\n",
    "# y_pred is taking the test set with x0 and beta to find the prediction\n",
    "y_pred = np.dot(x_test_with_bias, beta)\n",
    "print(y_pred.shape)\n",
    "print(y_pred)"
   ]
  },
  {
   "cell_type": "code",
   "execution_count": 424,
   "metadata": {},
   "outputs": [
    {
     "name": "stdout",
     "output_type": "stream",
     "text": [
      "RMSE = 4.4273693764384\n"
     ]
    }
   ],
   "source": [
    "rmse = np.sqrt(np.sum((y_test-y_pred)**2)/len(y_test))\n",
    "print(f'RMSE = {rmse}')"
   ]
  },
  {
   "cell_type": "code",
   "execution_count": 425,
   "metadata": {},
   "outputs": [
    {
     "name": "stdout",
     "output_type": "stream",
     "text": [
      "R2-score = 0.7849821936348271\n"
     ]
    }
   ],
   "source": [
    "r2score = 1 - (np.sum((y_test-y_pred)**2)/ np.sum((y_test-np.mean(y_test))**2))\n",
    "print(f'R2-score = {r2score}')"
   ]
  },
  {
   "cell_type": "markdown",
   "metadata": {},
   "source": [
    "#### Batch gradient descent \n",
    "- The **gradient** is first-order derivative of the function at the current point\n",
    "- We take the average of the gradients of all the training examples and then use that mean gradient to update our parameters. So that’s just one step of gradient descent in one epoch.\n",
    "- An **epoch** is one complete pass through the entire training dataset.\n",
    "    - In batch gradient descent, the algorithm processes the entire training dataset at once to compute the gradients and update the model's weights.\n",
    "    - After computing the gradients on the entire dataset, the weights are adjusted, which constitutes **one iteration**.\n",
    "    - An epoch in this case means that the algorithm has seen all the data once and performed a weight update based on the gradients computed for the entire dataset.\n",
    "- EX: If there are 5 examples in the training set, in ONE epoch ALL the examples are seen and ALL their gradients and model weights are calculated. A mean gradient is calculated, so only ONE model weight is updated.\n",
    "\n",
    "![batch gradient image](https://miro.medium.com/v2/resize:fit:1400/format:webp/1*P7z2BKhd0R-9uyn9ThDasA.png)"
   ]
  },
  {
   "cell_type": "code",
   "execution_count": 426,
   "metadata": {},
   "outputs": [
    {
     "name": "stdout",
     "output_type": "stream",
     "text": [
      "Epoch 1: beta = [[8.42455906], [27.38872639], delta = 27.92544980720592\n",
      "Epoch 506: Batch Gradient Descent Algo Converged\n",
      "Solution: beta = [[67.15658779], [5.2515783], delta = 9.898346743198778e-05\n"
     ]
    }
   ],
   "source": [
    "# initialize beta \n",
    "# [beta_0, beta_1]^T\n",
    "beta = np.random.random_sample(size = (X.shape[1],1))\n",
    "# beta_old will store beta scores from previous iterations\n",
    "beta_old = beta.copy()\n",
    "\n",
    "# num of sample\n",
    "n = X.shape[0]\n",
    "# learning rate \n",
    "alpha = 0.1\n",
    "reach_convergence = False\n",
    "delta = 0\n",
    "eps = 1e-4\n",
    "\n",
    "# other gradient update loop\n",
    "i = 0\n",
    "while reach_convergence == False:\n",
    "    gradient = (1/n)* np.dot(X.T , (np.dot(X,beta) - y_train))\n",
    "    beta = beta - alpha * gradient\n",
    "\n",
    "    #convergence test\n",
    "    delta = np.sqrt(np.sum( (beta_old - beta)**2 ) )\n",
    "    if delta < eps:\n",
    "        reach_convergence = True\n",
    "    if i % 1000 == 0:\n",
    "        print(f'Epoch {i+1}: beta = [{beta[0]}, {beta[1]}, delta = {delta}')\n",
    "    beta_old = beta\n",
    "    i = i + 1\n",
    "print(f'Epoch {i+1}: Batch Gradient Descent Algo Converged')\n",
    "print(f'Solution: beta = [{beta[0]}, {beta[1]}, delta = {delta}')\n",
    "\n",
    "#### Explanation\n",
    "# multiple epochs are being executed \n",
    "# in each Epoch the algorithm computes the gradient for the entire dataset and updates the model parameters once."
   ]
  },
  {
   "cell_type": "code",
   "execution_count": 427,
   "metadata": {},
   "outputs": [
    {
     "data": {
      "text/plain": [
       "(6, 1)"
      ]
     },
     "execution_count": 427,
     "metadata": {},
     "output_type": "execute_result"
    }
   ],
   "source": [
    "# now predict with it\n",
    "y_pred_batch = np.dot(x_test_with_bias,beta)\n",
    "y_pred_batch.shape"
   ]
  },
  {
   "cell_type": "code",
   "execution_count": 428,
   "metadata": {},
   "outputs": [
    {
     "name": "stdout",
     "output_type": "stream",
     "text": [
      "RMSE = 4.427394173972244\n"
     ]
    }
   ],
   "source": [
    "rmse = np.sqrt(np.sum((y_test-y_pred_batch)**2)/len(y_test))\n",
    "print(f'RMSE = {rmse}')"
   ]
  },
  {
   "cell_type": "code",
   "execution_count": 429,
   "metadata": {},
   "outputs": [
    {
     "name": "stdout",
     "output_type": "stream",
     "text": [
      "R2-score = 0.7849797850143535\n"
     ]
    }
   ],
   "source": [
    "r2score = 1 - (np.sum((y_test-y_pred_batch)**2)/ np.sum((y_test-np.mean(y_test))**2))\n",
    "print(f'R2-score = {r2score}')"
   ]
  },
  {
   "cell_type": "markdown",
   "metadata": {},
   "source": [
    "#### Stochastic Gradient Descent\n",
    "- Good for larger amounts of data\n",
    "- Instead of computing one mean gradient for the entire set, the gradient is computed and the model's weights are updated after processing each individual training example.\n",
    "- This means that for a dataset with 𝑁 training examples, one epoch consists of 𝑁 updates, with the model being updated after every single example. Each time the algorithm processes one example, it performs an iteration (or step)\n",
    "- EX: if my training data has 5 samples, in one epoch ALL 5 samples have been been seen. For each iteration within the epoch ONE exmple will be processed at time, where the gradient is computed and the model weight is adjusted. Since there are 5 samples, there are 5 iterations for one epoch. \n",
    "    \n"
   ]
  },
  {
   "cell_type": "code",
   "execution_count": 430,
   "metadata": {},
   "outputs": [],
   "source": [
    "\n",
    "# initialize beta\n",
    "# [beta_0, beta_1]^T\n",
    "beta = np.random.random_sample(size = (X.shape[1],1)) \n",
    "# this will store beta scores from previous iteration\n",
    "beta_old = beta.copy() "
   ]
  },
  {
   "cell_type": "code",
   "execution_count": 431,
   "metadata": {},
   "outputs": [],
   "source": [
    "#num of sample\n",
    "n = X.shape[0]\n",
    "#learning rate\n",
    "alpha = 0.01\n",
    "reach_convergence = False\n",
    "delta = 0 #distance between two betas\n",
    "eps = 1e-6"
   ]
  },
  {
   "cell_type": "code",
   "execution_count": 432,
   "metadata": {},
   "outputs": [],
   "source": [
    "#shuffle training set, or keep a record of shuffled indices\n",
    "indices = np.arange(n)\n",
    "np.random.shuffle(indices)"
   ]
  },
  {
   "cell_type": "code",
   "execution_count": 433,
   "metadata": {},
   "outputs": [
    {
     "name": "stdout",
     "output_type": "stream",
     "text": [
      "Step 1: beta = [[1.41934154], [1.81301041], delta = 1.8348617780993213\n",
      "Step 1001: beta = [[57.89087643], [7.30915419], delta = 0.04617884386134659\n",
      "Step 2001: beta = [[65.8335403], [5.61601369], delta = 0.051135991243141214\n",
      "Step 3001: beta = [[67.00481226], [5.17582887], delta = 0.014499038711758632\n",
      "Step 4001: beta = [[67.14490755], [5.05743748], delta = 0.017422911939821154\n",
      "Step 5001: beta = [[67.17401245], [5.11814515], delta = 0.18179575308774185\n",
      "Step 6001: beta = [[67.23231544], [5.11139814], delta = 0.11535217539014246\n",
      "Step 7001: beta = [[67.28628252], [5.56506261], delta = 0.045437453316713845\n",
      "Step 8001: beta = [[67.13136551], [5.24620406], delta = 0.19293244402330592\n",
      "Step 9001: beta = [[67.14682328], [5.28922556], delta = 0.04958476399011411\n",
      "Step 10001: beta = [[67.23950345], [5.5395758], delta = 0.1572625420123662\n",
      "Step 11001: beta = [[67.18551607], [5.14548963], delta = 0.07490292671341747\n",
      "Step 12001: beta = [[67.07367754], [4.86514581], delta = 0.11307370094570163\n",
      "Step 13001: beta = [[67.20054918], [5.2238882], delta = 0.1730404602840649\n",
      "Step 14001: beta = [[67.32770811], [5.69516658], delta = 0.21847463876971515\n",
      "Step 15001: beta = [[67.23448348], [5.5384843], delta = 0.03038079693611781\n",
      "Step 16001: beta = [[67.23025784], [5.17607502], delta = 0.2207857354494593\n",
      "Step 17001: beta = [[67.15499646], [5.19022968], delta = 0.06793629392360277\n",
      "Step 18001: beta = [[67.3174168], [5.40724823], delta = 0.05233812048816901\n",
      "Step 19001: beta = [[67.25221537], [5.29119144], delta = 0.03955621795890331\n",
      "Step 20001: beta = [[67.25537634], [5.23208621], delta = 0.12428892567110318\n",
      "Step 21001: beta = [[67.09192139], [5.13614336], delta = 0.14759865194624547\n",
      "Step 22001: beta = [[67.27651559], [5.48779769], delta = 0.13771638015603\n",
      "Step 23001: beta = [[67.27754471], [5.51158184], delta = 0.13293925414478452\n",
      "Step 24001: beta = [[67.30094251], [5.35844661], delta = 0.1643430939220544\n",
      "Step 25001: beta = [[67.10721187], [5.12071237], delta = 0.11282210742818263\n",
      "Step 26001: beta = [[67.17833429], [5.09232435], delta = 0.1224005944293061\n",
      "Step 27001: beta = [[67.20267699], [5.05858323], delta = 0.01600922377415468\n",
      "Step 28001: beta = [[67.27177066], [5.07400266], delta = 0.05273323406230363\n",
      "Step 29001: beta = [[67.29718089], [5.50087637], delta = 0.23344296950022825\n",
      "Step 30001: beta = [[67.25116168], [5.36204203], delta = 0.2633159402544267\n",
      "Step 31001: beta = [[67.09480465], [4.99627254], delta = 0.044606564089620264\n",
      "Step 32001: beta = [[67.24598552], [5.17179221], delta = 0.03741459440952142\n",
      "Step 33001: beta = [[67.16101611], [5.39911181], delta = 0.15239057281840077\n",
      "Step 34001: beta = [[67.21150831], [5.35123165], delta = 0.26743382527287135\n",
      "Step 35001: beta = [[67.01486109], [5.02584808], delta = 0.1448949701948548\n",
      "Step 36001: beta = [[67.25874314], [5.59346132], delta = 0.11760346930001395\n",
      "Step 37001: beta = [[67.22124474], [5.08555899], delta = 0.18253385116166843\n",
      "Step 38001: beta = [[67.24400198], [5.31585964], delta = 0.272848225694956\n",
      "Step 39001: beta = [[67.09367389], [5.06146926], delta = 0.14654633848684184\n",
      "Step 40001: beta = [[67.21051834], [5.48620997], delta = 0.24066228570292306\n",
      "Step 41001: beta = [[67.11695551], [4.96005872], delta = 0.024410164306864993\n",
      "Step 42001: beta = [[67.22122582], [5.18417463], delta = 0.22460587091140266\n",
      "Step 43001: beta = [[67.22877675], [5.26434247], delta = 0.08513733051513166\n",
      "Step 44001: beta = [[67.09882976], [4.88602434], delta = 0.10535342186405795\n",
      "Step 45001: beta = [[67.08328769], [4.89746257], delta = 0.05800079078836916\n",
      "Step 46001: beta = [[67.25058134], [5.54062656], delta = 0.029155444532143616\n",
      "Step 47001: beta = [[67.28538069], [5.49561352], delta = 0.04645266989852056\n",
      "Step 48001: beta = [[67.04513902], [4.87991996], delta = 0.23488340487997683\n",
      "Step 49001: beta = [[67.19792163], [5.2608917], delta = 0.03428882953386969\n",
      "Step 50001: beta = [[67.24363411], [5.2749263], delta = 0.12254860675177\n",
      "Step 51001: beta = [[67.2456433], [5.1238264], delta = 0.1920030446994117\n",
      "Step 52001: beta = [[67.17657023], [5.30379088], delta = 0.1361448108292684\n",
      "Step 53001: beta = [[67.1802303], [5.18353479], delta = 0.2134631636630178\n",
      "Step 54001: beta = [[67.16568061], [4.88957007], delta = 0.24013601613400357\n",
      "Step 55001: beta = [[67.28779266], [5.4512619], delta = 0.16028331882905872\n",
      "Step 56001: beta = [[67.16132995], [4.98212044], delta = 0.12064341871829991\n",
      "Step 57001: beta = [[67.19221149], [5.31179873], delta = 0.03962009566880773\n",
      "Step 58001: beta = [[67.22176172], [5.25053469], delta = 0.17128678262036817\n",
      "Step 59001: beta = [[67.28749843], [5.34388124], delta = 0.26511949736337614\n",
      "Step 60001: beta = [[67.16334553], [5.09135217], delta = 0.05404752347212537\n",
      "Step 61001: beta = [[67.26421718], [5.44510374], delta = 0.11405300891466315\n",
      "Step 62001: beta = [[67.17462672], [5.05727907], delta = 0.10604430238508183\n",
      "Step 63001: beta = [[67.30527195], [5.48320241], delta = 0.15836829580782\n",
      "Step 64001: beta = [[67.21618765], [5.60176155], delta = 0.11806816640498229\n",
      "Step 65001: beta = [[67.28564878], [5.59378664], delta = 0.08644781081641599\n",
      "Step 66001: beta = [[67.11412834], [5.13850744], delta = 0.12689434448333275\n",
      "Step 67001: beta = [[67.18145278], [5.25179074], delta = 0.032916675477538945\n",
      "Step 68001: beta = [[67.29866901], [5.63996196], delta = 0.07795207250551589\n",
      "Step 69001: beta = [[67.17489248], [5.18834589], delta = 0.14546495650851557\n",
      "Step 70001: beta = [[67.28195491], [5.31231496], delta = 0.026388609873435397\n",
      "Step 71001: beta = [[67.2710655], [5.27382099], delta = 0.049859881506812975\n",
      "Step 72001: beta = [[67.18828362], [5.26656765], delta = 0.16167314248655024\n",
      "Step 73001: beta = [[67.14878423], [5.26370276], delta = 0.23891649009472182\n",
      "Step 74001: beta = [[67.18610098], [5.26662565], delta = 0.03312783285060037\n",
      "Step 75001: beta = [[67.19213322], [5.18903965], delta = 0.0025686531632118986\n",
      "Step 76001: beta = [[67.28915486], [5.24095937], delta = 0.24075308008138027\n",
      "Step 77001: beta = [[67.265073], [5.35952679], delta = 0.040767421440660534\n",
      "Step 78001: beta = [[67.11119241], [5.14102784], delta = 0.26472747203163305\n",
      "Step 79001: beta = [[67.1407056], [5.11623328], delta = 0.1875524106511122\n",
      "Step 80001: beta = [[67.18650929], [5.28549966], delta = 0.0057076551986583535\n",
      "Step 81001: beta = [[67.17632133], [5.18542226], delta = 0.1449549996971165\n",
      "Step 81856, Epoch 4092: Stochastic Gradient Descent Algo Converged\n",
      "Solution: beta = [[67.29393136], [5.35305236], delta = 8.494616990408983e-07\n"
     ]
    }
   ],
   "source": [
    "#The gradient update loop\n",
    "i = 0\n",
    "iter = 0\n",
    "num_epochs = 0\n",
    "while reach_convergence == False:\n",
    "    #grab a sample\n",
    "    x_sample = X[indices[i],:].reshape(1,-1) #a row vector, not a column vector\n",
    "    #compute gradient\n",
    "    gradient =  np.dot(x_sample.T , (np.dot(x_sample,beta) - y_train[indices[i]]))\n",
    "    beta = beta - alpha * gradient\n",
    "\n",
    "    #convergence test\n",
    "    delta = np.sqrt(np.sum( (beta_old - beta)**2 ) )\n",
    "    if delta < eps:\n",
    "        reach_convergence = True\n",
    "    if iter % 1000 == 0:\n",
    "        print(f'Step {iter+1}: beta = [{beta[0]}, {beta[1]}, delta = {delta}')\n",
    "    beta_old = beta\n",
    "    i = i + 1\n",
    "    iter = iter + 1\n",
    "    if i >= n: # next epoch begins\n",
    "        np.random.shuffle(indices)\n",
    "        num_epochs = num_epochs + 1\n",
    "        i = 0 #reset\n",
    "print(f'Step {iter+1}, Epoch {num_epochs}: Stochastic Gradient Descent Algo Converged')\n",
    "print(f'Solution: beta = [{beta[0]}, {beta[1]}, delta = {delta}')\n",
    "\n",
    "#### Explanation\n",
    "# multiple epochs are being executed \n",
    "# in each Epoch the algorithm computes the gradient for EACH training sample and updates the model parameter EACH time."
   ]
  },
  {
   "cell_type": "code",
   "execution_count": 434,
   "metadata": {},
   "outputs": [
    {
     "data": {
      "text/plain": [
       "(6, 1)"
      ]
     },
     "execution_count": 434,
     "metadata": {},
     "output_type": "execute_result"
    }
   ],
   "source": [
    "#now predict with it\n",
    "y_pred_stochastic = np.dot(x_test_with_bias,beta)\n",
    "y_pred_stochastic.shape"
   ]
  },
  {
   "cell_type": "code",
   "execution_count": 435,
   "metadata": {},
   "outputs": [
    {
     "name": "stdout",
     "output_type": "stream",
     "text": [
      "RMSE = 4.878365132648673\n"
     ]
    }
   ],
   "source": [
    "rmse = np.sqrt(np.sum((y_test-y_pred_stochastic)**2)/len(y_test))\n",
    "print(f'RMSE = {rmse}')"
   ]
  },
  {
   "cell_type": "code",
   "execution_count": 436,
   "metadata": {},
   "outputs": [
    {
     "name": "stdout",
     "output_type": "stream",
     "text": [
      "R2-score = 0.7389452984224255\n"
     ]
    }
   ],
   "source": [
    "r2score = 1 - (np.sum((y_test-y_pred_stochastic)**2)/ np.sum((y_test-np.mean(y_test))**2))\n",
    "print(f'R2-score = {r2score}')"
   ]
  },
  {
   "cell_type": "markdown",
   "metadata": {},
   "source": [
    "#### Mini-batch Gradient Descent\n",
    "- In **mini-batch gradient descent**, the key difference is that instead of using the entire dataset (as in batch gradient descent) or a single example (as in stochastic gradient descent), the algorithm processes the data in small batches. \n",
    "1. Divide the dataset into smaller mini-batches (each batch containing a fixed number of examples).\n",
    "2. For each mini-batch, calculate the gradient based on the examples in that batch.\n",
    "3. Update the model parameters (weights) after each mini-batch using the computed gradient.\n",
    "4. Repeat this process for all mini-batches to complete one epoch (i.e., one pass through the entire dataset).\n",
    "5. Continue for multiple epochs until convergence.\n",
    "- If your dataset has 𝑁 examples and your batch size is 𝑏, there will be 𝑁/𝑏 updates (iterations) per epoch."
   ]
  },
  {
   "cell_type": "code",
   "execution_count": 437,
   "metadata": {},
   "outputs": [],
   "source": [
    "#initialize beta\n",
    "beta = np.random.random_sample(size = (X.shape[1],1)) #[beta_0, beta_1]^T\n",
    "beta_old = beta.copy() #this will store beta scores from previous iteration"
   ]
  },
  {
   "cell_type": "code",
   "execution_count": 438,
   "metadata": {},
   "outputs": [],
   "source": [
    "#num of sample\n",
    "n = X.shape[0]\n",
    "#learning rate\n",
    "alpha = 0.01\n",
    "reach_convergence = False\n",
    "delta = 0 #distance between two betas\n",
    "eps = 1e-3\n",
    "b = 5 #batch_size\n"
   ]
  },
  {
   "cell_type": "code",
   "execution_count": 439,
   "metadata": {},
   "outputs": [],
   "source": [
    "#shuffle training set, or keep a record of shuffled indices\n",
    "indices = np.arange(n)\n",
    "np.random.shuffle(indices)"
   ]
  },
  {
   "cell_type": "code",
   "execution_count": 440,
   "metadata": {},
   "outputs": [],
   "source": [
    "#create the batch of indices\n",
    "batch_of_indices = []\n",
    "if n%b == 0:\n",
    "    num_of_batches = int(n / b)\n",
    "else:\n",
    "    num_of_batches = n // b + 1\n",
    "idx = 0\n",
    "for _ in range(num_of_batches):\n",
    "    batch_of_indices.append(indices[idx:idx+b])\n",
    "    idx = idx + b"
   ]
  },
  {
   "cell_type": "code",
   "execution_count": 441,
   "metadata": {},
   "outputs": [
    {
     "name": "stdout",
     "output_type": "stream",
     "text": [
      "Step 1: beta = [[0.91699689], [2.63775682], delta = 2.139999861561428\n",
      "Step 1001: beta = [[57.56765065], [7.7719074], delta = 0.064206038056953\n",
      "Step 1336, Epoch 333: Mini-batch Gradient Descent Algo (with batch_size = 5) Converged\n",
      "Solution: beta = [[61.99836736], [6.60338483], delta = 0.00088241110094925\n"
     ]
    }
   ],
   "source": [
    "i = 0\n",
    "iter = 0\n",
    "num_epochs = 0\n",
    "while reach_convergence == False:\n",
    "    #grab a batch of samples\n",
    "    X_sample = X[batch_of_indices[i],:]\n",
    "    y_sample = y_train[batch_of_indices[i]].reshape(-1,1)\n",
    "    #print(f'X_sample.shape = {X_sample.shape}, y_sample.shape = {y_sample.shape}')\n",
    "    \n",
    "    #compute gradient\n",
    "    gradient = (1/b)* np.dot(X_sample.T , (np.dot(X_sample,beta) - y_sample))\n",
    "    beta = beta - alpha * gradient\n",
    "\n",
    "    #convergence test\n",
    "    delta = np.sqrt(np.sum( (beta_old - beta)**2 ) )\n",
    "    if delta < eps:\n",
    "        reach_convergence = True\n",
    "    if iter % 1000 == 0:\n",
    "        print(f'Step {iter+1}: beta = [{beta[0]}, {beta[1]}, delta = {delta}')\n",
    "    beta_old = beta\n",
    "    i = i + 1\n",
    "    iter = iter + 1\n",
    "    if i >= num_of_batches: # next epoch begins\n",
    "        np.random.shuffle(indices)\n",
    "        #create the batch of indices (again)\n",
    "        batch_of_indices = []\n",
    "        if n%b == 0:\n",
    "            num_of_batches = int(n / b)\n",
    "        else:\n",
    "            num_of_batches = n // b + 1\n",
    "        idx = 0\n",
    "        for _ in range(num_of_batches):\n",
    "            batch_of_indices.append(indices[idx:idx+b])\n",
    "            idx = idx + b\n",
    "        #increment epoch counter\n",
    "        num_epochs = num_epochs + 1\n",
    "        i = 0 #reset\n",
    "print(f'Step {iter+1}, Epoch {num_epochs}: Mini-batch Gradient Descent Algo (with batch_size = {b}) Converged')\n",
    "print(f'Solution: beta = [{beta[0]}, {beta[1]}, delta = {delta}')"
   ]
  },
  {
   "cell_type": "code",
   "execution_count": 442,
   "metadata": {},
   "outputs": [
    {
     "data": {
      "text/plain": [
       "(6, 1)"
      ]
     },
     "execution_count": 442,
     "metadata": {},
     "output_type": "execute_result"
    }
   ],
   "source": [
    "#now predict with it\n",
    "y_pred_minibatch = np.dot(x_test_with_bias,beta)\n",
    "y_pred_minibatch.shape"
   ]
  },
  {
   "cell_type": "code",
   "execution_count": 443,
   "metadata": {},
   "outputs": [
    {
     "name": "stdout",
     "output_type": "stream",
     "text": [
      "RMSE = 5.067492715672588\n"
     ]
    }
   ],
   "source": [
    "rmse = np.sqrt(np.sum((y_test-y_pred_minibatch)**2)/len(y_test))\n",
    "print(f'RMSE = {rmse}')"
   ]
  },
  {
   "cell_type": "code",
   "execution_count": 444,
   "metadata": {},
   "outputs": [
    {
     "name": "stdout",
     "output_type": "stream",
     "text": [
      "R2-score = 0.7183114596137243\n"
     ]
    }
   ],
   "source": [
    "\n",
    "r2score = 1 - (np.sum((y_test-y_pred_minibatch)**2)/ np.sum((y_test-np.mean(y_test))**2))\n",
    "print(f'R2-score = {r2score}')"
   ]
  },
  {
   "cell_type": "markdown",
   "metadata": {},
   "source": [
    "### 4. \n",
    "- Task 4. Build a regression model for dataset in dataset/w5-multi-regression-trainset.xlsx. Please note it's a multiple linear regression task. Using scikit-learn library allowed. Evaluate the model on the provided test set, dataset/w5-multi-regression-testset.xlsx in terms of RMSE and R2-score.\n",
    "\n",
    "![multi linear regression](https://miro.medium.com/v2/resize:fit:1400/format:webp/1*vEiTz-vWkN3ilQBF4KpLMA.png)"
   ]
  },
  {
   "cell_type": "code",
   "execution_count": 453,
   "metadata": {},
   "outputs": [
    {
     "data": {
      "text/html": [
       "<div>\n",
       "<style scoped>\n",
       "    .dataframe tbody tr th:only-of-type {\n",
       "        vertical-align: middle;\n",
       "    }\n",
       "\n",
       "    .dataframe tbody tr th {\n",
       "        vertical-align: top;\n",
       "    }\n",
       "\n",
       "    .dataframe thead th {\n",
       "        text-align: right;\n",
       "    }\n",
       "</style>\n",
       "<table border=\"1\" class=\"dataframe\">\n",
       "  <thead>\n",
       "    <tr style=\"text-align: right;\">\n",
       "      <th></th>\n",
       "      <th>x1</th>\n",
       "      <th>x2</th>\n",
       "      <th>x3</th>\n",
       "      <th>x4</th>\n",
       "      <th>y</th>\n",
       "    </tr>\n",
       "  </thead>\n",
       "  <tbody>\n",
       "    <tr>\n",
       "      <th>0</th>\n",
       "      <td>165349.20</td>\n",
       "      <td>136897.80</td>\n",
       "      <td>471784.10</td>\n",
       "      <td>New York</td>\n",
       "      <td>192261.83</td>\n",
       "    </tr>\n",
       "    <tr>\n",
       "      <th>1</th>\n",
       "      <td>162597.70</td>\n",
       "      <td>151377.59</td>\n",
       "      <td>443898.53</td>\n",
       "      <td>California</td>\n",
       "      <td>191792.06</td>\n",
       "    </tr>\n",
       "    <tr>\n",
       "      <th>2</th>\n",
       "      <td>153441.51</td>\n",
       "      <td>101145.55</td>\n",
       "      <td>407934.54</td>\n",
       "      <td>Florida</td>\n",
       "      <td>191050.39</td>\n",
       "    </tr>\n",
       "    <tr>\n",
       "      <th>3</th>\n",
       "      <td>144372.41</td>\n",
       "      <td>118671.85</td>\n",
       "      <td>383199.62</td>\n",
       "      <td>New York</td>\n",
       "      <td>182901.99</td>\n",
       "    </tr>\n",
       "    <tr>\n",
       "      <th>4</th>\n",
       "      <td>142107.34</td>\n",
       "      <td>91391.77</td>\n",
       "      <td>366168.42</td>\n",
       "      <td>Florida</td>\n",
       "      <td>166187.94</td>\n",
       "    </tr>\n",
       "  </tbody>\n",
       "</table>\n",
       "</div>"
      ],
      "text/plain": [
       "          x1         x2         x3          x4          y\n",
       "0  165349.20  136897.80  471784.10    New York  192261.83\n",
       "1  162597.70  151377.59  443898.53  California  191792.06\n",
       "2  153441.51  101145.55  407934.54     Florida  191050.39\n",
       "3  144372.41  118671.85  383199.62    New York  182901.99\n",
       "4  142107.34   91391.77  366168.42     Florida  166187.94"
      ]
     },
     "execution_count": 453,
     "metadata": {},
     "output_type": "execute_result"
    }
   ],
   "source": [
    "multi_df = pd.read_excel('datasets/w5-multi-regression-trainset.xlsx')\n",
    "multi_df.head()"
   ]
  },
  {
   "cell_type": "code",
   "execution_count": 454,
   "metadata": {},
   "outputs": [
    {
     "data": {
      "text/html": [
       "<div>\n",
       "<style scoped>\n",
       "    .dataframe tbody tr th:only-of-type {\n",
       "        vertical-align: middle;\n",
       "    }\n",
       "\n",
       "    .dataframe tbody tr th {\n",
       "        vertical-align: top;\n",
       "    }\n",
       "\n",
       "    .dataframe thead th {\n",
       "        text-align: right;\n",
       "    }\n",
       "</style>\n",
       "<table border=\"1\" class=\"dataframe\">\n",
       "  <thead>\n",
       "    <tr style=\"text-align: right;\">\n",
       "      <th></th>\n",
       "      <th>x1</th>\n",
       "      <th>x2</th>\n",
       "      <th>x3</th>\n",
       "      <th>x4</th>\n",
       "    </tr>\n",
       "  </thead>\n",
       "  <tbody>\n",
       "    <tr>\n",
       "      <th>0</th>\n",
       "      <td>165349.20</td>\n",
       "      <td>136897.80</td>\n",
       "      <td>471784.10</td>\n",
       "      <td>New York</td>\n",
       "    </tr>\n",
       "    <tr>\n",
       "      <th>1</th>\n",
       "      <td>162597.70</td>\n",
       "      <td>151377.59</td>\n",
       "      <td>443898.53</td>\n",
       "      <td>California</td>\n",
       "    </tr>\n",
       "    <tr>\n",
       "      <th>2</th>\n",
       "      <td>153441.51</td>\n",
       "      <td>101145.55</td>\n",
       "      <td>407934.54</td>\n",
       "      <td>Florida</td>\n",
       "    </tr>\n",
       "    <tr>\n",
       "      <th>3</th>\n",
       "      <td>144372.41</td>\n",
       "      <td>118671.85</td>\n",
       "      <td>383199.62</td>\n",
       "      <td>New York</td>\n",
       "    </tr>\n",
       "    <tr>\n",
       "      <th>4</th>\n",
       "      <td>142107.34</td>\n",
       "      <td>91391.77</td>\n",
       "      <td>366168.42</td>\n",
       "      <td>Florida</td>\n",
       "    </tr>\n",
       "  </tbody>\n",
       "</table>\n",
       "</div>"
      ],
      "text/plain": [
       "          x1         x2         x3          x4\n",
       "0  165349.20  136897.80  471784.10    New York\n",
       "1  162597.70  151377.59  443898.53  California\n",
       "2  153441.51  101145.55  407934.54     Florida\n",
       "3  144372.41  118671.85  383199.62    New York\n",
       "4  142107.34   91391.77  366168.42     Florida"
      ]
     },
     "execution_count": 454,
     "metadata": {},
     "output_type": "execute_result"
    }
   ],
   "source": [
    "multi_df_x = multi_df.drop(columns=['y'])\n",
    "multi_df_x.head()"
   ]
  },
  {
   "cell_type": "code",
   "execution_count": 455,
   "metadata": {},
   "outputs": [
    {
     "data": {
      "text/plain": [
       "0    192261.83\n",
       "1    191792.06\n",
       "2    191050.39\n",
       "3    182901.99\n",
       "4    166187.94\n",
       "Name: y, dtype: float64"
      ]
     },
     "execution_count": 455,
     "metadata": {},
     "output_type": "execute_result"
    }
   ],
   "source": [
    "multi_df_y = multi_df['y']\n",
    "multi_df_y.head()"
   ]
  },
  {
   "cell_type": "code",
   "execution_count": 456,
   "metadata": {},
   "outputs": [
    {
     "data": {
      "text/plain": [
       "((45, 4), (45,))"
      ]
     },
     "execution_count": 456,
     "metadata": {},
     "output_type": "execute_result"
    }
   ],
   "source": [
    "multi_df_x.shape,multi_df_y.shape"
   ]
  },
  {
   "cell_type": "code",
   "execution_count": 457,
   "metadata": {},
   "outputs": [
    {
     "name": "stdout",
     "output_type": "stream",
     "text": [
      "45\n",
      "(45, 1)\n"
     ]
    }
   ],
   "source": [
    "n = multi_df_x.shape[0]\n",
    "print(n)\n",
    "multi_df_y = multi_df_y.values.reshape(n,1)\n",
    "print(multi_df_y.shape)\n",
    "\n"
   ]
  },
  {
   "cell_type": "code",
   "execution_count": 458,
   "metadata": {},
   "outputs": [
    {
     "name": "stdout",
     "output_type": "stream",
     "text": [
      "          x1         x2         x3  Florida  New York\n",
      "0  165349.20  136897.80  471784.10      0.0       1.0\n",
      "1  162597.70  151377.59  443898.53      0.0       0.0\n",
      "2  153441.51  101145.55  407934.54      1.0       0.0\n",
      "3  144372.41  118671.85  383199.62      0.0       1.0\n",
      "4  142107.34   91391.77  366168.42      1.0       0.0\n",
      "(45, 5) (45, 1)\n"
     ]
    }
   ],
   "source": [
    "from sklearn.preprocessing import OneHotEncoder, StandardScaler\n",
    "\n",
    "states_col = multi_df['x4']\n",
    "other_col = multi_df_x.drop(columns='x4')\n",
    "\n",
    "# One-Hot Encode the states column\n",
    "enc = OneHotEncoder(handle_unknown='ignore',drop=\"first\", sparse_output=False)\n",
    "encoded_states = enc.fit_transform(multi_df[['x4']])\n",
    "multi_df_x['x4'] = encoded_states\n",
    "# print(encoded_states)\n",
    "# print(enc.categories_)\n",
    "\n",
    "enc_list = []\n",
    "states_list = []\n",
    "\n",
    "states_df = pd.DataFrame(encoded_states,columns=list(enc.categories_[0][1:]))\n",
    "states_list.append(states_df)\n",
    "states_dataset = pd.concat(states_list, axis=1)\n",
    "states_dataset.index = multi_df_x.index\n",
    "#drop the categorical feature columns\n",
    "multi_df_x = multi_df_x.drop(columns=['x4'] )\n",
    "\n",
    "multi_df_x = multi_df_x.join(states_dataset)\n",
    "print(multi_df_x.head())\n",
    "\n",
    "# Fit the model\n",
    "multi_model = LinearRegression()\n",
    "multi_model.fit(multi_df_x, multi_df_y)\n",
    "\n",
    "# # Check the shapes\n",
    "print(multi_df_x.shape, multi_df_y.shape)"
   ]
  },
  {
   "cell_type": "code",
   "execution_count": 463,
   "metadata": {},
   "outputs": [
    {
     "data": {
      "text/plain": [
       "array([[192261.83],\n",
       "       [191792.06],\n",
       "       [191050.39],\n",
       "       [182901.99],\n",
       "       [166187.94],\n",
       "       [156991.12],\n",
       "       [156122.51],\n",
       "       [155752.6 ],\n",
       "       [152211.77],\n",
       "       [149759.96],\n",
       "       [129917.04],\n",
       "       [126992.93],\n",
       "       [125370.37],\n",
       "       [124266.9 ],\n",
       "       [122776.86],\n",
       "       [118474.03],\n",
       "       [111313.02],\n",
       "       [110352.25],\n",
       "       [108733.99],\n",
       "       [108552.04],\n",
       "       [107404.34],\n",
       "       [105733.54],\n",
       "       [105008.31],\n",
       "       [103282.38],\n",
       "       [101004.64],\n",
       "       [ 99937.59],\n",
       "       [ 97483.56],\n",
       "       [ 97427.84],\n",
       "       [ 96778.92],\n",
       "       [ 96712.8 ],\n",
       "       [ 96479.51],\n",
       "       [ 90708.19],\n",
       "       [ 89949.14],\n",
       "       [ 81229.06],\n",
       "       [ 81005.76],\n",
       "       [ 78239.91],\n",
       "       [ 77798.83],\n",
       "       [ 71498.49],\n",
       "       [ 69758.98],\n",
       "       [ 65200.33],\n",
       "       [ 64926.08],\n",
       "       [ 49490.75],\n",
       "       [ 42559.73],\n",
       "       [ 35673.41],\n",
       "       [ 14681.4 ]])"
      ]
     },
     "execution_count": 463,
     "metadata": {},
     "output_type": "execute_result"
    }
   ],
   "source": [
    "multi_df_y"
   ]
  },
  {
   "cell_type": "code",
   "execution_count": 459,
   "metadata": {},
   "outputs": [
    {
     "name": "stdout",
     "output_type": "stream",
     "text": [
      "The regression model is y = 0.7951175952431949x + [46157.70891763]\n",
      "The regression model is y = -0.00019496299588349364x + [46157.70891763]\n",
      "The regression model is y = 0.02884688089979005x + [46157.70891763]\n",
      "The regression model is y = 881.9433731565586x + [46157.70891763]\n",
      "The regression model is y = 1114.8072212330208x + [46157.70891763]\n"
     ]
    }
   ],
   "source": [
    "mult_beta_1 = multi_model.coef_\n",
    "mult_beta_0 = multi_model.intercept_\n",
    "for coeff in mult_beta_1.flatten():\n",
    "    print(f'The regression model is y = {coeff}x + {mult_beta_0}')\n",
    "\n"
   ]
  },
  {
   "cell_type": "code",
   "execution_count": 469,
   "metadata": {},
   "outputs": [
    {
     "name": "stdout",
     "output_type": "stream",
     "text": [
      "Predicted value: [[177822.64837768]]\n"
     ]
    }
   ],
   "source": [
    "multi_sample = pd.DataFrame([[150000, 120000, 400000, 1.0, 0.0]],\n",
    "                             columns=['x1', 'x2', 'x3', 'Florida', 'New York'])\n",
    "multi_pred = multi_model.predict(multi_sample)\n",
    "print(f\"Predicted value: {multi_pred}\")"
   ]
  },
  {
   "cell_type": "code",
   "execution_count": 475,
   "metadata": {},
   "outputs": [],
   "source": [
    "multi_prediction = multi_model.predict(multi_df_x)"
   ]
  },
  {
   "cell_type": "code",
   "execution_count": 473,
   "metadata": {},
   "outputs": [
    {
     "data": {
      "text/plain": [
       "((45, 1), (1, 1))"
      ]
     },
     "execution_count": 473,
     "metadata": {},
     "output_type": "execute_result"
    }
   ],
   "source": [
    "multi_df_y.shape,multi_pred.shape"
   ]
  },
  {
   "cell_type": "code",
   "execution_count": 476,
   "metadata": {},
   "outputs": [
    {
     "name": "stdout",
     "output_type": "stream",
     "text": [
      "RMSE = 8435.61757372933 \n",
      "R2_score = 0.9574051683433741\n"
     ]
    }
   ],
   "source": [
    "print(f\"RMSE = {np.sqrt(mean_squared_error(multi_df_y,multi_prediction))} \")\n",
    "print(f\"R2_score = {r2_score(multi_df_y,multi_prediction)}\")"
   ]
  },
  {
   "cell_type": "markdown",
   "metadata": {},
   "source": [
    "### 5. \n",
    "- Task 5. Now, do the same as in task #4 without scikit-learn library. Apply the 4 solution approaches: (i) closed-form solution, (ii) batch gradient descent, (iii) stochastic gradient descent, (iv) mini-batch gradient descent. Don't forget to tune the hyper-parameters like learning rate.. Compare with results obtained in task #4."
   ]
  },
  {
   "cell_type": "code",
   "execution_count": 477,
   "metadata": {},
   "outputs": [],
   "source": [
    "multi_train_df = pd.read_excel('datasets/w5-simple-regression-trainset.xlsx', sheet_name=\"Sheet1\")\n",
    "multi_test_df = pd.read_excel('datasets/w5-simple-regression-testset.xlsx', sheet_name=\"Sheet1\")"
   ]
  },
  {
   "cell_type": "code",
   "execution_count": 478,
   "metadata": {},
   "outputs": [
    {
     "data": {
      "text/html": [
       "<div>\n",
       "<style scoped>\n",
       "    .dataframe tbody tr th:only-of-type {\n",
       "        vertical-align: middle;\n",
       "    }\n",
       "\n",
       "    .dataframe tbody tr th {\n",
       "        vertical-align: top;\n",
       "    }\n",
       "\n",
       "    .dataframe thead th {\n",
       "        text-align: right;\n",
       "    }\n",
       "</style>\n",
       "<table border=\"1\" class=\"dataframe\">\n",
       "  <thead>\n",
       "    <tr style=\"text-align: right;\">\n",
       "      <th></th>\n",
       "      <th>x</th>\n",
       "      <th>y</th>\n",
       "    </tr>\n",
       "  </thead>\n",
       "  <tbody>\n",
       "    <tr>\n",
       "      <th>0</th>\n",
       "      <td>1.5</td>\n",
       "      <td>69.00</td>\n",
       "    </tr>\n",
       "    <tr>\n",
       "      <th>1</th>\n",
       "      <td>2.5</td>\n",
       "      <td>80.33</td>\n",
       "    </tr>\n",
       "    <tr>\n",
       "      <th>2</th>\n",
       "      <td>3.5</td>\n",
       "      <td>78.50</td>\n",
       "    </tr>\n",
       "    <tr>\n",
       "      <th>3</th>\n",
       "      <td>4.5</td>\n",
       "      <td>89.80</td>\n",
       "    </tr>\n",
       "    <tr>\n",
       "      <th>4</th>\n",
       "      <td>5.5</td>\n",
       "      <td>92.00</td>\n",
       "    </tr>\n",
       "  </tbody>\n",
       "</table>\n",
       "</div>"
      ],
      "text/plain": [
       "     x      y\n",
       "0  1.5  69.00\n",
       "1  2.5  80.33\n",
       "2  3.5  78.50\n",
       "3  4.5  89.80\n",
       "4  5.5  92.00"
      ]
     },
     "execution_count": 478,
     "metadata": {},
     "output_type": "execute_result"
    }
   ],
   "source": [
    "multi_train_df.head()"
   ]
  },
  {
   "cell_type": "code",
   "execution_count": 479,
   "metadata": {},
   "outputs": [
    {
     "data": {
      "text/html": [
       "<div>\n",
       "<style scoped>\n",
       "    .dataframe tbody tr th:only-of-type {\n",
       "        vertical-align: middle;\n",
       "    }\n",
       "\n",
       "    .dataframe tbody tr th {\n",
       "        vertical-align: top;\n",
       "    }\n",
       "\n",
       "    .dataframe thead th {\n",
       "        text-align: right;\n",
       "    }\n",
       "</style>\n",
       "<table border=\"1\" class=\"dataframe\">\n",
       "  <thead>\n",
       "    <tr style=\"text-align: right;\">\n",
       "      <th></th>\n",
       "      <th>x</th>\n",
       "      <th>y</th>\n",
       "    </tr>\n",
       "  </thead>\n",
       "  <tbody>\n",
       "    <tr>\n",
       "      <th>0</th>\n",
       "      <td>1.5</td>\n",
       "      <td>69.00</td>\n",
       "    </tr>\n",
       "    <tr>\n",
       "      <th>1</th>\n",
       "      <td>2.5</td>\n",
       "      <td>80.33</td>\n",
       "    </tr>\n",
       "    <tr>\n",
       "      <th>2</th>\n",
       "      <td>3.5</td>\n",
       "      <td>78.50</td>\n",
       "    </tr>\n",
       "    <tr>\n",
       "      <th>3</th>\n",
       "      <td>4.5</td>\n",
       "      <td>89.80</td>\n",
       "    </tr>\n",
       "    <tr>\n",
       "      <th>4</th>\n",
       "      <td>5.5</td>\n",
       "      <td>92.00</td>\n",
       "    </tr>\n",
       "  </tbody>\n",
       "</table>\n",
       "</div>"
      ],
      "text/plain": [
       "     x      y\n",
       "0  1.5  69.00\n",
       "1  2.5  80.33\n",
       "2  3.5  78.50\n",
       "3  4.5  89.80\n",
       "4  5.5  92.00"
      ]
     },
     "execution_count": 479,
     "metadata": {},
     "output_type": "execute_result"
    }
   ],
   "source": [
    "multi_test_df.head()"
   ]
  },
  {
   "cell_type": "code",
   "execution_count": 480,
   "metadata": {},
   "outputs": [
    {
     "data": {
      "text/plain": [
       "((20, 2), (6, 2))"
      ]
     },
     "execution_count": 480,
     "metadata": {},
     "output_type": "execute_result"
    }
   ],
   "source": [
    "multi_train_df.shape,multi_test_df.shape"
   ]
  },
  {
   "cell_type": "code",
   "execution_count": null,
   "metadata": {},
   "outputs": [],
   "source": []
  }
 ],
 "metadata": {
  "kernelspec": {
   "display_name": "venv-machine-learning",
   "language": "python",
   "name": "python3"
  },
  "language_info": {
   "codemirror_mode": {
    "name": "ipython",
    "version": 3
   },
   "file_extension": ".py",
   "mimetype": "text/x-python",
   "name": "python",
   "nbconvert_exporter": "python",
   "pygments_lexer": "ipython3",
   "version": "3.9.7"
  }
 },
 "nbformat": 4,
 "nbformat_minor": 2
}
